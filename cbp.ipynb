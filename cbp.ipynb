{
 "cells": [
  {
   "cell_type": "code",
   "execution_count": 1,
   "metadata": {},
   "outputs": [],
   "source": [
    "import rebound\n",
    "import reboundx\n",
    "import sys\n",
    "sys.path.append('../systemsounds')\n",
    "import systemsounds as ss\n",
    "import numpy as np\n",
    "from random import random, uniform, seed\n",
    "from systemsounds import EventRecorder\n",
    "import scipy as sp\n",
    "from math import *\n",
    "import pandas as pd"
   ]
  },
  {
   "cell_type": "code",
   "execution_count": 47,
   "metadata": {},
   "outputs": [
    {
     "data": {
      "image/png": "[encoded data removed]",
      "text/plain": [
       "<matplotlib.figure.Figure at 0x1171436d8>"
      ]
     },
     "metadata": {},
     "output_type": "display_data"
    }
   ],
   "source": [
    "# Stellar tracks fits: L(M) and R(M)\n",
    "\n",
    "# Read the stellar tracks file with pandas. This is the only file needed\n",
    "tracksdf = pd.read_table('./startrackextended.txt', header=0,delimiter=r\"\\s+\")\n",
    "\n",
    "\n",
    "# Fit log_L then log_R as a function of log(mass) using polynomials\n",
    "FitLfuncM = np.polyfit(np.log10(tracksdf['star_mass']), tracksdf['log_L'], 16)\n",
    "FitRfuncM = np.polyfit(np.log10(tracksdf['star_mass']), tracksdf['log_R'], 20)\n",
    "\n",
    "\n",
    "# Convenience function to easily call the polynomials as functions \n",
    "# These are the functions you will need to use\n",
    "# example: Luminosity for a 1 solar mass star: PolyLfuncM(np.log10(1.))\n",
    "# It hence takes logs and output logs\n",
    "PolyLfuncM = np.poly1d(FitLfuncM)\n",
    "PolyRfuncM = np.poly1d(FitRfuncM)\n",
    "\n",
    "\n",
    "\n",
    "############################## PLOT ############################\n",
    "# stellar mass array\n",
    "arraytest = np.linspace(0.1,180.,len(tracksdf['log_L']))\n",
    "\n",
    "# Compare fit and data for L func of M\n",
    "plt.plot(np.log10(tracksdf['star_mass']),tracksdf['log_L'], color='black')\n",
    "plt.plot(np.log10(arraytest),PolyLfuncM(np.log10(arraytest).reshape((len(arraytest),1))), color='green')\n",
    "\n",
    "# Compare fit and data for R func of M\n",
    "plt.plot(np.log10(tracksdf['star_mass']),tracksdf['log_R'], color='blue')\n",
    "plt.plot(np.log10(arraytest),PolyRfuncM(np.log10(arraytest).reshape((len(arraytest),1))), color='red')\n",
    "\n",
    "plt.show()\n",
    "############################## END sPLOT ############################\n",
    "\n"
   ]
  },
  {
   "cell_type": "code",
   "execution_count": 2,
   "metadata": {},
   "outputs": [],
   "source": [
    "def acrit(sim): # Holman & Wiegert 99 for P type circumbinary\n",
    "    ps = sim.particles\n",
    "    mu = ps[1].m/(ps[1].m+ps[0].m)\n",
    "    return 1.60 + 5.10*ps[1].e -2.22*ps[1].e**2 + 4.12*mu -4.27*ps[1].e*mu -5.09*mu**2 + 4.61*ps[1].e**2*mu**2 \n",
    "\n",
    "def stop(reb_sim, reb_col):\n",
    "    reb_sim.contents._status = 6\n",
    "    return 0\n",
    "\n",
    "def distance(sim, i1, i2):\n",
    "    ps = sim.particles\n",
    "    diff = ps[i2]-ps[i1]\n",
    "    return np.sqrt(diff.x**2 + diff.y**2 + diff.z**2)\n",
    "\n",
    "class mindRecorder(EventRecorder):\n",
    "    def __init__(self, sim, starindex):\n",
    "        self.starindex = starindex\n",
    "        self.mind = 0.99*min(distance(sim, 0, 2), distance(sim, 1,2)) # needs to start less than initial value\n",
    "        self.mind0 = self.mind\n",
    "        super(mindRecorder, self).__init__(sim, lambda sim, i: self.mind-distance(sim, 2, self.starindex), targets=[None])\n",
    "    def process_event(self, event_sim, target=None):\n",
    "        self.mind = distance(event_sim, 2, self.starindex)\n",
    "        super(mindRecorder, self).process_event(event_sim, target)"
   ]
  },
  {
   "cell_type": "code",
   "execution_count": 3,
   "metadata": {},
   "outputs": [],
   "source": [
    "def runbinary(randseed=0, mratio=None, ebinary=None):\n",
    "    seed(randseed)\n",
    "    if mratio is None:\n",
    "        mratio = random()\n",
    "    if ebinary is None:\n",
    "        ebinary = 0.9*random()\n",
    "        \n",
    "    sim = rebound.Simulation()\n",
    "    sim.G = 4*np.pi**2\n",
    "    Rmin = 1.e-2\n",
    "    sim.add(m=1., r=Rmin)\n",
    "    sim.add(m=mratio, a=1., e=ebinary, r=Rmin, pomega=random()*2.*np.pi, f=random()*2.*np.pi)\n",
    "    sim.move_to_com()\n",
    "    ps = sim.particles\n",
    "    sim.add(a=1.2*acrit(sim), f=random()*2.*np.pi)\n",
    "    \n",
    "    sim.exit_max_distance= 100.\n",
    "    sim.collision=\"direct\"\n",
    "    sim.collision_resolve = stop\n",
    "\n",
    "    rebx = reboundx.Extras(sim)\n",
    "    rebx.add(\"modify_orbits_forces\")\n",
    "    ps[2].params['tau_a'] = -1000*ps[2].P\n",
    "    \n",
    "    recorder1 = mindRecorder(sim, 0)\n",
    "    recorder2 = mindRecorder(sim, 1)\n",
    "    tmax=1.e4\n",
    "    \n",
    "    code=0\n",
    "    try:\n",
    "        sim.integrate(tmax)\n",
    "    except KeyboardInterrupt:\n",
    "        code=1\n",
    "    except rebound.Escape:\n",
    "        code=2\n",
    "    \n",
    "    return recorder1.mind, recorder2.mind, recorder1.mind0, mratio, ebinary, code"
   ]
  },
  {
   "cell_type": "code",
   "execution_count": null,
   "metadata": {},
   "outputs": [],
   "source": [
    "results = []"
   ]
  },
  {
   "cell_type": "code",
   "execution_count": 18,
   "metadata": {},
   "outputs": [
    {
     "name": "stdout",
     "output_type": "stream",
     "text": [
      "CPU times: user 21min 32s, sys: 7.44 s, total: 21min 40s\n",
      "Wall time: 21min 56s\n"
     ]
    }
   ],
   "source": [
    "%%time\n",
    "for i in range(50):\n",
    "    results.append(runbinary(i))"
   ]
  },
  {
   "cell_type": "code",
   "execution_count": 22,
   "metadata": {},
   "outputs": [
    {
     "data": {
      "text/plain": [
       "100"
      ]
     },
     "execution_count": 22,
     "metadata": {},
     "output_type": "execute_result"
    }
   ],
   "source": [
    "len(results)"
   ]
  },
  {
   "cell_type": "code",
   "execution_count": 23,
   "metadata": {},
   "outputs": [],
   "source": [
    "a = np.array(results)"
   ]
  },
  {
   "cell_type": "code",
   "execution_count": 45,
   "metadata": {},
   "outputs": [
    {
     "data": {
      "text/plain": [
       "array([False, False, False, False, False, False, False, False, False,\n",
       "       False, False, False, False, False, False, False, False, False,\n",
       "       False, False, False, False, False, False, False, False, False,\n",
       "       False, False, False, False, False, False, False, False, False,\n",
       "       False, False, False, False, False, False, False, False, False,\n",
       "       False, False, False, False, False, False, False, False, False,\n",
       "       False, False, False, False, False, False, False, False, False,\n",
       "       False, False, False, False, False, False, False, False, False,\n",
       "       False, False, False, False, False, False, False, False, False,\n",
       "       False, False, False, False, False, False, False, False, False,\n",
       "       False, False, False, False, False, False, False, False, False, False], dtype=bool)"
      ]
     },
     "execution_count": 45,
     "metadata": {},
     "output_type": "execute_result"
    }
   ],
   "source": [
    "a.T[1]/a.T[2] >= 1"
   ]
  },
  {
   "cell_type": "code",
   "execution_count": 24,
   "metadata": {},
   "outputs": [
    {
     "data": {
      "text/plain": [
       "array([ 2.,  2.,  2.,  2.,  2.,  2.,  2.,  2.,  2.,  2.,  2.,  2.,  2.,\n",
       "        2.,  2.,  2.,  2.,  2.,  2.,  2.,  2.,  2.,  2.,  2.,  2.,  2.,\n",
       "        2.,  2.,  2.,  2.,  2.,  2.,  2.,  2.,  2.,  2.,  2.,  2.,  2.,\n",
       "        2.,  2.,  2.,  2.,  2.,  2.,  2.,  2.,  2.,  2.,  2.,  2.,  2.,\n",
       "        1.,  2.,  2.,  2.,  2.,  2.,  2.,  2.,  2.,  2.,  2.,  2.,  2.,\n",
       "        2.,  2.,  2.,  2.,  2.,  2.,  2.,  2.,  2.,  2.,  2.,  2.,  2.,\n",
       "        2.,  2.,  2.,  2.,  2.,  2.,  2.,  2.,  2.,  2.,  2.,  2.,  2.,\n",
       "        2.,  2.,  2.,  2.,  2.,  2.,  2.,  2.,  2.])"
      ]
     },
     "execution_count": 24,
     "metadata": {},
     "output_type": "execute_result"
    }
   ],
   "source": [
    "a.T[-1]"
   ]
  },
  {
   "cell_type": "code",
   "execution_count": 27,
   "metadata": {},
   "outputs": [
    {
     "data": {
      "text/plain": [
       "array([ 1.78329977,  1.52557641,  1.87137137,  1.61715802,  1.51593435,\n",
       "        1.55447933,  2.0318769 ,  1.49197215,  1.47389207,  1.86556759,\n",
       "        1.78329977,  1.52557641,  1.87137137,  1.61715802,  1.51593435,\n",
       "        1.55447933,  2.0318769 ,  1.49197215,  1.47389207,  1.86556759,\n",
       "        1.5571218 ,  1.73793254,  1.58650227,  1.7635907 ,  2.45637413,\n",
       "        0.86173634,  1.67033211,  1.76815646,  2.15946278,  1.65666711,\n",
       "        1.98389217,  1.80264726,  1.19839629,  1.53667233,  1.71625098,\n",
       "        1.78736884,  1.57184552,  1.37976748,  0.95539387,  1.54733047,\n",
       "        2.0864506 ,  1.02912888,  1.65990233,  1.90729919,  1.90540263,\n",
       "        1.61849337,  1.88943365,  1.33621662,  1.5688969 ,  2.2054188 ,\n",
       "        1.78329977,  1.52557641,  2.88160079,  1.61715802,  1.51593435,\n",
       "        1.55447933,  2.0318769 ,  1.49197215,  1.47389207,  1.86556759,\n",
       "        1.5571218 ,  1.73793254,  1.58650227,  1.7635907 ,  2.45637413,\n",
       "        0.86173634,  1.67033211,  1.76815646,  2.15946278,  1.65666711,\n",
       "        1.98389217,  1.80264726,  1.19839629,  1.53667233,  1.71625098,\n",
       "        1.78736884,  1.57184552,  1.37976748,  0.95539387,  1.54733047,\n",
       "        2.0864506 ,  1.02912888,  1.65990233,  1.90729919,  1.90540263,\n",
       "        1.61849337,  1.88943365,  1.33621662,  1.5688969 ,  2.2054188 ,\n",
       "        1.63403586,  1.71705875,  1.16531918,  1.53777156,  1.69413337,\n",
       "        1.7613448 ,  1.3651613 ,  1.79091455,  1.50912516,  1.5110751 ])"
      ]
     },
     "execution_count": 27,
     "metadata": {},
     "output_type": "execute_result"
    }
   ],
   "source": [
    "a.T[0]"
   ]
  },
  {
   "cell_type": "code",
   "execution_count": 32,
   "metadata": {},
   "outputs": [
    {
     "data": {
      "text/plain": [
       "array([ 2.17861947,  1.12755222,  1.34604282,  1.43641985,  0.94392675,\n",
       "        2.37178323,  1.74481514,  0.75306337,  0.96521088,  1.76644693,\n",
       "        2.17861947,  1.12755222,  1.34604282,  1.43641985,  0.94392675,\n",
       "        2.37178323,  1.74481514,  0.75306337,  0.96521088,  1.76644693,\n",
       "        1.69885469,  1.52919249,  1.56072743,  1.56703334,  1.11293799,\n",
       "        1.20627323,  1.5997457 ,  1.3811392 ,  1.48006539,  2.3660353 ,\n",
       "        1.9536595 ,  1.70452908,  1.25062143,  2.38322869,  2.50359668,\n",
       "        1.37251911,  1.35826948,  2.03073767,  0.70864407,  1.52266633,\n",
       "        1.54349562,  0.17733924,  0.79880511,  2.06235103,  1.5153764 ,\n",
       "        1.94602356,  1.93353632,  1.18948774,  1.26748676,  1.22215989,\n",
       "        2.17861947,  1.12755222,  2.89054866,  1.43641985,  0.94392675,\n",
       "        2.37178323,  1.74481514,  0.75306337,  0.96521088,  1.76644693,\n",
       "        1.69885469,  1.52919249,  1.56072743,  1.56703334,  1.11293799,\n",
       "        1.20627323,  1.5997457 ,  1.3811392 ,  1.48006539,  2.3660353 ,\n",
       "        1.9536595 ,  1.70452908,  1.25062143,  2.38322869,  2.50359668,\n",
       "        1.37251911,  1.35826948,  2.03073767,  0.70864407,  1.52266633,\n",
       "        1.54349562,  0.17733924,  0.79880511,  2.06235103,  1.5153764 ,\n",
       "        1.94602356,  1.93353632,  1.18948774,  1.26748676,  1.22215989,\n",
       "        1.68784045,  1.50239401,  1.35800908,  1.35520126,  1.46749281,\n",
       "        1.63153219,  1.01569154,  1.28760984,  1.2586405 ,  0.78229124])"
      ]
     },
     "execution_count": 32,
     "metadata": {},
     "output_type": "execute_result"
    }
   ],
   "source": [
    "a.T[1]"
   ]
  },
  {
   "cell_type": "code",
   "execution_count": 38,
   "metadata": {},
   "outputs": [
    {
     "ename": "ValueError",
     "evalue": "too many values to unpack (expected 2)",
     "output_type": "error",
     "traceback": [
      "\u001b[0;31m---------------------------------------------------------------------------\u001b[0m",
      "\u001b[0;31mValueError\u001b[0m                                Traceback (most recent call last)",
      "\u001b[0;32m<ipython-input-38-5e99a7c2ed6e>\u001b[0m in \u001b[0;36m<module>\u001b[0;34m()\u001b[0m\n\u001b[1;32m      1\u001b[0m \u001b[0mget_ipython\u001b[0m\u001b[0;34m(\u001b[0m\u001b[0;34m)\u001b[0m\u001b[0;34m.\u001b[0m\u001b[0mrun_line_magic\u001b[0m\u001b[0;34m(\u001b[0m\u001b[0;34m'matplotlib'\u001b[0m\u001b[0;34m,\u001b[0m \u001b[0;34m'inline'\u001b[0m\u001b[0;34m)\u001b[0m\u001b[0;34m\u001b[0m\u001b[0m\n\u001b[1;32m      2\u001b[0m \u001b[0;32mimport\u001b[0m \u001b[0mmatplotlib\u001b[0m\u001b[0;34m.\u001b[0m\u001b[0mpyplot\u001b[0m \u001b[0;32mas\u001b[0m \u001b[0mplt\u001b[0m\u001b[0;34m\u001b[0m\u001b[0m\n\u001b[0;32m----> 3\u001b[0;31m \u001b[0mfig\u001b[0m\u001b[0;34m,\u001b[0m \u001b[0max\u001b[0m \u001b[0;34m=\u001b[0m \u001b[0mplt\u001b[0m\u001b[0;34m.\u001b[0m\u001b[0mhist\u001b[0m\u001b[0;34m(\u001b[0m\u001b[0mnp\u001b[0m\u001b[0;34m.\u001b[0m\u001b[0mconcatenate\u001b[0m\u001b[0;34m(\u001b[0m\u001b[0;34m(\u001b[0m\u001b[0ma\u001b[0m\u001b[0;34m.\u001b[0m\u001b[0mT\u001b[0m\u001b[0;34m[\u001b[0m\u001b[0;36m0\u001b[0m\u001b[0;34m]\u001b[0m\u001b[0;34m,\u001b[0m \u001b[0ma\u001b[0m\u001b[0;34m.\u001b[0m\u001b[0mT\u001b[0m\u001b[0;34m[\u001b[0m\u001b[0;36m1\u001b[0m\u001b[0;34m]\u001b[0m\u001b[0;34m)\u001b[0m\u001b[0;34m)\u001b[0m\u001b[0;34m,\u001b[0m \u001b[0mbins\u001b[0m\u001b[0;34m=\u001b[0m\u001b[0;36m20\u001b[0m\u001b[0;34m)\u001b[0m\u001b[0;34m\u001b[0m\u001b[0m\n\u001b[0m",
      "\u001b[0;31mValueError\u001b[0m: too many values to unpack (expected 2)"
     ]
    },
    {
     "data": {
      "image/png": "[encoded data removed]",
      "text/plain": [
       "<matplotlib.figure.Figure at 0x11594fbe0>"
      ]
     },
     "metadata": {},
     "output_type": "display_data"
    }
   ],
   "source": [
    "%matplotlib inline\n",
    "import matplotlib.pyplot as plt\n",
    "fig, ax = plt.hist(np.concatenate((a.T[0], a.T[1])), bins=20)"
   ]
  },
  {
   "cell_type": "code",
   "execution_count": 54,
   "metadata": {},
   "outputs": [],
   "source": [
    "def get_a_binary(M_primary):\n",
    "    return 1.\n",
    "\n",
    "def get_a_Roche(Mstar):\n",
    "    rho_sun = 1.4\n",
    "    rho_body = 3\n",
    "    Rsun = 5e-3\n",
    "    return 1.26*Mstar**(1./3.)*(rho_sun/rho_body)**(1./3.)*Rsun\n",
    "\n",
    "def get_Rstar(Mstar):\n",
    "    Rsun = 5.e-3\n",
    "    return 10**PolyRfuncM(np.log10(Mstar))*Rsun\n",
    "\n",
    "get_a_binary = np.vectorize(get_a_binary)\n",
    "get_a_Roche = np.vectorize(get_a_Roche)\n",
    "get_Rstar = np.vectorize(get_Rstar)"
   ]
  },
  {
   "cell_type": "code",
   "execution_count": 80,
   "metadata": {},
   "outputs": [],
   "source": []
  },
  {
   "cell_type": "code",
   "execution_count": 85,
   "metadata": {},
   "outputs": [],
   "source": [
    "typemasses = {'VLM':[1.e-3, 0.1], 'M':[0.1, 0.6], 'FGK':[0.6, 1.4], 'A':[1.4, 6.5], 'OB':[6.5, 100]}\n",
    "\n",
    "def get_type(M):\n",
    "    for key, value in typemasses.items():\n",
    "        if M > value[0] and M < value[1]:\n",
    "            return key\n",
    "    return np.nan\n",
    "\n",
    "def sample_mass(startype):\n",
    "    Mmin, Mmax = typemasses[startype]\n",
    "    return Mmin + (Mmax-Mmin)*random()"
   ]
  },
  {
   "cell_type": "code",
   "execution_count": 88,
   "metadata": {},
   "outputs": [
    {
     "data": {
      "text/plain": [
       "'OB'"
      ]
     },
     "execution_count": 88,
     "metadata": {},
     "output_type": "execute_result"
    }
   ],
   "source": [
    "get_type(35)"
   ]
  },
  {
   "cell_type": "code",
   "execution_count": null,
   "metadata": {},
   "outputs": [],
   "source": [
    "if M <= 0.1:\n",
    "   s_type = ('VLM')\n",
    "   a_avg = 4.5#average separation (au)\n",
    "   a_sigma = 0.333\n",
    "elif M > 0.1 and M <= 0.6:\n",
    "   s_type = ('Mstar')\n",
    "   a_avg = 5.3#average separation (au)\n",
    "   a_sigma = 0.867\n",
    "elif M > 0.6 and M <= 1.4:\n",
    "   s_type = ('FKG')\n",
    "   a_avg = 45#average separation (au)\n",
    "   a_sigma = 1.533\n",
    "elif M > 1.4 and M <= 6.5:\n",
    "   s_type = ('A stars')\n",
    "   bimodal = 1\n",
    "   a_avg = 350\n",
    "   a_avg2 = 0.2\n",
    "   a_sigma = 1.533\n",
    "   a_sigma2 = 1\n",
    "elif M > 6.5 and M <= 16:\n",
    "   s_type = ('EarlyB')\n",
    "   powerlaw = 1\n",
    "   a_avg = 0.2\n",
    "   a_sigma = 1.533\n",
    "elif M > 16:\n",
    "   s_type = ('Ostar')\n",
    "   powerlaw = 1\n",
    "   a_avg = 0.2\n",
    "   a_sigma = 0.1677"
   ]
  },
  {
   "cell_type": "code",
   "execution_count": 60,
   "metadata": {},
   "outputs": [
    {
     "data": {
      "text/plain": [
       "0.39349795593439396"
      ]
     },
     "execution_count": 60,
     "metadata": {},
     "output_type": "execute_result"
    }
   ],
   "source": [
    "def sample(randseed=0):\n",
    "    seed(randseed)\n",
    "    Mmin = 0.1\n",
    "    Mmax = 0.5\n",
    "    M = Mmin + (Mmax-Mmin)*random()\n",
    "    a_bin = get_a_binary(M)\n",
    "    a_Roche1 = get_a_Roche(M)\n",
    "    a_Roche2 = get_a_Roche(M*q)\n",
    "    Rstar1 = get_Rstar(M)\n",
    "    Rstar2 = get_Rstar(M*q)\n",
    "\n",
    "    row = a[np.random.randint(0, a.shape[0])]\n",
    "    dmin1 = row[0]\n",
    "    dmin2 = row[1]\n",
    "    q = row[3]\n",
    "\n",
    "    dmin1Roche = dmin1*a_bin/a_Roche1\n",
    "    dmin2Roche = dmin2*a_bin/a_Roche2\n",
    "    dmin1R = dmin1*a_bin/Rstar1\n",
    "    dmin2R = dmin2*a_bin/Rstar2"
   ]
  },
  {
   "cell_type": "code",
   "execution_count": 210,
   "metadata": {},
   "outputs": [
    {
     "data": {
      "image/png": "[encoded data removed]",
      "text/plain": [
       "<matplotlib.figure.Figure at 0x118f9bb00>"
      ]
     },
     "metadata": {},
     "output_type": "display_data"
    }
   ],
   "source": [
    "def IMFChab(M):\n",
    "    IMFChab = 0.086*(1./(np.log(10)*M))*np.exp(-((np.log10(M)-np.log10(0.22))**(2.))/(2.*0.57**2.))/89.450710273055023\n",
    "    return IMFChab\n",
    "\n",
    "starmasses = np.linspace(0.1,100,100000)\n",
    "IMF = IMFChab(starmasses)\n",
    "plt.plot(starmasses, IMF)\n",
    "plt.xscale('log')\n",
    "plt.show()"
   ]
  },
  {
   "cell_type": "code",
   "execution_count": 211,
   "metadata": {},
   "outputs": [
    {
     "data": {
      "text/plain": [
       "1.0000000000000004"
      ]
     },
     "execution_count": 211,
     "metadata": {},
     "output_type": "execute_result"
    }
   ],
   "source": [
    "IMF.sum()"
   ]
  },
  {
   "cell_type": "code",
   "execution_count": 212,
   "metadata": {},
   "outputs": [
    {
     "data": {
      "text/plain": [
       "0.0069532433007887112"
      ]
     },
     "execution_count": 212,
     "metadata": {},
     "output_type": "execute_result"
    }
   ],
   "source": [
    "IMF[0]+IMF[1]"
   ]
  },
  {
   "cell_type": "code",
   "execution_count": 213,
   "metadata": {},
   "outputs": [
    {
     "data": {
      "image/png": "[encoded data removed]",
      "text/plain": [
       "<matplotlib.figure.Figure at 0x119182f98>"
      ]
     },
     "metadata": {},
     "output_type": "display_data"
    }
   ],
   "source": [
    "IMFcdf = np.cumsum(IMF)\n",
    "plt.plot(starmasses, IMFcdf)\n",
    "plt.xscale('log')\n",
    "plt.show()"
   ]
  },
  {
   "cell_type": "code",
   "execution_count": 214,
   "metadata": {},
   "outputs": [
    {
     "data": {
      "text/plain": [
       "0.0069532433007887112"
      ]
     },
     "execution_count": 214,
     "metadata": {},
     "output_type": "execute_result"
    }
   ],
   "source": [
    "IMFcdf[1]"
   ]
  },
  {
   "cell_type": "code",
   "execution_count": 239,
   "metadata": {},
   "outputs": [],
   "source": [
    "from scipy.interpolate import interp1d\n",
    "f = interp1d(IMFcdf, starmasses)"
   ]
  },
  {
   "cell_type": "code",
   "execution_count": 222,
   "metadata": {
    "scrolled": true
   },
   "outputs": [
    {
     "data": {
      "image/png": "[encoded data removed]",
      "text/plain": [
       "<matplotlib.figure.Figure at 0x117312860>"
      ]
     },
     "metadata": {},
     "output_type": "display_data"
    }
   ],
   "source": [
    "plt.plot(starmasses, IMFcdf)\n",
    "plt.plot(starmasses, f(starmasses))\n",
    "plt.xscale('log')\n",
    "plt.show()"
   ]
  },
  {
   "cell_type": "code",
   "execution_count": 230,
   "metadata": {},
   "outputs": [
    {
     "data": {
      "text/plain": [
       "array([ 0.00348604,  0.00695324,  0.01040169, ...,  1.        ,\n",
       "        1.        ,  1.        ])"
      ]
     },
     "execution_count": 230,
     "metadata": {},
     "output_type": "execute_result"
    }
   ],
   "source": [
    "IMFcdf"
   ]
  },
  {
   "cell_type": "code",
   "execution_count": 209,
   "metadata": {},
   "outputs": [
    {
     "name": "stdout",
     "output_type": "stream",
     "text": [
      "0.9560342718892494 0.2404\n"
     ]
    },
    {
     "data": {
      "text/plain": [
       "2.5016200162001621"
      ]
     },
     "execution_count": 209,
     "metadata": {},
     "output_type": "execute_result"
    }
   ],
   "source": [
    "sample_from_IMF(2)"
   ]
  },
  {
   "cell_type": "code",
   "execution_count": 205,
   "metadata": {},
   "outputs": [
    {
     "data": {
      "text/plain": [
       "1.0760327603276034"
      ]
     },
     "execution_count": 205,
     "metadata": {},
     "output_type": "execute_result"
    }
   ],
   "source": [
    "starmasses[977]"
   ]
  },
  {
   "cell_type": "code",
   "execution_count": 246,
   "metadata": {},
   "outputs": [],
   "source": [
    "def find_nearest(array,value):\n",
    "    return np.abs(array-value).argmin()\n",
    "\n",
    "def sample_from_IMF(randseed=0):\n",
    "    seed(randseed)\n",
    "    val = random()\n",
    "    idx = find_nearest(IMFcdf, val)\n",
    "    #print(val, idx/10000)\n",
    "    return starmasses[idx]"
   ]
  },
  {
   "cell_type": "code",
   "execution_count": 247,
   "metadata": {},
   "outputs": [],
   "source": [
    "b = [np.log10(sample_from_IMF(i)) for i in range(10000)]"
   ]
  },
  {
   "cell_type": "code",
   "execution_count": 248,
   "metadata": {},
   "outputs": [
    {
     "data": {
      "text/plain": [
       "(array([  2.50200000e+03,   2.47000000e+03,   2.18300000e+03,\n",
       "          1.46300000e+03,   8.41000000e+02,   3.58000000e+02,\n",
       "          1.26000000e+02,   4.50000000e+01,   1.10000000e+01,\n",
       "          1.00000000e+00]),\n",
       " array([-1.        , -0.73487539, -0.46975078, -0.20462618,  0.06049843,\n",
       "         0.32562304,  0.59074765,  0.85587226,  1.12099686,  1.38612147,\n",
       "         1.65124608]),\n",
       " <a list of 10 Patch objects>)"
      ]
     },
     "execution_count": 248,
     "metadata": {},
     "output_type": "execute_result"
    },
    {
     "data": {
      "image/png": "[encoded data removed]",
      "text/plain": [
       "<matplotlib.figure.Figure at 0x11716c438>"
      ]
     },
     "metadata": {},
     "output_type": "display_data"
    }
   ],
   "source": [
    "plt.hist(b)"
   ]
  },
  {
   "cell_type": "code",
   "execution_count": 227,
   "metadata": {},
   "outputs": [
    {
     "data": {
      "text/plain": [
       "array([ 0.4170149 ,  0.58703222])"
      ]
     },
     "execution_count": 227,
     "metadata": {},
     "output_type": "execute_result"
    }
   ],
   "source": [
    "np.random.random([2])"
   ]
  },
  {
   "cell_type": "code",
   "execution_count": 235,
   "metadata": {},
   "outputs": [
    {
     "data": {
      "text/plain": [
       "0.99370252715694896"
      ]
     },
     "execution_count": 235,
     "metadata": {},
     "output_type": "execute_result"
    }
   ],
   "source": [
    "np.random.random([100]).max()"
   ]
  },
  {
   "cell_type": "code",
   "execution_count": 243,
   "metadata": {},
   "outputs": [
    {
     "data": {
      "text/plain": [
       "(array([ 84.,  92.,  86.,  73.,  54.,  48.,  34.,  14.,   8.,   7.]),\n",
       " array([-0.99986934, -0.81384086, -0.62781238, -0.44178391, -0.25575543,\n",
       "        -0.06972695,  0.11630153,  0.30233001,  0.48835849,  0.67438697,\n",
       "         0.86041545]),\n",
       " <a list of 10 Patch objects>)"
      ]
     },
     "execution_count": 243,
     "metadata": {},
     "output_type": "execute_result"
    },
    {
     "data": {
      "image/png": "[encoded data removed]",
      "text/plain": [
       "<matplotlib.figure.Figure at 0x11888e9b0>"
      ]
     },
     "metadata": {},
     "output_type": "display_data"
    }
   ],
   "source": [
    "plt.hist(np.log10(f(np.random.random([500]))))"
   ]
  },
  {
   "cell_type": "code",
   "execution_count": 231,
   "metadata": {},
   "outputs": [
    {
     "ename": "ValueError",
     "evalue": "A value in x_new is below the interpolation range.",
     "output_type": "error",
     "traceback": [
      "\u001b[0;31m---------------------------------------------------------------------------\u001b[0m",
      "\u001b[0;31mValueError\u001b[0m                                Traceback (most recent call last)",
      "\u001b[0;32m<ipython-input-231-69ad43169e48>\u001b[0m in \u001b[0;36m<module>\u001b[0;34m()\u001b[0m\n\u001b[0;32m----> 1\u001b[0;31m \u001b[0mplt\u001b[0m\u001b[0;34m.\u001b[0m\u001b[0mhist\u001b[0m\u001b[0;34m(\u001b[0m\u001b[0mf\u001b[0m\u001b[0;34m(\u001b[0m\u001b[0mnp\u001b[0m\u001b[0;34m.\u001b[0m\u001b[0mrandom\u001b[0m\u001b[0;34m.\u001b[0m\u001b[0mrandom\u001b[0m\u001b[0;34m(\u001b[0m\u001b[0;34m[\u001b[0m\u001b[0;36m100\u001b[0m\u001b[0;34m]\u001b[0m\u001b[0;34m)\u001b[0m\u001b[0;34m)\u001b[0m\u001b[0;34m)\u001b[0m\u001b[0;34m\u001b[0m\u001b[0m\n\u001b[0m",
      "\u001b[0;32m/anaconda/envs/p3/lib/python3.6/site-packages/scipy/interpolate/polyint.py\u001b[0m in \u001b[0;36m__call__\u001b[0;34m(self, x)\u001b[0m\n\u001b[1;32m     77\u001b[0m         \"\"\"\n\u001b[1;32m     78\u001b[0m         \u001b[0mx\u001b[0m\u001b[0;34m,\u001b[0m \u001b[0mx_shape\u001b[0m \u001b[0;34m=\u001b[0m \u001b[0mself\u001b[0m\u001b[0;34m.\u001b[0m\u001b[0m_prepare_x\u001b[0m\u001b[0;34m(\u001b[0m\u001b[0mx\u001b[0m\u001b[0;34m)\u001b[0m\u001b[0;34m\u001b[0m\u001b[0m\n\u001b[0;32m---> 79\u001b[0;31m         \u001b[0my\u001b[0m \u001b[0;34m=\u001b[0m \u001b[0mself\u001b[0m\u001b[0;34m.\u001b[0m\u001b[0m_evaluate\u001b[0m\u001b[0;34m(\u001b[0m\u001b[0mx\u001b[0m\u001b[0;34m)\u001b[0m\u001b[0;34m\u001b[0m\u001b[0m\n\u001b[0m\u001b[1;32m     80\u001b[0m         \u001b[0;32mreturn\u001b[0m \u001b[0mself\u001b[0m\u001b[0;34m.\u001b[0m\u001b[0m_finish_y\u001b[0m\u001b[0;34m(\u001b[0m\u001b[0my\u001b[0m\u001b[0;34m,\u001b[0m \u001b[0mx_shape\u001b[0m\u001b[0;34m)\u001b[0m\u001b[0;34m\u001b[0m\u001b[0m\n\u001b[1;32m     81\u001b[0m \u001b[0;34m\u001b[0m\u001b[0m\n",
      "\u001b[0;32m/anaconda/envs/p3/lib/python3.6/site-packages/scipy/interpolate/interpolate.py\u001b[0m in \u001b[0;36m_evaluate\u001b[0;34m(self, x_new)\u001b[0m\n\u001b[1;32m    608\u001b[0m         \u001b[0my_new\u001b[0m \u001b[0;34m=\u001b[0m \u001b[0mself\u001b[0m\u001b[0;34m.\u001b[0m\u001b[0m_call\u001b[0m\u001b[0;34m(\u001b[0m\u001b[0mself\u001b[0m\u001b[0;34m,\u001b[0m \u001b[0mx_new\u001b[0m\u001b[0;34m)\u001b[0m\u001b[0;34m\u001b[0m\u001b[0m\n\u001b[1;32m    609\u001b[0m         \u001b[0;32mif\u001b[0m \u001b[0;32mnot\u001b[0m \u001b[0mself\u001b[0m\u001b[0;34m.\u001b[0m\u001b[0m_extrapolate\u001b[0m\u001b[0;34m:\u001b[0m\u001b[0;34m\u001b[0m\u001b[0m\n\u001b[0;32m--> 610\u001b[0;31m             \u001b[0mbelow_bounds\u001b[0m\u001b[0;34m,\u001b[0m \u001b[0mabove_bounds\u001b[0m \u001b[0;34m=\u001b[0m \u001b[0mself\u001b[0m\u001b[0;34m.\u001b[0m\u001b[0m_check_bounds\u001b[0m\u001b[0;34m(\u001b[0m\u001b[0mx_new\u001b[0m\u001b[0;34m)\u001b[0m\u001b[0;34m\u001b[0m\u001b[0m\n\u001b[0m\u001b[1;32m    611\u001b[0m             \u001b[0;32mif\u001b[0m \u001b[0mlen\u001b[0m\u001b[0;34m(\u001b[0m\u001b[0my_new\u001b[0m\u001b[0;34m)\u001b[0m \u001b[0;34m>\u001b[0m \u001b[0;36m0\u001b[0m\u001b[0;34m:\u001b[0m\u001b[0;34m\u001b[0m\u001b[0m\n\u001b[1;32m    612\u001b[0m                 \u001b[0;31m# Note fill_value must be broadcast up to the proper size\u001b[0m\u001b[0;34m\u001b[0m\u001b[0;34m\u001b[0m\u001b[0m\n",
      "\u001b[0;32m/anaconda/envs/p3/lib/python3.6/site-packages/scipy/interpolate/interpolate.py\u001b[0m in \u001b[0;36m_check_bounds\u001b[0;34m(self, x_new)\u001b[0m\n\u001b[1;32m    637\u001b[0m         \u001b[0;31m# !! Could provide more information about which values are out of bounds\u001b[0m\u001b[0;34m\u001b[0m\u001b[0;34m\u001b[0m\u001b[0m\n\u001b[1;32m    638\u001b[0m         \u001b[0;32mif\u001b[0m \u001b[0mself\u001b[0m\u001b[0;34m.\u001b[0m\u001b[0mbounds_error\u001b[0m \u001b[0;32mand\u001b[0m \u001b[0mbelow_bounds\u001b[0m\u001b[0;34m.\u001b[0m\u001b[0many\u001b[0m\u001b[0;34m(\u001b[0m\u001b[0;34m)\u001b[0m\u001b[0;34m:\u001b[0m\u001b[0;34m\u001b[0m\u001b[0m\n\u001b[0;32m--> 639\u001b[0;31m             raise ValueError(\"A value in x_new is below the interpolation \"\n\u001b[0m\u001b[1;32m    640\u001b[0m                              \"range.\")\n\u001b[1;32m    641\u001b[0m         \u001b[0;32mif\u001b[0m \u001b[0mself\u001b[0m\u001b[0;34m.\u001b[0m\u001b[0mbounds_error\u001b[0m \u001b[0;32mand\u001b[0m \u001b[0mabove_bounds\u001b[0m\u001b[0;34m.\u001b[0m\u001b[0many\u001b[0m\u001b[0;34m(\u001b[0m\u001b[0;34m)\u001b[0m\u001b[0;34m:\u001b[0m\u001b[0;34m\u001b[0m\u001b[0m\n",
      "\u001b[0;31mValueError\u001b[0m: A value in x_new is below the interpolation range."
     ]
    }
   ],
   "source": [
    "plt.hist(f(np.random.random([100])))"
   ]
  },
  {
   "cell_type": "code",
   "execution_count": 155,
   "metadata": {},
   "outputs": [
    {
     "data": {
      "image/png": "[encoded data removed]",
      "text/plain": [
       "<matplotlib.figure.Figure at 0x10984b470>"
      ]
     },
     "metadata": {},
     "output_type": "display_data"
    }
   ],
   "source": [
    "def IMFChab(M):\n",
    "    IMFChab = 0.086*(1./(np.log(10)*M))*np.exp(-((np.log10(M)-np.log10(0.22))**(2.))/(2.*0.57**2.))/9.0859844454274068\n",
    "    return IMFChab\n",
    "\n",
    "starmasses = np.linspace(0.1,100.,10000)\n",
    "plt.plot(arraytest, IMFChab(starmasses))\n",
    "plt.xscale('log')\n",
    "plt.show()"
   ]
  },
  {
   "cell_type": "code",
   "execution_count": 113,
   "metadata": {},
   "outputs": [
    {
     "data": {
      "text/plain": [
       "118"
      ]
     },
     "execution_count": 113,
     "metadata": {},
     "output_type": "execute_result"
    }
   ],
   "source": [
    "find_nearest(mIMFcdf, 0.5)"
   ]
  },
  {
   "cell_type": "code",
   "execution_count": 114,
   "metadata": {},
   "outputs": [
    {
     "data": {
      "text/plain": [
       "1.2789378937893792"
      ]
     },
     "execution_count": 114,
     "metadata": {},
     "output_type": "execute_result"
    }
   ],
   "source": [
    "starmasses[118]"
   ]
  },
  {
   "cell_type": "code",
   "execution_count": 109,
   "metadata": {},
   "outputs": [
    {
     "data": {
      "text/plain": [
       "0.5025035315571611"
      ]
     },
     "execution_count": 109,
     "metadata": {},
     "output_type": "execute_result"
    }
   ],
   "source": [
    "mIMFcdf[119]"
   ]
  },
  {
   "cell_type": "code",
   "execution_count": null,
   "metadata": {},
   "outputs": [],
   "source": []
  },
  {
   "cell_type": "code",
   "execution_count": 102,
   "metadata": {},
   "outputs": [
    {
     "data": {
      "text/plain": [
       "0.99999999999999978"
      ]
     },
     "execution_count": 102,
     "metadata": {},
     "output_type": "execute_result"
    }
   ],
   "source": [
    "IMFChab(arraytest).sum()"
   ]
  },
  {
   "cell_type": "code",
   "execution_count": 75,
   "metadata": {},
   "outputs": [
    {
     "data": {
      "text/plain": [
       "array([ 2.45637413,  1.11293799,  4.78878971,  0.10682854,  0.63232697,  2.        ])"
      ]
     },
     "execution_count": 75,
     "metadata": {},
     "output_type": "execute_result"
    }
   ],
   "source": [
    "a[np.random.randint(0, 100)]"
   ]
  },
  {
   "cell_type": "code",
   "execution_count": 61,
   "metadata": {},
   "outputs": [
    {
     "data": {
      "text/plain": [
       "array([ 1.78329977,  1.52557641,  1.87137137,  1.61715802,  1.51593435,\n",
       "        1.55447933,  2.0318769 ,  1.49197215,  1.47389207,  1.86556759,\n",
       "        1.78329977,  1.52557641,  1.87137137,  1.61715802,  1.51593435,\n",
       "        1.55447933,  2.0318769 ,  1.49197215,  1.47389207,  1.86556759,\n",
       "        1.5571218 ,  1.73793254,  1.58650227,  1.7635907 ,  2.45637413,\n",
       "        0.86173634,  1.67033211,  1.76815646,  2.15946278,  1.65666711,\n",
       "        1.98389217,  1.80264726,  1.19839629,  1.53667233,  1.71625098,\n",
       "        1.78736884,  1.57184552,  1.37976748,  0.95539387,  1.54733047,\n",
       "        2.0864506 ,  1.02912888,  1.65990233,  1.90729919,  1.90540263,\n",
       "        1.61849337,  1.88943365,  1.33621662,  1.5688969 ,  2.2054188 ,\n",
       "        1.78329977,  1.52557641,  2.88160079,  1.61715802,  1.51593435,\n",
       "        1.55447933,  2.0318769 ,  1.49197215,  1.47389207,  1.86556759,\n",
       "        1.5571218 ,  1.73793254,  1.58650227,  1.7635907 ,  2.45637413,\n",
       "        0.86173634,  1.67033211,  1.76815646,  2.15946278,  1.65666711,\n",
       "        1.98389217,  1.80264726,  1.19839629,  1.53667233,  1.71625098,\n",
       "        1.78736884,  1.57184552,  1.37976748,  0.95539387,  1.54733047,\n",
       "        2.0864506 ,  1.02912888,  1.65990233,  1.90729919,  1.90540263,\n",
       "        1.61849337,  1.88943365,  1.33621662,  1.5688969 ,  2.2054188 ,\n",
       "        1.63403586,  1.71705875,  1.16531918,  1.53777156,  1.69413337,\n",
       "        1.7613448 ,  1.3651613 ,  1.79091455,  1.50912516,  1.5110751 ])"
      ]
     },
     "execution_count": 61,
     "metadata": {},
     "output_type": "execute_result"
    }
   ],
   "source": [
    "a.T[0]"
   ]
  },
  {
   "cell_type": "code",
   "execution_count": null,
   "metadata": {},
   "outputs": [],
   "source": []
  },
  {
   "cell_type": "code",
   "execution_count": 52,
   "metadata": {},
   "outputs": [
    {
     "data": {
      "text/plain": [
       "array([ 1.,  1.,  1.,  1.,  1.,  1.,  1.,  1.,  1.,  1.,  1.,  1.,  1.,\n",
       "        1.,  1.,  1.,  1.,  1.,  1.,  1.,  1.,  1.,  1.,  1.,  1.,  1.,\n",
       "        1.,  1.,  1.,  1.,  1.,  1.,  1.,  1.,  1.,  1.,  1.,  1.,  1.,\n",
       "        1.,  1.,  1.,  1.,  1.,  1.,  1.,  1.,  1.,  1.,  1.,  1.,  1.,\n",
       "        1.,  1.,  1.,  1.,  1.,  1.,  1.,  1.,  1.,  1.,  1.,  1.,  1.,\n",
       "        1.,  1.,  1.,  1.,  1.,  1.,  1.,  1.,  1.,  1.,  1.,  1.,  1.,\n",
       "        1.,  1.,  1.,  1.,  1.,  1.,  1.,  1.,  1.,  1.,  1.,  1.,  1.,\n",
       "        1.,  1.,  1.,  1.,  1.,  1.,  1.,  1.,  1.])"
      ]
     },
     "execution_count": 52,
     "metadata": {},
     "output_type": "execute_result"
    }
   ],
   "source": [
    "get_a_binary(a.T[0])"
   ]
  },
  {
   "cell_type": "code",
   "execution_count": 21,
   "metadata": {},
   "outputs": [
    {
     "name": "stdout",
     "output_type": "stream",
     "text": [
      "CPU times: user 1min 7s, sys: 73.7 ms, total: 1min 7s\n",
      "Wall time: 1min 7s\n"
     ]
    },
    {
     "data": {
      "text/plain": [
       "(2.3188690829069274,\n",
       " 1.6683421439663941,\n",
       " 5.0379786134527178,\n",
       " 0.9560342718892494,\n",
       " 0.9478274870593494,\n",
       " 2)"
      ]
     },
     "execution_count": 21,
     "metadata": {},
     "output_type": "execute_result"
    }
   ],
   "source": [
    "%%time\n",
    "runbinary(randseed=2)"
   ]
  },
  {
   "cell_type": "code",
   "execution_count": 118,
   "metadata": {},
   "outputs": [],
   "source": [
    "sim = rebound.Simulation()\n",
    "sim.G = 4*np.pi**2\n",
    "Rmin = 1./215.\n",
    "sim.add(m=1., r=Rmin)\n",
    "sim.add(m=1., a=1., e=0.1, r=Rmin)\n",
    "sim.move_to_com()\n",
    "ps = sim.particles"
   ]
  },
  {
   "cell_type": "code",
   "execution_count": 119,
   "metadata": {},
   "outputs": [
    {
     "name": "stdout",
     "output_type": "stream",
     "text": [
      "acrit = 2.6733249999999997\n",
      "3.2079899999999997\n"
     ]
    }
   ],
   "source": [
    "print('acrit = {0}'.format(acrit(sim)))\n",
    "sim.add(a=1.2*acrit(sim))\n",
    "print(ps[2].a)\n",
    "sim.exit_max_distance= 100.\n",
    "sim.collision=\"direct\"\n",
    "sim.collision_resolve = stop\n",
    "\n",
    "rebx = reboundx.Extras(sim)\n",
    "rebx.add(\"modify_orbits_forces\")\n",
    "ps[2].params['tau_a'] = -1000*ps[2].P"
   ]
  },
  {
   "cell_type": "code",
   "execution_count": 3,
   "metadata": {},
   "outputs": [
    {
     "ename": "NameError",
     "evalue": "name 'sim' is not defined",
     "output_type": "error",
     "traceback": [
      "\u001b[0;31m---------------------------------------------------------------------------\u001b[0m",
      "\u001b[0;31mNameError\u001b[0m                                 Traceback (most recent call last)",
      "\u001b[0;32m<ipython-input-3-61f9069c9111>\u001b[0m in \u001b[0;36m<module>\u001b[0;34m()\u001b[0m\n\u001b[1;32m     13\u001b[0m         \u001b[0mself\u001b[0m\u001b[0;34m.\u001b[0m\u001b[0mmind\u001b[0m \u001b[0;34m=\u001b[0m \u001b[0mdistance\u001b[0m\u001b[0;34m(\u001b[0m\u001b[0;36m2\u001b[0m\u001b[0;34m,\u001b[0m \u001b[0mself\u001b[0m\u001b[0;34m.\u001b[0m\u001b[0mstarindex\u001b[0m\u001b[0;34m)\u001b[0m\u001b[0;34m\u001b[0m\u001b[0m\n\u001b[1;32m     14\u001b[0m         \u001b[0msuper\u001b[0m\u001b[0;34m(\u001b[0m\u001b[0mmindRecorder\u001b[0m\u001b[0;34m,\u001b[0m \u001b[0mself\u001b[0m\u001b[0;34m)\u001b[0m\u001b[0;34m.\u001b[0m\u001b[0mprocess_event\u001b[0m\u001b[0;34m(\u001b[0m\u001b[0mevent_sim\u001b[0m\u001b[0;34m,\u001b[0m \u001b[0mtarget\u001b[0m\u001b[0;34m)\u001b[0m\u001b[0;34m\u001b[0m\u001b[0m\n\u001b[0;32m---> 15\u001b[0;31m \u001b[0mrecorder1\u001b[0m \u001b[0;34m=\u001b[0m \u001b[0mmindRecorder\u001b[0m\u001b[0;34m(\u001b[0m\u001b[0msim\u001b[0m\u001b[0;34m,\u001b[0m \u001b[0;36m0\u001b[0m\u001b[0;34m)\u001b[0m\u001b[0;34m\u001b[0m\u001b[0m\n\u001b[0m\u001b[1;32m     16\u001b[0m \u001b[0mrecorder2\u001b[0m \u001b[0;34m=\u001b[0m \u001b[0mmindRecorder\u001b[0m\u001b[0;34m(\u001b[0m\u001b[0msim\u001b[0m\u001b[0;34m,\u001b[0m \u001b[0;36m1\u001b[0m\u001b[0;34m)\u001b[0m\u001b[0;34m\u001b[0m\u001b[0m\n",
      "\u001b[0;31mNameError\u001b[0m: name 'sim' is not defined"
     ]
    }
   ],
   "source": [
    "recorder1 = mindRecorder(sim, 0)\n",
    "recorder2 = mindRecorder(sim, 1)"
   ]
  },
  {
   "cell_type": "code",
   "execution_count": 121,
   "metadata": {},
   "outputs": [
    {
     "name": "stdout",
     "output_type": "stream",
     "text": [
      "escape\n",
      "CPU times: user 5.37 s, sys: 24.9 ms, total: 5.39 s\n",
      "Wall time: 5.42 s\n"
     ]
    }
   ],
   "source": [
    "%%time\n",
    "Nout = 1000\n",
    "tmax = 10000\n",
    "times = np.linspace(0, tmax, Nout)\n",
    "d1, d2 = np.zeros(Nout), np.zeros(Nout)\n",
    "P, e = np.zeros(Nout), np.zeros(Nout)\n",
    "\n",
    "try:\n",
    "    for i, time in enumerate(times):\n",
    "        sim.integrate(time)\n",
    "        d1[i] = distance(2, 0)\n",
    "        d2[i] = distance(2, 1)\n",
    "        P[i] = ps[2].P\n",
    "        e[i] = ps[2].e\n",
    "except KeyboardInterrupt:\n",
    "    print(\"collision\")\n",
    "except rebound.Escape:\n",
    "    print(\"escape\")"
   ]
  },
  {
   "cell_type": "code",
   "execution_count": 122,
   "metadata": {},
   "outputs": [
    {
     "data": {
      "text/plain": [
       "1.2265316858253774"
      ]
     },
     "execution_count": 122,
     "metadata": {},
     "output_type": "execute_result"
    }
   ],
   "source": [
    "recorder2.mind"
   ]
  },
  {
   "cell_type": "code",
   "execution_count": 123,
   "metadata": {},
   "outputs": [
    {
     "data": {
      "text/plain": [
       "1.3890708302316288"
      ]
     },
     "execution_count": 123,
     "metadata": {},
     "output_type": "execute_result"
    }
   ],
   "source": [
    "recorder1.mind"
   ]
  },
  {
   "cell_type": "code",
   "execution_count": 19,
   "metadata": {},
   "outputs": [
    {
     "data": {
      "text/plain": [
       "0.2696133632101861"
      ]
     },
     "execution_count": 19,
     "metadata": {},
     "output_type": "execute_result"
    }
   ],
   "source": [
    "sim.t"
   ]
  },
  {
   "cell_type": "code",
   "execution_count": 124,
   "metadata": {},
   "outputs": [
    {
     "data": {
      "text/plain": [
       "(0, 3)"
      ]
     },
     "execution_count": 124,
     "metadata": {},
     "output_type": "execute_result"
    },
    {
     "data": {
      "image/png": "[encoded data removed]",
      "text/plain": [
       "<matplotlib.figure.Figure at 0x10fa05588>"
      ]
     },
     "metadata": {},
     "output_type": "display_data"
    }
   ],
   "source": [
    "%matplotlib inline\n",
    "import matplotlib.pyplot as plt\n",
    "fig, ax= plt.subplots()\n",
    "ax.plot(times, d1, '.')\n",
    "ax.plot([0,10], [recorder1.mind, recorder1.mind], 'blue')\n",
    "ax.plot(times, d2, '.')\n",
    "ax.plot([0,10], [recorder2.mind, recorder2.mind], 'orange')\n",
    "\n",
    "\n",
    "#ax.set_xlim([0,10])\n",
    "ax.set_ylim([0,3])"
   ]
  },
  {
   "cell_type": "code",
   "execution_count": 125,
   "metadata": {},
   "outputs": [
    {
     "data": {
      "text/plain": [
       "[<matplotlib.lines.Line2D at 0x111799f60>]"
      ]
     },
     "execution_count": 125,
     "metadata": {},
     "output_type": "execute_result"
    },
    {
     "data": {
      "image/png": "[encoded data removed]",
      "text/plain": [
       "<matplotlib.figure.Figure at 0x10fa0cd68>"
      ]
     },
     "metadata": {},
     "output_type": "display_data"
    }
   ],
   "source": [
    "%matplotlib inline\n",
    "import matplotlib.pyplot as plt\n",
    "fig, ax= plt.subplots()\n",
    "ax.plot(times, P, '.')"
   ]
  },
  {
   "cell_type": "code",
   "execution_count": 126,
   "metadata": {},
   "outputs": [
    {
     "data": {
      "text/plain": [
       "[<matplotlib.lines.Line2D at 0x111792be0>]"
      ]
     },
     "execution_count": 126,
     "metadata": {},
     "output_type": "execute_result"
    },
    {
     "data": {
      "image/png": "[encoded data removed]",
      "text/plain": [
       "<matplotlib.figure.Figure at 0x111792160>"
      ]
     },
     "metadata": {},
     "output_type": "display_data"
    }
   ],
   "source": [
    "%matplotlib inline\n",
    "import matplotlib.pyplot as plt\n",
    "fig, ax= plt.subplots()\n",
    "ax.plot(times, e, '.')"
   ]
  },
  {
   "cell_type": "code",
   "execution_count": 5,
   "metadata": {},
   "outputs": [
    {
     "name": "stdout",
     "output_type": "stream",
     "text": [
      "3.2079899999999975\n",
      "1053.657472316494 1.47545167801 1.19094200001\n"
     ]
    },
    {
     "data": {
      "text/plain": [
       "(1.4754516780140603, 1.1909420000054411)"
      ]
     },
     "execution_count": 5,
     "metadata": {},
     "output_type": "execute_result"
    }
   ],
   "source": [
    "runbinary(1)"
   ]
  },
  {
   "cell_type": "code",
   "execution_count": null,
   "metadata": {},
   "outputs": [],
   "source": []
  }
 ],
 "metadata": {
  "kernelspec": {
   "display_name": "Python [conda env:p3]",
   "language": "python",
   "name": "conda-env-p3-py"
  },
  "language_info": {
   "codemirror_mode": {
    "name": "ipython",
    "version": 3
   },
   "file_extension": ".py",
   "mimetype": "text/x-python",
   "name": "python",
   "nbconvert_exporter": "python",
   "pygments_lexer": "ipython3",
   "version": "3.6.2"
  }
 },
 "nbformat": 4,
 "nbformat_minor": 2
}
