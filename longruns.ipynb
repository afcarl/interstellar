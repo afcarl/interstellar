{
 "cells": [
  {
   "cell_type": "code",
   "execution_count": 1,
   "metadata": {},
   "outputs": [],
   "source": [
    "import rebound\n",
    "import reboundx\n",
    "import sys\n",
    "sys.path.append('../systemsounds')\n",
    "import systemsounds as ss\n",
    "import numpy as np\n",
    "from random import random, uniform, seed\n",
    "from systemsounds import EventRecorder\n",
    "import pandas as pd"
   ]
  },
  {
   "cell_type": "code",
   "execution_count": 2,
   "metadata": {},
   "outputs": [],
   "source": [
    "def acrit(sim): # Holman & Wiegert 99 for P type circumbinary\n",
    "    ps = sim.particles\n",
    "    mu = ps[1].m/(ps[1].m+ps[0].m)\n",
    "    return 1.60 + 5.10*ps[1].e -2.22*ps[1].e**2 + 4.12*mu -4.27*ps[1].e*mu -5.09*mu**2 + 4.61*ps[1].e**2*mu**2 \n",
    "\n",
    "def stop(reb_sim, reb_col):\n",
    "    reb_sim.contents._status = 6\n",
    "    return 0\n",
    "\n",
    "def distance(sim, i1, i2):\n",
    "    ps = sim.particles\n",
    "    diff = ps[i2]-ps[i1]\n",
    "    return np.sqrt(diff.x**2 + diff.y**2 + diff.z**2)\n",
    "\n",
    "class mindRecorder(EventRecorder):\n",
    "    def __init__(self, sim, starindex):\n",
    "        self.starindex = starindex\n",
    "        self.mind = 0.99*min(distance(sim, 0, 2), distance(sim, 1,2)) # needs to start less than initial value\n",
    "        self.mind0 = self.mind\n",
    "        super(mindRecorder, self).__init__(sim, lambda sim, i: self.mind-distance(sim, 2, self.starindex), targets=[None])\n",
    "    def process_event(self, event_sim, target=None):\n",
    "        self.mind = distance(event_sim, 2, self.starindex)\n",
    "        super(mindRecorder, self).process_event(event_sim, target)"
   ]
  },
  {
   "cell_type": "code",
   "execution_count": 3,
   "metadata": {},
   "outputs": [],
   "source": [
    "def runbinary(randseed=0, Rmin=1.e-2, mratio=None, ebinary=None):\n",
    "    print(randseed)\n",
    "    seed(randseed)\n",
    "    if mratio is None:\n",
    "        mratio = random()\n",
    "    if ebinary is None:\n",
    "        ebinary = 0.9*random()\n",
    "        \n",
    "    sim = rebound.Simulation()\n",
    "    sim.G = 4*np.pi**2\n",
    "    sim.add(m=1., r=Rmin)\n",
    "    sim.add(m=mratio, a=1., e=ebinary, r=Rmin, pomega=random()*2.*np.pi, f=random()*2.*np.pi)\n",
    "    sim.move_to_com()\n",
    "    ps = sim.particles\n",
    "    sim.add(a=1.2*acrit(sim), f=random()*2.*np.pi)\n",
    "    \n",
    "    sim.exit_max_distance= 100.\n",
    "    sim.collision=\"direct\"\n",
    "    sim.collision_resolve = stop\n",
    "\n",
    "    rebx = reboundx.Extras(sim)\n",
    "    rebx.add(\"modify_orbits_forces\")\n",
    "    ps[2].params['tau_a'] = -1000*ps[2].P\n",
    "    \n",
    "    recorder1 = mindRecorder(sim, 0)\n",
    "    recorder2 = mindRecorder(sim, 1)\n",
    "    tmax=1.e4\n",
    "    \n",
    "    code=0\n",
    "    try:\n",
    "        sim.integrate(tmax)\n",
    "    except KeyboardInterrupt:\n",
    "        code=1\n",
    "    except rebound.Escape:\n",
    "        code=2\n",
    "    \n",
    "    with open('Nbody{0}.txt'.format(Rmin), 'a') as f:\n",
    "        f.write('{0}\\t{1}\\t{2}\\t{3}\\t{4}\\t{5}\\t{6}\\n'.format(randseed, recorder1.mind, recorder2.mind, recorder1.mind0, mratio, ebinary, code))"
   ]
  },
  {
   "cell_type": "code",
   "execution_count": 4,
   "metadata": {},
   "outputs": [],
   "source": [
    "def RunRmin(Rmin, Rminprev):\n",
    "    seeds, Nbodymind1s, Nbodymind2s, mind0s, mratios, ebinarys, codes = np.loadtxt('Nbody{0}.txt'.format(Rminprev)).T\n",
    "    seeds = np.array([int(seed) for seed in seeds])\n",
    "    mask = (codes == 1)\n",
    "    print(len(seeds[mask]))\n",
    "    print(seeds[mask])\n",
    "    for i in seeds[mask]:\n",
    "        runbinary(i, Rmin)"
   ]
  },
  {
   "cell_type": "code",
   "execution_count": null,
   "metadata": {},
   "outputs": [
    {
     "name": "stdout",
     "output_type": "stream",
     "text": [
      "59\n",
      "[  67  125  215  251  269  309  316  353  399  422  473  474  489  522  524\n",
      "  547  552  557  651  678  737  849  944  946  954 1029 1051 1055 1067 1127\n",
      " 1212 1332 1345 1358 1374 1385 1427 1434 1479 1481 1521 1530 1600 1605 1716\n",
      " 1742 1751 1757 1759 1768 1824 1839 1847 1902 1916 1918 1925 1944 1980]\n",
      "67\n",
      "125\n",
      "215\n"
     ]
    }
   ],
   "source": [
    "RunRmin(1.e-3, 1.e-2)"
   ]
  },
  {
   "cell_type": "code",
   "execution_count": 5,
   "metadata": {},
   "outputs": [
    {
     "name": "stdout",
     "output_type": "stream",
     "text": [
      "59\n",
      "[  67  125  215  251  269  309  316  353  399  422  473  474  489  522  524\n",
      "  547  552  557  651  678  737  849  944  946  954 1029 1051 1055 1067 1127\n",
      " 1212 1332 1345 1358 1374 1385 1427 1434 1479 1481 1521 1530 1600 1605 1716\n",
      " 1742 1751 1757 1759 1768 1824 1839 1847 1902 1916 1918 1925 1944 1980]\n",
      "67\n",
      "125\n",
      "215\n",
      "251\n",
      "269\n",
      "309\n",
      "316\n",
      "353\n",
      "399\n",
      "422\n",
      "473\n",
      "474\n",
      "489\n",
      "522\n",
      "524\n",
      "547\n",
      "552\n",
      "557\n",
      "651\n",
      "678\n",
      "737\n",
      "849\n",
      "944\n",
      "946\n",
      "954\n",
      "1029\n",
      "1051\n",
      "1055\n",
      "1067\n",
      "1127\n",
      "1212\n",
      "1332\n",
      "1345\n",
      "1358\n",
      "1374\n",
      "1385\n",
      "1427\n",
      "1434\n",
      "1479\n",
      "1481\n",
      "1521\n",
      "1530\n",
      "1600\n",
      "1605\n",
      "1716\n",
      "1742\n",
      "1751\n",
      "1757\n",
      "1759\n",
      "1768\n",
      "1824\n",
      "1839\n",
      "1847\n",
      "1902\n",
      "1916\n",
      "1918\n",
      "1925\n",
      "1944\n",
      "1980\n"
     ]
    }
   ],
   "source": [
    "RunRmin(1.e-6, 1.e-3)"
   ]
  },
  {
   "cell_type": "code",
   "execution_count": 6,
   "metadata": {},
   "outputs": [
    {
     "name": "stdout",
     "output_type": "stream",
     "text": [
      "3\n",
      "[ 737 1605 1916]\n",
      "737\n",
      "1605\n",
      "1916\n"
     ]
    }
   ],
   "source": [
    "RunRmin(1.e-8, 1.e-6)"
   ]
  },
  {
   "cell_type": "code",
   "execution_count": null,
   "metadata": {},
   "outputs": [],
   "source": []
  }
 ],
 "metadata": {
  "kernelspec": {
   "display_name": "Python [conda env:p3]",
   "language": "python",
   "name": "conda-env-p3-py"
  },
  "language_info": {
   "codemirror_mode": {
    "name": "ipython",
    "version": 3
   },
   "file_extension": ".py",
   "mimetype": "text/x-python",
   "name": "python",
   "nbconvert_exporter": "python",
   "pygments_lexer": "ipython3",
   "version": "3.6.2"
  }
 },
 "nbformat": 4,
 "nbformat_minor": 2
}
