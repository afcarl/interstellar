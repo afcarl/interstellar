{
 "cells": [
  {
   "cell_type": "code",
   "execution_count": 219,
   "metadata": {},
   "outputs": [],
   "source": [
    "import numpy as np\n",
    "from random import random, uniform, seed\n",
    "from scipy.interpolate import interp1d\n",
    "import matplotlib.pyplot as plt\n",
    "import pandas as pd\n",
    "%matplotlib inline\n",
    "import os"
   ]
  },
  {
   "cell_type": "code",
   "execution_count": 220,
   "metadata": {},
   "outputs": [],
   "source": [
    "data = np.loadtxt('Nbody0.01.txt')"
   ]
  },
  {
   "cell_type": "code",
   "execution_count": 221,
   "metadata": {},
   "outputs": [],
   "source": [
    "for i in range(3,10):\n",
    "    try:\n",
    "        newdata = np.loadtxt('Nbody{0}.txt'.format(10**(-i)))\n",
    "        for row in newdata:\n",
    "            replaceseed = int(row[0])\n",
    "            data[replaceseed] = row\n",
    "    except:\n",
    "        pass"
   ]
  },
  {
   "cell_type": "code",
   "execution_count": 223,
   "metadata": {},
   "outputs": [],
   "source": [
    "seeds, Nbodymind1s, Nbodymind2s, mind0s, mratios, ebinarys, codes = data.T\n",
    "seeds = np.array([int(seed) for seed in seeds])"
   ]
  },
  {
   "cell_type": "markdown",
   "metadata": {},
   "source": [
    "# Check that all the mind values got updated from their initial value. Sum should be 0"
   ]
  },
  {
   "cell_type": "code",
   "execution_count": 224,
   "metadata": {},
   "outputs": [
    {
     "data": {
      "text/plain": [
       "0"
      ]
     },
     "execution_count": 224,
     "metadata": {},
     "output_type": "execute_result"
    }
   ],
   "source": [
    "(Nbodymind1s==mind0s).sum()"
   ]
  },
  {
   "cell_type": "code",
   "execution_count": 225,
   "metadata": {},
   "outputs": [
    {
     "data": {
      "text/plain": [
       "0"
      ]
     },
     "execution_count": 225,
     "metadata": {},
     "output_type": "execute_result"
    }
   ],
   "source": [
    "(Nbodymind2s==mind0s).sum()"
   ]
  },
  {
   "cell_type": "markdown",
   "metadata": {},
   "source": [
    "# Distributions of outcomes. 0 = survived, 1 = collision, 2 = ejection"
   ]
  },
  {
   "cell_type": "code",
   "execution_count": 226,
   "metadata": {},
   "outputs": [
    {
     "data": {
      "image/png": "[encoded data removed]",
      "text/plain": [
       "<matplotlib.figure.Figure at 0x12166d320>"
      ]
     },
     "metadata": {},
     "output_type": "display_data"
    }
   ],
   "source": [
    "bins, vals, patches = plt.hist(codes)"
   ]
  },
  {
   "cell_type": "code",
   "execution_count": 227,
   "metadata": {},
   "outputs": [
    {
     "name": "stdout",
     "output_type": "stream",
     "text": [
      "12/2000 = 0.0060 survived\n",
      "0/2000 = 0.0000 collided\n",
      "1988/2000 = 0.9940 ejected\n"
     ]
    }
   ],
   "source": [
    "print(\"{0}/{1} = {2:.4f} survived\".format((codes==0).sum(), len(codes), (codes==0).sum()/float(len(codes))))\n",
    "print(\"{0}/{1} = {2:.4f} collided\".format((codes==1).sum(), len(codes), (codes==1).sum()/float(len(codes))))\n",
    "print(\"{0}/{1} = {2:.4f} ejected\".format((codes==2).sum(), len(codes), (codes==2).sum()/float(len(codes))))"
   ]
  },
  {
   "cell_type": "markdown",
   "metadata": {},
   "source": [
    "# Distribution of minimum distances (from both stars combined, not necessarily the star that ejected the body)"
   ]
  },
  {
   "cell_type": "code",
   "execution_count": 230,
   "metadata": {},
   "outputs": [
    {
     "data": {
      "image/png": "[encoded data removed]",
      "text/plain": [
       "<matplotlib.figure.Figure at 0x120fba860>"
      ]
     },
     "metadata": {},
     "output_type": "display_data"
    }
   ],
   "source": [
    "bins, vals, patches = plt.hist(np.log10(np.concatenate((Nbodymind1s, Nbodymind2s))), bins=100)"
   ]
  },
  {
   "cell_type": "markdown",
   "metadata": {},
   "source": [
    "# Dimensionalize\n",
    "\n",
    "Iterate following procedure\n",
    "\n",
    "- Draw a primary from the IMF (I think this should be the single star IMF, not the system mass IMF, unless the mass ratio distribution is the same for all of the Duchene & Kraus bins in which case we can draw a system mass as above)\n",
    "- Determine which of the Duchene & Kraus bins that primary falls into\n",
    "- Draw from single/binary according to the binary fraction at that mass range.  If the primary is single add the mass to a 'single/wide binary' bin and return to 1.\n",
    "- Draw a mass ratio, eccentricity and separation from the appropriate Duchene & Kraus distributions\n",
    "- If the separation is larger than our wide binary cut off, add the mass to the 'single/wide binary' bin and return to 1.\n",
    "- From the eccentricity and separation calculate the critical instability distance\n",
    "- Use the mass-luminosity relation fit for both the primary and secondary to calculate the snow line distance"
   ]
  },
  {
   "cell_type": "markdown",
   "metadata": {},
   "source": [
    "- Calculate a_ice/a_crit\n",
    "- Choose a stellar type\n",
    "- Draw from the System IMF in that stellar type's mass range\n",
    "- Draw mind1 and mind2 from the distribution of Nbody outcomes\n",
    "- Use total mass from IMF and mass ratio from Nbody simulation to calculate M1 and M2\n",
    "- Draw binary separation from Duchene and Kraus and dimensionalize minds\n",
    "- Calculate a_Roche and Rstar from M "
   ]
  },
  {
   "cell_type": "markdown",
   "metadata": {},
   "source": [
    "# Build a sampler"
   ]
  },
  {
   "cell_type": "markdown",
   "metadata": {},
   "source": [
    "This class let's you sample from an arbitrary pdf"
   ]
  },
  {
   "cell_type": "code",
   "execution_count": 231,
   "metadata": {},
   "outputs": [],
   "source": [
    "class Sampler():\n",
    "    def __init__(self, values, pdf): \n",
    "        # pass np. array of x values, np.array of pdf at those values\n",
    "        self.minvalue = values.min()\n",
    "        self.maxvalue = values.max()\n",
    "        pdf /= pdf.sum()\n",
    "        cdf = np.cumsum(pdf)\n",
    "        self.mincdf = cdf.min()\n",
    "        self.maxcdf = cdf.max()\n",
    "        self.cdffunc = interp1d(values, cdf)\n",
    "        self.invcdffunc = interp1d(cdf, values)\n",
    "        \n",
    "        def _sample(cdfval): # returns value corresponding to when cdf matches passed value\n",
    "            try:\n",
    "                return self.invcdffunc(cdfval)\n",
    "            except ValueError:\n",
    "                if cdfval < self.mincdf:\n",
    "                    return self.minvalue\n",
    "                elif cdfval > self.maxcdf:\n",
    "                    return self.maxvalue\n",
    "        self._sample = np.vectorize(_sample)\n",
    "    \n",
    "    def sample(self, Nvals=1, minval=None, maxval=None):\n",
    "        # returns Nvals samples from the pdf as np.array. Optionally pass range of values to sample from\n",
    "        \n",
    "        # if range of values is passed, calculate corresponding range of cdf values\n",
    "        mincdf = self.cdffunc(minval) if minval is not None else 0.\n",
    "        maxcdf = self.cdffunc(maxval) if maxval is not None else 1.\n",
    "        cdfs = mincdf + (maxcdf-mincdf)*np.random.random([Nvals]) # sample Nvals cdf values in the range\n",
    "        return self._sample(cdfs)"
   ]
  },
  {
   "cell_type": "markdown",
   "metadata": {},
   "source": [
    "PDF for the log mass for the binary system"
   ]
  },
  {
   "cell_type": "code",
   "execution_count": 232,
   "metadata": {},
   "outputs": [
    {
     "data": {
      "image/png": "[encoded data removed]",
      "text/plain": [
       "<matplotlib.figure.Figure at 0x1211d5400>"
      ]
     },
     "metadata": {},
     "output_type": "display_data"
    }
   ],
   "source": [
    "def logIMFChab(logM):\n",
    "    IMFChab = 0.086*np.exp(-((logM-np.log10(0.22))**(2.))/(2.*0.57**2.))\n",
    "    return IMFChab\n",
    "\n",
    "starmasses = np.linspace(-1, 2, 100000)\n",
    "logIMF = logIMFChab(starmasses)\n",
    "plt.plot(starmasses, logIMF)\n",
    "plt.show()"
   ]
  },
  {
   "cell_type": "markdown",
   "metadata": {},
   "source": [
    "Example over whole range"
   ]
  },
  {
   "cell_type": "code",
   "execution_count": 233,
   "metadata": {},
   "outputs": [
    {
     "name": "stdout",
     "output_type": "stream",
     "text": [
      "CPU times: user 308 ms, sys: 4.13 ms, total: 313 ms\n",
      "Wall time: 313 ms\n"
     ]
    },
    {
     "data": {
      "image/png": "[encoded data removed]",
      "text/plain": [
       "<matplotlib.figure.Figure at 0x12115def0>"
      ]
     },
     "metadata": {},
     "output_type": "display_data"
    }
   ],
   "source": [
    "%%time\n",
    "logIMFsampler = Sampler(starmasses, logIMF)\n",
    "bins, vals, patches = plt.hist(logIMFsampler.sample(10000), bins=100)"
   ]
  },
  {
   "cell_type": "markdown",
   "metadata": {},
   "source": [
    "Example over specified range"
   ]
  },
  {
   "cell_type": "code",
   "execution_count": 234,
   "metadata": {},
   "outputs": [
    {
     "data": {
      "image/png": "[encoded data removed]",
      "text/plain": [
       "<matplotlib.figure.Figure at 0x121162f98>"
      ]
     },
     "metadata": {},
     "output_type": "display_data"
    }
   ],
   "source": [
    "bins, vals, patches = plt.hist(logIMFsampler.sample(10000, 0, 2), bins=100)"
   ]
  },
  {
   "cell_type": "markdown",
   "metadata": {},
   "source": [
    "# Define stellar types, mass ranges, and multiple fraction"
   ]
  },
  {
   "cell_type": "code",
   "execution_count": 276,
   "metadata": {},
   "outputs": [],
   "source": [
    "# triplets of [Mmin, Mmax, fraction of systems that are multiples (MF in Duchene & Kraus)]\n",
    "typemasses = {'VLM':[1.e-3, 0.1, 0.22], 'M':[0.1, 0.6, 0.26], 'FGK':[0.6, 1.4, 0.44], 'A':[1.4, 6.5, 0.5], 'OB':[6.5, 100, 0.8]}\n",
    "\n",
    "def get_type(M):\n",
    "    for key, value in typemasses.items():\n",
    "        if M > value[0] and M < value[1]:\n",
    "            return key\n",
    "    return np.nan"
   ]
  },
  {
   "cell_type": "markdown",
   "metadata": {},
   "source": [
    "# Draw a primary from the IMF (Note this is currently using the system IMF)"
   ]
  },
  {
   "cell_type": "code",
   "execution_count": 279,
   "metadata": {},
   "outputs": [],
   "source": [
    "seed(0)\n",
    "stellartype = 'M'"
   ]
  },
  {
   "cell_type": "code",
   "execution_count": 278,
   "metadata": {},
   "outputs": [
    {
     "name": "stdout",
     "output_type": "stream",
     "text": [
      "0.187899660664\n"
     ]
    }
   ],
   "source": [
    "Mmin, Mmax, MF = typemasses[stellartype]\n",
    "logMmin = np.log10(Mmin)\n",
    "logMmax = np.log10(Mmax)\n",
    "\n",
    "Msystem = 10**logIMFsampler.sample(minval=logMmin, maxval=logMmax)[0] # returns array\n",
    "print(Msystem)"
   ]
  },
  {
   "cell_type": "markdown",
   "metadata": {},
   "source": [
    "# Draw mind1 and mind2 from the distribution of Nbody outcomes"
   ]
  },
  {
   "cell_type": "markdown",
   "metadata": {},
   "source": [
    "Draw a random Nbody simulation"
   ]
  },
  {
   "cell_type": "code",
   "execution_count": 238,
   "metadata": {},
   "outputs": [
    {
     "name": "stdout",
     "output_type": "stream",
     "text": [
      "1.71402116373 1.59028062603 0.144239806235\n"
     ]
    }
   ],
   "source": [
    "randseed = np.random.randint(len(seeds))\n",
    "mind1 = Nbodymind1s[randseed]\n",
    "mind2 = Nbodymind2s[randseed]\n",
    "mratio = mratios[randseed] # secondary has mass mratio\n",
    "print(mind1, mind2, mratio)"
   ]
  },
  {
   "cell_type": "markdown",
   "metadata": {},
   "source": [
    "# Use total mass from IMF and mass ratio from Nbody simulation to calculate M1 and M2"
   ]
  },
  {
   "cell_type": "code",
   "execution_count": 239,
   "metadata": {},
   "outputs": [
    {
     "name": "stdout",
     "output_type": "stream",
     "text": [
      "0.121792341099 0.017567303681\n"
     ]
    }
   ],
   "source": [
    "M1 = Msystem/(1.+mratio)\n",
    "M2 = Msystem-M1\n",
    "print(M1, M2)"
   ]
  },
  {
   "cell_type": "markdown",
   "metadata": {},
   "source": [
    "# Draw binary separation from Duchene and Kraus and dimensionalize minds"
   ]
  },
  {
   "cell_type": "markdown",
   "metadata": {},
   "source": [
    "Define Duchene & Kraus binary separation distributions"
   ]
  },
  {
   "cell_type": "code",
   "execution_count": 240,
   "metadata": {},
   "outputs": [],
   "source": [
    "logabinaries = np.linspace(-2.5, 6, 10000)\n",
    "def gaussianpdf(vals, mu, sigma):\n",
    "    pdf = np.exp(-(vals-mu)**2/(2.*sigma**2))\n",
    "    return pdf/pdf.sum()"
   ]
  },
  {
   "cell_type": "code",
   "execution_count": 241,
   "metadata": {},
   "outputs": [],
   "source": [
    "logabinPDF = {}\n",
    "logabinPDF['VLM'] = gaussianpdf(logabinaries, np.log10(4.5), 0.333)\n",
    "logabinPDF['M'] = gaussianpdf(logabinaries, np.log10(5.3), 0.867)\n",
    "logabinPDF['FGK'] = gaussianpdf(logabinaries, np.log10(45), 1.533)\n",
    "\n",
    "tempA = gaussianpdf(logabinaries, np.log10(350), 1.533) + gaussianpdf(logabinaries, np.log10(0.2), 1.)\n",
    "logabinPDF['A'] = tempA/tempA.sum()\n",
    "\n",
    "logabinPDF['OB'] = gaussianpdf(logabinaries, np.log10(0.2), 0.1677)"
   ]
  },
  {
   "cell_type": "code",
   "execution_count": 242,
   "metadata": {},
   "outputs": [
    {
     "data": {
      "text/plain": [
       "<matplotlib.text.Text at 0x12156a3c8>"
      ]
     },
     "execution_count": 242,
     "metadata": {},
     "output_type": "execute_result"
    },
    {
     "data": {
      "image/png": "[encoded data removed]",
      "text/plain": [
       "<matplotlib.figure.Figure at 0x122c13b38>"
      ]
     },
     "metadata": {},
     "output_type": "display_data"
    }
   ],
   "source": [
    "fig, ax = plt.subplots(figsize=(10,8))\n",
    "for key, val in logabinPDF.items():\n",
    "    ax.plot(logabinaries, val, label=key)\n",
    "plt.legend(fontsize=16)\n",
    "ax.set_xlabel('log a (AU)', fontsize=16)\n",
    "ax.set_ylabel('Semimajor axis frequency', fontsize=16)"
   ]
  },
  {
   "cell_type": "markdown",
   "metadata": {},
   "source": [
    "Duchene and Kraus give binary separation distributions based on primary mass, so get primary stellar type from M1 (should be same as stellartype chosen for system above in most cases)"
   ]
  },
  {
   "cell_type": "code",
   "execution_count": 243,
   "metadata": {},
   "outputs": [
    {
     "data": {
      "text/plain": [
       "'M'"
      ]
     },
     "execution_count": 243,
     "metadata": {},
     "output_type": "execute_result"
    }
   ],
   "source": [
    "primarytype = get_type(M1)\n",
    "primarytype"
   ]
  },
  {
   "cell_type": "markdown",
   "metadata": {},
   "source": [
    "Create sampler for particular stellartype"
   ]
  },
  {
   "cell_type": "code",
   "execution_count": 244,
   "metadata": {},
   "outputs": [
    {
     "name": "stdout",
     "output_type": "stream",
     "text": [
      "CPU times: user 325 ms, sys: 9.76 ms, total: 335 ms\n",
      "Wall time: 329 ms\n"
     ]
    },
    {
     "data": {
      "image/png": "[encoded data removed]",
      "text/plain": [
       "<matplotlib.figure.Figure at 0x1213f82b0>"
      ]
     },
     "metadata": {},
     "output_type": "display_data"
    }
   ],
   "source": [
    "%%time\n",
    "logabinsampler = Sampler(logabinaries, logabinPDF[primarytype])\n",
    "bins, vals, patches = plt.hist(logabinsampler.sample(10000), bins=100)"
   ]
  },
  {
   "cell_type": "code",
   "execution_count": 245,
   "metadata": {},
   "outputs": [
    {
     "name": "stdout",
     "output_type": "stream",
     "text": [
      "6.00213632292 10.2877886851 9.54508110911\n"
     ]
    }
   ],
   "source": [
    "abinary = 10**logabinsampler.sample()[0]\n",
    "mind1 *= abinary\n",
    "mind2 *= abinary\n",
    "print(abinary, mind1, mind2)"
   ]
  },
  {
   "cell_type": "markdown",
   "metadata": {},
   "source": [
    "# Calculate a_Roche and Rstar from M"
   ]
  },
  {
   "cell_type": "markdown",
   "metadata": {},
   "source": [
    "First get FitRfuncM function to get radius from mass (at 1 Myr?)"
   ]
  },
  {
   "cell_type": "code",
   "execution_count": 246,
   "metadata": {},
   "outputs": [
    {
     "data": {
      "image/png": "[encoded data removed]",
      "text/plain": [
       "<matplotlib.figure.Figure at 0x12115bf98>"
      ]
     },
     "metadata": {},
     "output_type": "display_data"
    }
   ],
   "source": [
    "# Stellar tracks fits: L(M) and R(M)\n",
    "\n",
    "# Read the stellar tracks file with pandas. This is the only file needed\n",
    "tracksdf = pd.read_table('./startrackextended.txt', header=0,delimiter=r\"\\s+\")\n",
    "\n",
    "\n",
    "# Fit log_L then log_R as a function of log(mass) using polynomials\n",
    "FitLfuncM = np.polyfit(np.log10(tracksdf['star_mass']), tracksdf['log_L'], 16)\n",
    "FitRfuncM = np.polyfit(np.log10(tracksdf['star_mass']), tracksdf['log_R'], 20)\n",
    "\n",
    "\n",
    "# Convenience function to easily call the polynomials as functions \n",
    "# These are the functions you will need to use\n",
    "# example: Luminosity for a 1 solar mass star: PolyLfuncM(np.log10(1.))\n",
    "# It hence takes logs and output logs\n",
    "PolyLfuncM = np.poly1d(FitLfuncM)\n",
    "PolyRfuncM = np.poly1d(FitRfuncM)\n",
    "\n",
    "\n",
    "\n",
    "############################## PLOT ############################\n",
    "# stellar mass array\n",
    "arraytest = np.linspace(0.1,180.,len(tracksdf['log_L']))\n",
    "\n",
    "# Compare fit and data for L func of M\n",
    "plt.plot(np.log10(tracksdf['star_mass']),tracksdf['log_L'], color='black')\n",
    "plt.plot(np.log10(arraytest),PolyLfuncM(np.log10(arraytest).reshape((len(arraytest),1))), color='green')\n",
    "\n",
    "# Compare fit and data for R func of M\n",
    "plt.plot(np.log10(tracksdf['star_mass']),tracksdf['log_R'], color='blue')\n",
    "plt.plot(np.log10(arraytest),PolyRfuncM(np.log10(arraytest).reshape((len(arraytest),1))), color='red')\n",
    "\n",
    "plt.show()\n",
    "############################## END sPLOT ############################"
   ]
  },
  {
   "cell_type": "code",
   "execution_count": 247,
   "metadata": {},
   "outputs": [],
   "source": [
    "Rsun = 5e-3 # AU\n",
    "def aRoche(Mstar): # assumes fluid body (coeff of 1.26) and a bulk density for the body of 3 g/cc\n",
    "    rho_sun = 1.4\n",
    "    rho_body = 3\n",
    "    return 1.26*Mstar**(1./3.)*(rho_sun/rho_body)**(1./3.)*Rsun # Return value in AU\n",
    "\n",
    "def Rstar(Mstar): # Returns radius of star in AU at time interpolated in cell above\n",
    "    if Mstar < 0.1: # function can't interpolate below 0.1\n",
    "        Mstar = 0.1\n",
    "    return 10**PolyRfuncM(np.log10(Mstar))*Rsun"
   ]
  },
  {
   "cell_type": "code",
   "execution_count": 248,
   "metadata": {},
   "outputs": [],
   "source": [
    "aRoches = np.array([aRoche(10**M) for M in starmasses])/Rsun\n",
    "Rstars = np.array([Rstar(10**M) for M in starmasses])/Rsun"
   ]
  },
  {
   "cell_type": "markdown",
   "metadata": {},
   "source": [
    "# The Roche Limit is inside the stars for all values of the mass at 1 Myr. Presumably the Roche Limit is outside low-mass stars once they have contracted? Worth checking?"
   ]
  },
  {
   "cell_type": "code",
   "execution_count": 249,
   "metadata": {},
   "outputs": [
    {
     "data": {
      "text/plain": [
       "<matplotlib.text.Text at 0x1229ec160>"
      ]
     },
     "execution_count": 249,
     "metadata": {},
     "output_type": "execute_result"
    },
    {
     "data": {
      "image/png": "[encoded data removed]",
      "text/plain": [
       "<matplotlib.figure.Figure at 0x1226c0e10>"
      ]
     },
     "metadata": {},
     "output_type": "display_data"
    }
   ],
   "source": [
    "fig, ax = plt.subplots()\n",
    "ax.plot(starmasses, aRoches, label='Roche Limit')\n",
    "ax.plot(starmasses, Rstars, label='Stellar radius at 1 Myr')\n",
    "ax.legend()\n",
    "ax.set_xlabel('log M star (Solar Masses)')\n",
    "ax.set_ylabel('Distance (Solar Radii)')"
   ]
  },
  {
   "cell_type": "code",
   "execution_count": 250,
   "metadata": {},
   "outputs": [
    {
     "name": "stdout",
     "output_type": "stream",
     "text": [
      "0.00504362645654 0.0044570274198 0.00242223422365 0.00127031427779\n"
     ]
    }
   ],
   "source": [
    "R1 = Rstar(M1)\n",
    "R2 = Rstar(M2)\n",
    "aRoche1 = aRoche(M1)\n",
    "aRoche2 = aRoche(M2)\n",
    "print(R1, R2, aRoche1, aRoche2)"
   ]
  },
  {
   "cell_type": "markdown",
   "metadata": {},
   "source": [
    "# Put above steps all together in a function"
   ]
  },
  {
   "cell_type": "code",
   "execution_count": 251,
   "metadata": {},
   "outputs": [],
   "source": [
    "def sample(stellartype=None):\n",
    "    # sample system mass\n",
    "    if stellartype is None:\n",
    "        logMmin = -1\n",
    "        logMmax = 2\n",
    "    else:\n",
    "        Mmin, Mmax, MF = typemasses[stellartype]\n",
    "        logMmin = np.log10(Mmin)\n",
    "        logMmax = np.log10(Mmax)\n",
    "\n",
    "    Msystem = 10**logIMFsampler.sample(minval=logMmin, maxval=logMmax)[0] # returns array\n",
    "\n",
    "    # draw random Nbody simulation and get dimensoinalized masses from Msystem\n",
    "    randseed = np.random.randint(len(seeds))\n",
    "    mind1 = Nbodymind1s[randseed]\n",
    "    mind2 = Nbodymind2s[randseed]\n",
    "    mratio = mratios[randseed] # secondary has mass mratio\n",
    "    M1 = Msystem/(1.+mratio)\n",
    "    M2 = Msystem-M1\n",
    "    \n",
    "    # get primary stellar type and create abinary sampler to get abinary and dimensionalize minds\n",
    "    primarytype = get_type(M1)\n",
    "    logabinsampler = Sampler(logabinaries, logabinPDF[primarytype])\n",
    "    abinary = 10**logabinsampler.sample()[0]\n",
    "    mind1 *= abinary\n",
    "    mind2 *= abinary\n",
    "\n",
    "    # calculate radii and roche limits\n",
    "    R1 = Rstar(M1)\n",
    "    R2 = Rstar(M2)\n",
    "    aRoche1 = aRoche(M1)\n",
    "    aRoche2 = aRoche(M2)\n",
    "    \n",
    "    return [abinary, mind1, mind2, R1, R2, aRoche1, aRoche2] # all in AU"
   ]
  },
  {
   "cell_type": "code",
   "execution_count": 252,
   "metadata": {},
   "outputs": [
    {
     "data": {
      "text/plain": [
       "[21.419549143174805,\n",
       " 19.625340665676859,\n",
       " 0.65454061839810829,\n",
       " 0.0092408955459176139,\n",
       " 0.0044570274197973624,\n",
       " 0.0040134825641160469,\n",
       " 0.0015563217026192352]"
      ]
     },
     "execution_count": 252,
     "metadata": {},
     "output_type": "execute_result"
    }
   ],
   "source": [
    "stellartype = 'M'\n",
    "sample(stellartype)"
   ]
  },
  {
   "cell_type": "markdown",
   "metadata": {},
   "source": [
    "# Sample a stellar type"
   ]
  },
  {
   "cell_type": "code",
   "execution_count": 263,
   "metadata": {},
   "outputs": [
    {
     "name": "stdout",
     "output_type": "stream",
     "text": [
      "CPU times: user 1.78 s, sys: 47.1 ms, total: 1.83 s\n",
      "Wall time: 1.87 s\n"
     ]
    }
   ],
   "source": [
    "%%time\n",
    "stellartype = 'OB'\n",
    "Nsamples = 2000\n",
    "samples = np.array([sample(stellartype) for i in range(Nsamples)])\n",
    "abinaries, mind1s, mind2s, R1s, R2s, aRoche1s, aRoche2s = samples.T"
   ]
  },
  {
   "cell_type": "markdown",
   "metadata": {},
   "source": [
    "# Distribution of Stellar Radii\n",
    "\n",
    "Peak at low values for M stars is because most secondaries have M < 0.1, which is outside interpolation range for stellar radii, so they're assigned R(M=0.1)"
   ]
  },
  {
   "cell_type": "code",
   "execution_count": 264,
   "metadata": {},
   "outputs": [
    {
     "data": {
      "text/plain": [
       "<matplotlib.text.Text at 0x121c46f28>"
      ]
     },
     "execution_count": 264,
     "metadata": {},
     "output_type": "execute_result"
    },
    {
     "data": {
      "image/png": "[encoded data removed]",
      "text/plain": [
       "<matplotlib.figure.Figure at 0x121a883c8>"
      ]
     },
     "metadata": {},
     "output_type": "display_data"
    }
   ],
   "source": [
    "fig, ax = plt.subplots()\n",
    "bins, vals, patches = ax.hist(np.concatenate((R1s/Rsun, R2s/Rsun)), bins=50)\n",
    "ax.set_xlabel('Stellar radius (Solar Radii)', fontsize=16)"
   ]
  },
  {
   "cell_type": "markdown",
   "metadata": {},
   "source": [
    "# Distribution of Roche Limits"
   ]
  },
  {
   "cell_type": "code",
   "execution_count": 265,
   "metadata": {},
   "outputs": [
    {
     "data": {
      "text/plain": [
       "<matplotlib.text.Text at 0x12381e518>"
      ]
     },
     "execution_count": 265,
     "metadata": {},
     "output_type": "execute_result"
    },
    {
     "data": {
      "image/png": "[encoded data removed]",
      "text/plain": [
       "<matplotlib.figure.Figure at 0x123a27f98>"
      ]
     },
     "metadata": {},
     "output_type": "display_data"
    }
   ],
   "source": [
    "fig, ax = plt.subplots()\n",
    "bins, vals, patches = ax.hist(np.concatenate((aRoche1s/Rsun, aRoche2s/Rsun)), bins=40)\n",
    "ax.set_xlabel('Roche Limit (Solar Radii)', fontsize=16)"
   ]
  },
  {
   "cell_type": "markdown",
   "metadata": {},
   "source": [
    "# Distribution of binary separations\n",
    "\n",
    "For OB, part of the tail toward large separations is due to drawing an OB system mass, but then ending up with a primary that is an A star due to random draw of mass ratio"
   ]
  },
  {
   "cell_type": "code",
   "execution_count": 266,
   "metadata": {},
   "outputs": [
    {
     "data": {
      "text/plain": [
       "<matplotlib.text.Text at 0x12399f4a8>"
      ]
     },
     "execution_count": 266,
     "metadata": {},
     "output_type": "execute_result"
    },
    {
     "data": {
      "image/png": "[encoded data removed]",
      "text/plain": [
       "<matplotlib.figure.Figure at 0x11d108518>"
      ]
     },
     "metadata": {},
     "output_type": "display_data"
    }
   ],
   "source": [
    "fig, ax = plt.subplots()\n",
    "bins, vals, patches = ax.hist(np.log10(abinaries), bins=40)\n",
    "ax.set_xlabel('Log binary separation (AU)', fontsize=16)"
   ]
  },
  {
   "cell_type": "markdown",
   "metadata": {},
   "source": [
    "# Distribution of log min distances in units of stellar radii"
   ]
  },
  {
   "cell_type": "code",
   "execution_count": 267,
   "metadata": {},
   "outputs": [
    {
     "data": {
      "text/plain": [
       "<matplotlib.text.Text at 0x122537470>"
      ]
     },
     "execution_count": 267,
     "metadata": {},
     "output_type": "execute_result"
    },
    {
     "data": {
      "image/png": "[encoded data removed]",
      "text/plain": [
       "<matplotlib.figure.Figure at 0x121670f98>"
      ]
     },
     "metadata": {},
     "output_type": "display_data"
    }
   ],
   "source": [
    "fig, ax = plt.subplots()\n",
    "ds = np.concatenate((np.log10(mind1s/R1s), np.log10(mind2s/R2s)))\n",
    "bins, vals, patches = ax.hist(ds, bins=40)\n",
    "ax.set_xlabel('Log min distance (Stellar Radii)', fontsize=16)"
   ]
  },
  {
   "cell_type": "code",
   "execution_count": 268,
   "metadata": {},
   "outputs": [
    {
     "name": "stdout",
     "output_type": "stream",
     "text": [
      "Number of collisions = 245/4000 = 0.06125\n"
     ]
    }
   ],
   "source": [
    "print(\"Number of collisions = {0}/{1} = {2}\".format((ds < 0).sum(), len(ds), (ds < 0).sum()/float(len(ds))))"
   ]
  },
  {
   "cell_type": "markdown",
   "metadata": {},
   "source": [
    "# Distribution of log min distances in units of Roche radii"
   ]
  },
  {
   "cell_type": "code",
   "execution_count": 269,
   "metadata": {},
   "outputs": [
    {
     "data": {
      "text/plain": [
       "<matplotlib.text.Text at 0x1225a1ef0>"
      ]
     },
     "execution_count": 269,
     "metadata": {},
     "output_type": "execute_result"
    },
    {
     "data": {
      "image/png": "[encoded data removed]",
      "text/plain": [
       "<matplotlib.figure.Figure at 0x122a88da0>"
      ]
     },
     "metadata": {},
     "output_type": "display_data"
    }
   ],
   "source": [
    "fig, ax = plt.subplots()\n",
    "ds = np.concatenate((np.log10(mind1s/aRoche1s), np.log10(mind2s/aRoche2s)))\n",
    "bins, vals, patches = ax.hist(ds, bins=40)\n",
    "ax.set_xlabel('Log min distance (Roche Radii)', fontsize=16)"
   ]
  },
  {
   "cell_type": "code",
   "execution_count": 270,
   "metadata": {},
   "outputs": [
    {
     "name": "stdout",
     "output_type": "stream",
     "text": [
      "Number of tidal disruptions = 161/4000 = 0.04025\n"
     ]
    }
   ],
   "source": [
    "print(\"Number of tidal disruptions = {0}/{1} = {2}\".format((ds < 0).sum(), len(ds), (ds < 0).sum()/float(len(ds))))"
   ]
  },
  {
   "cell_type": "markdown",
   "metadata": {},
   "source": [
    "# Can tidal disruptions even occur?\n",
    "\n",
    "Check how many samples had Roche radius outside stellar radius"
   ]
  },
  {
   "cell_type": "code",
   "execution_count": 271,
   "metadata": {},
   "outputs": [],
   "source": [
    "fracs = np.concatenate((aRoche1s/R1s, aRoche2s/R2s))\n",
    "mask = ds < 0\n",
    "disruptioncandidates = fracs[mask]"
   ]
  },
  {
   "cell_type": "code",
   "execution_count": 272,
   "metadata": {},
   "outputs": [
    {
     "name": "stdout",
     "output_type": "stream",
     "text": [
      "0/161 = 0.0 of the tidal disruptions were true disruptions rather than collisions (had Roche radius outside stellar radius)\n"
     ]
    }
   ],
   "source": [
    "print(\"{0}/{1} = {2} of the tidal disruptions were true disruptions rather than collisions (had Roche radius outside stellar radius)\".format((disruptioncandidates > 1).sum(), len(disruptioncandidates), (disruptioncandidates > 1).sum()/float(len(disruptioncandidates))))"
   ]
  },
  {
   "cell_type": "code",
   "execution_count": null,
   "metadata": {},
   "outputs": [],
   "source": []
  }
 ],
 "metadata": {
  "kernelspec": {
   "display_name": "Python [default]",
   "language": "python",
   "name": "python3"
  },
  "language_info": {
   "codemirror_mode": {
    "name": "ipython",
    "version": 3
   },
   "file_extension": ".py",
   "mimetype": "text/x-python",
   "name": "python",
   "nbconvert_exporter": "python",
   "pygments_lexer": "ipython3",
   "version": "3.6.2"
  }
 },
 "nbformat": 4,
 "nbformat_minor": 2
}
