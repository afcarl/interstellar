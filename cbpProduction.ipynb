{
 "cells": [
  {
   "cell_type": "code",
   "execution_count": 1,
   "metadata": {},
   "outputs": [],
   "source": [
    "import rebound\n",
    "import reboundx\n",
    "import sys\n",
    "sys.path.append('../systemsounds')\n",
    "import systemsounds as ss\n",
    "import numpy as np\n",
    "from random import random, uniform, seed\n",
    "from systemsounds import EventRecorder\n",
    "import pandas as pd\n",
    "import os"
   ]
  },
  {
   "cell_type": "code",
   "execution_count": 6,
   "metadata": {},
   "outputs": [],
   "source": [
    "def acrit(sim): # Holman & Wiegert 99 for P type circumbinary\n",
    "    ps = sim.particles\n",
    "    mu = ps[1].m/(ps[1].m+ps[0].m)\n",
    "    return 1.60 + 5.10*ps[1].e -2.22*ps[1].e**2 + 4.12*mu -4.27*ps[1].e*mu -5.09*mu**2 + 4.61*ps[1].e**2*mu**2 \n",
    "\n",
    "def stop(reb_sim, reb_col):\n",
    "    reb_sim.contents._status = 6\n",
    "    return 0\n",
    "\n",
    "def distance(sim, i1, i2):\n",
    "    ps = sim.particles\n",
    "    diff = ps[i2]-ps[i1]\n",
    "    return np.sqrt(diff.x**2 + diff.y**2 + diff.z**2)\n",
    "\n",
    "class mindRecorder(EventRecorder):\n",
    "    def __init__(self, sim, starindex):\n",
    "        self.starindex = starindex\n",
    "        self.mind = 0.99*min(distance(sim, 0, 2), distance(sim, 1,2)) # needs to start less than initial value\n",
    "        self.mind0 = self.mind\n",
    "        super(mindRecorder, self).__init__(sim, lambda sim, i: self.mind-distance(sim, 2, self.starindex), targets=[None])\n",
    "    def process_event(self, event_sim, target=None):\n",
    "        self.mind = distance(event_sim, 2, self.starindex)\n",
    "        super(mindRecorder, self).process_event(event_sim, target)"
   ]
  },
  {
   "cell_type": "code",
   "execution_count": 7,
   "metadata": {},
   "outputs": [],
   "source": [
    "def runbinary(randseed=0, mratio=None, ebinary=None):\n",
    "    seed(randseed)\n",
    "    if mratio is None:\n",
    "        mratio = random()\n",
    "    if ebinary is None:\n",
    "        ebinary = 0.9*random()\n",
    "        \n",
    "    sim = rebound.Simulation()\n",
    "    sim.G = 4*np.pi**2\n",
    "    Rmin = 1.e-2\n",
    "    sim.add(m=1., r=Rmin)\n",
    "    sim.add(m=mratio, a=1., e=ebinary, r=Rmin, pomega=random()*2.*np.pi, f=random()*2.*np.pi)\n",
    "    sim.move_to_com()\n",
    "    ps = sim.particles\n",
    "    sim.add(a=1.2*acrit(sim), f=random()*2.*np.pi)\n",
    "    \n",
    "    sim.exit_max_distance= 100.\n",
    "    sim.collision=\"direct\"\n",
    "    sim.collision_resolve = stop\n",
    "\n",
    "    rebx = reboundx.Extras(sim)\n",
    "    rebx.add(\"modify_orbits_forces\")\n",
    "    ps[2].params['tau_a'] = -1000*ps[2].P\n",
    "    \n",
    "    recorder1 = mindRecorder(sim, 0)\n",
    "    recorder2 = mindRecorder(sim, 1)\n",
    "    tmax=1.e4\n",
    "    \n",
    "    code=0\n",
    "    try:\n",
    "        sim.integrate(tmax)\n",
    "    except KeyboardInterrupt:\n",
    "        code=1\n",
    "    except rebound.Escape:\n",
    "        code=2\n",
    "    \n",
    "    with open('Nbody.txt', 'a') as f:\n",
    "        f.write('{0}\\t{1}\\t{2}\\t{3}\\t{4}\\t{5}\\t{6}\\n'.format(randseed, recorder1.mind, recorder2.mind, recorder1.mind0, mratio, ebinary, code))"
   ]
  },
  {
   "cell_type": "code",
   "execution_count": 8,
   "metadata": {},
   "outputs": [],
   "source": [
    "for i in range(1611, 2000):\n",
    "    runbinary(i)"
   ]
  },
  {
   "cell_type": "code",
   "execution_count": 54,
   "metadata": {},
   "outputs": [],
   "source": [
    "def get_a_binary(M_primary):\n",
    "    return 1.\n",
    "\n",
    "def get_a_Roche(Mstar):\n",
    "    rho_sun = 1.4\n",
    "    rho_body = 3\n",
    "    Rsun = 5e-3\n",
    "    return 1.26*Mstar**(1./3.)*(rho_sun/rho_body)**(1./3.)*Rsun\n",
    "\n",
    "def get_Rstar(Mstar):\n",
    "    Rsun = 5.e-3\n",
    "    return 10**PolyRfuncM(np.log10(Mstar))*Rsun\n",
    "\n",
    "get_a_binary = np.vectorize(get_a_binary)\n",
    "get_a_Roche = np.vectorize(get_a_Roche)\n",
    "get_Rstar = np.vectorize(get_Rstar)"
   ]
  },
  {
   "cell_type": "code",
   "execution_count": 85,
   "metadata": {},
   "outputs": [],
   "source": [
    "typemasses = {'VLM':[1.e-3, 0.1], 'M':[0.1, 0.6], 'FGK':[0.6, 1.4], 'A':[1.4, 6.5], 'OB':[6.5, 100]}\n",
    "\n",
    "def get_type(M):\n",
    "    for key, value in typemasses.items():\n",
    "        if M > value[0] and M < value[1]:\n",
    "            return key\n",
    "    return np.nan\n",
    "\n",
    "def sample_mass(startype):\n",
    "    Mmin, Mmax = typemasses[startype]\n",
    "    return Mmin + (Mmax-Mmin)*random()"
   ]
  },
  {
   "cell_type": "code",
   "execution_count": null,
   "metadata": {},
   "outputs": [],
   "source": [
    "if M <= 0.1:\n",
    "   s_type = ('VLM')\n",
    "   a_avg = 4.5#average separation (au)\n",
    "   a_sigma = 0.333\n",
    "elif M > 0.1 and M <= 0.6:\n",
    "   s_type = ('Mstar')\n",
    "   a_avg = 5.3#average separation (au)\n",
    "   a_sigma = 0.867\n",
    "elif M > 0.6 and M <= 1.4:\n",
    "   s_type = ('FKG')\n",
    "   a_avg = 45#average separation (au)\n",
    "   a_sigma = 1.533\n",
    "elif M > 1.4 and M <= 6.5:\n",
    "   s_type = ('A stars')\n",
    "   bimodal = 1\n",
    "   a_avg = 350\n",
    "   a_avg2 = 0.2\n",
    "   a_sigma = 1.533\n",
    "   a_sigma2 = 1\n",
    "elif M > 6.5 and M <= 16:\n",
    "   s_type = ('EarlyB')\n",
    "   powerlaw = 1\n",
    "   a_avg = 0.2\n",
    "   a_sigma = 1.533\n",
    "elif M > 16:\n",
    "   s_type = ('Ostar')\n",
    "   powerlaw = 1\n",
    "   a_avg = 0.2\n",
    "   a_sigma = 0.1677"
   ]
  },
  {
   "cell_type": "code",
   "execution_count": 60,
   "metadata": {},
   "outputs": [
    {
     "data": {
      "text/plain": [
       "0.39349795593439396"
      ]
     },
     "execution_count": 60,
     "metadata": {},
     "output_type": "execute_result"
    }
   ],
   "source": [
    "def sample(randseed=0):\n",
    "    seed(randseed)\n",
    "    Mmin = 0.1\n",
    "    Mmax = 0.5\n",
    "    M = Mmin + (Mmax-Mmin)*random()\n",
    "    a_bin = get_a_binary(M)\n",
    "    a_Roche1 = get_a_Roche(M)\n",
    "    a_Roche2 = get_a_Roche(M*q)\n",
    "    Rstar1 = get_Rstar(M)\n",
    "    Rstar2 = get_Rstar(M*q)\n",
    "\n",
    "    row = a[np.random.randint(0, a.shape[0])]\n",
    "    dmin1 = row[0]\n",
    "    dmin2 = row[1]\n",
    "    q = row[3]\n",
    "\n",
    "    dmin1Roche = dmin1*a_bin/a_Roche1\n",
    "    dmin2Roche = dmin2*a_bin/a_Roche2\n",
    "    dmin1R = dmin1*a_bin/Rstar1\n",
    "    dmin2R = dmin2*a_bin/Rstar2"
   ]
  },
  {
   "cell_type": "code",
   "execution_count": 92,
   "metadata": {},
   "outputs": [
    {
     "data": {
      "image/png": "[encoded data removed]",
      "text/plain": [
       "<matplotlib.figure.Figure at 0x1141ca400>"
      ]
     },
     "metadata": {},
     "output_type": "display_data"
    }
   ],
   "source": [
    "import numpy as np\n",
    "import matplotlib.pyplot as plt\n",
    "%matplotlib inline\n",
    "def test(M):\n",
    "    if M < 5:\n",
    "        return M/2497.4974974974975\n",
    "    if M >= 5:\n",
    "        return (10-M)/2497.4974974974975\n",
    "test = np.vectorize(test)\n",
    "m = np.linspace(0,10,1000)\n",
    "pdf = [test(M) for M in m]\n",
    "plt.plot(m, pdf)\n",
    "plt.show()"
   ]
  },
  {
   "cell_type": "code",
   "execution_count": 20,
   "metadata": {},
   "outputs": [
    {
     "data": {
      "text/plain": [
       "1.0"
      ]
     },
     "execution_count": 20,
     "metadata": {},
     "output_type": "execute_result"
    }
   ],
   "source": [
    "np.array(pdf).sum()"
   ]
  },
  {
   "cell_type": "code",
   "execution_count": 21,
   "metadata": {},
   "outputs": [
    {
     "data": {
      "image/png": "[encoded data removed]",
      "text/plain": [
       "<matplotlib.figure.Figure at 0x113d43c88>"
      ]
     },
     "metadata": {},
     "output_type": "display_data"
    }
   ],
   "source": [
    "cdf = np.cumsum(pdf)\n",
    "plt.plot(m, cdf)\n",
    "plt.show()"
   ]
  },
  {
   "cell_type": "code",
   "execution_count": 22,
   "metadata": {},
   "outputs": [],
   "source": [
    "from scipy.interpolate import interp1d\n",
    "f = interp1d(cdf, m)"
   ]
  },
  {
   "cell_type": "code",
   "execution_count": 23,
   "metadata": {},
   "outputs": [
    {
     "data": {
      "text/plain": [
       "array(4.994994994995002)"
      ]
     },
     "execution_count": 23,
     "metadata": {},
     "output_type": "execute_result"
    }
   ],
   "source": [
    "f(0.5)"
   ]
  },
  {
   "cell_type": "code",
   "execution_count": 93,
   "metadata": {},
   "outputs": [
    {
     "name": "stdout",
     "output_type": "stream",
     "text": [
      "1.0\n"
     ]
    },
    {
     "data": {
      "text/plain": [
       "(array([  16.,   28.,   55.,   67.,   89.,  124.,  152.,  141.,  172.,\n",
       "         174.,  209.,  263.,  247.,  283.,  306.,  301.,  323.,  374.,\n",
       "         407.,  356.,  438.,  431.,  449.,  468.,  487.,  500.,  545.,\n",
       "         581.,  587.,  579.,  594.,  653.,  649.,  650.,  678.,  671.,\n",
       "         735.,  753.,  792.,  761.,  775.,  814.,  848.,  882.,  816.,\n",
       "         952.,  908.,  981.,  999.,  999.,  973.,  968.,  968.,  878.,\n",
       "         911.,  933.,  892.,  834.,  833.,  809.,  717.,  824.,  702.,\n",
       "         730.,  723.,  680.,  698.,  599.,  658.,  633.,  593.,  591.,\n",
       "         536.,  536.,  478.,  506.,  455.,  463.,  418.,  436.,  403.,\n",
       "         377.,  360.,  327.,  281.,  279.,  260.,  249.,  223.,  210.,\n",
       "         188.,  171.,  158.,  129.,  100.,   79.,   73.,   55.,   27.,   14.]),\n",
       " array([ 0.02335577,  0.12292168,  0.22248758,  0.32205349,  0.4216194 ,\n",
       "         0.5211853 ,  0.62075121,  0.72031712,  0.81988302,  0.91944893,\n",
       "         1.01901484,  1.11858075,  1.21814665,  1.31771256,  1.41727847,\n",
       "         1.51684437,  1.61641028,  1.71597619,  1.81554209,  1.915108  ,\n",
       "         2.01467391,  2.11423981,  2.21380572,  2.31337163,  2.41293754,\n",
       "         2.51250344,  2.61206935,  2.71163526,  2.81120116,  2.91076707,\n",
       "         3.01033298,  3.10989888,  3.20946479,  3.3090307 ,  3.40859661,\n",
       "         3.50816251,  3.60772842,  3.70729433,  3.80686023,  3.90642614,\n",
       "         4.00599205,  4.10555795,  4.20512386,  4.30468977,  4.40425567,\n",
       "         4.50382158,  4.60338749,  4.7029534 ,  4.8025193 ,  4.90208521,\n",
       "         5.00165112,  5.10121702,  5.20078293,  5.30034884,  5.39991474,\n",
       "         5.49948065,  5.59904656,  5.69861247,  5.79817837,  5.89774428,\n",
       "         5.99731019,  6.09687609,  6.196442  ,  6.29600791,  6.39557381,\n",
       "         6.49513972,  6.59470563,  6.69427154,  6.79383744,  6.89340335,\n",
       "         6.99296926,  7.09253516,  7.19210107,  7.29166698,  7.39123288,\n",
       "         7.49079879,  7.5903647 ,  7.6899306 ,  7.78949651,  7.88906242,\n",
       "         7.98862833,  8.08819423,  8.18776014,  8.28732605,  8.38689195,\n",
       "         8.48645786,  8.58602377,  8.68558967,  8.78515558,  8.88472149,\n",
       "         8.9842874 ,  9.0838533 ,  9.18341921,  9.28298512,  9.38255102,\n",
       "         9.48211693,  9.58168284,  9.68124874,  9.78081465,  9.88038056,\n",
       "         9.97994646]),\n",
       " <a list of 100 Patch objects>)"
      ]
     },
     "execution_count": 93,
     "metadata": {},
     "output_type": "execute_result"
    },
    {
     "data": {
      "image/png": "[encoded data removed]",
      "text/plain": [
       "<matplotlib.figure.Figure at 0x1166a3c50>"
      ]
     },
     "metadata": {},
     "output_type": "display_data"
    }
   ],
   "source": [
    "f = sampler(m, test)\n",
    "plt.hist(f(np.random.random([50000])), bins=100)"
   ]
  },
  {
   "cell_type": "code",
   "execution_count": 26,
   "metadata": {},
   "outputs": [
    {
     "data": {
      "text/plain": [
       "(array([   14.,    20.,    52.,    74.,    93.,   114.,   142.,   166.,\n",
       "          173.,   193.,   237.,   230.,   251.,   258.,   310.,   313.,\n",
       "          324.,   341.,   377.,   400.,   378.,   416.,   466.,   467.,\n",
       "          516.,   493.,   539.,   556.,   572.,   625.,   589.,   623.,\n",
       "          631.,   629.,   647.,   722.,   693.,   740.,   727.,   816.,\n",
       "          804.,   852.,   869.,   830.,   848.,   939.,   918.,   938.,\n",
       "          908.,   996.,  1030.,   988.,   930.,   957.,   896.,   886.,\n",
       "          842.,   858.,   833.,   758.,   792.,   793.,   754.,   741.,\n",
       "          710.,   695.,   655.,   673.,   648.,   569.,   609.,   559.,\n",
       "          552.,   506.,   459.,   473.,   508.,   500.,   417.,   412.,\n",
       "          389.,   373.,   364.,   356.,   340.,   312.,   258.,   242.,\n",
       "          229.,   232.,   197.,   177.,   167.,   128.,   118.,   101.,\n",
       "           76.,    58.,    34.,    17.]),\n",
       " array([  1.25692783e-03,   1.00826850e-01,   2.00396773e-01,\n",
       "          2.99966696e-01,   3.99536618e-01,   4.99106541e-01,\n",
       "          5.98676463e-01,   6.98246386e-01,   7.97816309e-01,\n",
       "          8.97386231e-01,   9.96956154e-01,   1.09652608e+00,\n",
       "          1.19609600e+00,   1.29566592e+00,   1.39523584e+00,\n",
       "          1.49480577e+00,   1.59437569e+00,   1.69394561e+00,\n",
       "          1.79351553e+00,   1.89308546e+00,   1.99265538e+00,\n",
       "          2.09222530e+00,   2.19179522e+00,   2.29136515e+00,\n",
       "          2.39093507e+00,   2.49050499e+00,   2.59007492e+00,\n",
       "          2.68964484e+00,   2.78921476e+00,   2.88878468e+00,\n",
       "          2.98835461e+00,   3.08792453e+00,   3.18749445e+00,\n",
       "          3.28706437e+00,   3.38663430e+00,   3.48620422e+00,\n",
       "          3.58577414e+00,   3.68534406e+00,   3.78491399e+00,\n",
       "          3.88448391e+00,   3.98405383e+00,   4.08362375e+00,\n",
       "          4.18319368e+00,   4.28276360e+00,   4.38233352e+00,\n",
       "          4.48190344e+00,   4.58147337e+00,   4.68104329e+00,\n",
       "          4.78061321e+00,   4.88018313e+00,   4.97975306e+00,\n",
       "          5.07932298e+00,   5.17889290e+00,   5.27846283e+00,\n",
       "          5.37803275e+00,   5.47760267e+00,   5.57717259e+00,\n",
       "          5.67674252e+00,   5.77631244e+00,   5.87588236e+00,\n",
       "          5.97545228e+00,   6.07502221e+00,   6.17459213e+00,\n",
       "          6.27416205e+00,   6.37373197e+00,   6.47330190e+00,\n",
       "          6.57287182e+00,   6.67244174e+00,   6.77201166e+00,\n",
       "          6.87158159e+00,   6.97115151e+00,   7.07072143e+00,\n",
       "          7.17029135e+00,   7.26986128e+00,   7.36943120e+00,\n",
       "          7.46900112e+00,   7.56857104e+00,   7.66814097e+00,\n",
       "          7.76771089e+00,   7.86728081e+00,   7.96685074e+00,\n",
       "          8.06642066e+00,   8.16599058e+00,   8.26556050e+00,\n",
       "          8.36513043e+00,   8.46470035e+00,   8.56427027e+00,\n",
       "          8.66384019e+00,   8.76341012e+00,   8.86298004e+00,\n",
       "          8.96254996e+00,   9.06211988e+00,   9.16168981e+00,\n",
       "          9.26125973e+00,   9.36082965e+00,   9.46039957e+00,\n",
       "          9.55996950e+00,   9.65953942e+00,   9.75910934e+00,\n",
       "          9.85867926e+00,   9.95824919e+00]),\n",
       " <a list of 100 Patch objects>)"
      ]
     },
     "execution_count": 26,
     "metadata": {},
     "output_type": "execute_result"
    },
    {
     "data": {
      "image/png": "[encoded data removed]",
      "text/plain": [
       "<matplotlib.figure.Figure at 0x111fb12e8>"
      ]
     },
     "metadata": {},
     "output_type": "display_data"
    }
   ],
   "source": []
  },
  {
   "cell_type": "code",
   "execution_count": 106,
   "metadata": {},
   "outputs": [
    {
     "data": {
      "image/png": "[encoded data removed]",
      "text/plain": [
       "<matplotlib.figure.Figure at 0x11874bd68>"
      ]
     },
     "metadata": {},
     "output_type": "display_data"
    }
   ],
   "source": [
    "%matplotlib inline\n",
    "import matplotlib.pyplot as plt\n",
    "def IMFChab(M):\n",
    "    IMFChab = 0.086*(1./(np.log(10)*M))*np.exp(-((np.log10(M)-np.log10(0.22))**(2.))/(2.*0.57**2.))\n",
    "    return IMFChab\n",
    "\n",
    "starmasses = np.linspace(0.1,100,100000)\n",
    "IMF = IMFChab(starmasses)\n",
    "plt.plot(starmasses, IMF)\n",
    "#plt.xscale('log')\n",
    "plt.show()"
   ]
  },
  {
   "cell_type": "code",
   "execution_count": null,
   "metadata": {},
   "outputs": [],
   "source": [
    "log10M = lnM/ln10"
   ]
  },
  {
   "cell_type": "code",
   "execution_count": null,
   "metadata": {},
   "outputs": [],
   "source": [
    "df/dlog10M = ln10*M df/dM"
   ]
  },
  {
   "cell_type": "code",
   "execution_count": 99,
   "metadata": {},
   "outputs": [
    {
     "data": {
      "image/png": "[encoded data removed]",
      "text/plain": [
       "<matplotlib.figure.Figure at 0x11472e898>"
      ]
     },
     "metadata": {},
     "output_type": "display_data"
    }
   ],
   "source": [
    "%matplotlib inline\n",
    "import matplotlib.pyplot as plt\n",
    "def logIMFChab(logM):\n",
    "    IMFChab = 0.086*np.exp(-((logM-np.log10(0.22))**(2.))/(2.*0.57**2.))\n",
    "    return IMFChab\n",
    "\n",
    "starmasses = np.linspace(-1, 2, 100000)\n",
    "IMF = logIMFChab(starmasses)\n",
    "plt.plot(starmasses, IMF)\n",
    "#plt.xscale('log')\n",
    "plt.show()"
   ]
  },
  {
   "cell_type": "code",
   "execution_count": 105,
   "metadata": {},
   "outputs": [
    {
     "name": "stdout",
     "output_type": "stream",
     "text": [
      "1.0\n"
     ]
    },
    {
     "data": {
      "image/png": "[encoded data removed]",
      "text/plain": [
       "<matplotlib.figure.Figure at 0x1180906d8>"
      ]
     },
     "metadata": {},
     "output_type": "display_data"
    }
   ],
   "source": [
    "f = sampler(starmasses, logIMFChab)\n",
    "ret = plt.hist(10**f(np.random.random([100000])), bins=100)"
   ]
  },
  {
   "cell_type": "code",
   "execution_count": 28,
   "metadata": {},
   "outputs": [
    {
     "data": {
      "text/plain": [
       "1.0000000000000004"
      ]
     },
     "execution_count": 28,
     "metadata": {},
     "output_type": "execute_result"
    }
   ],
   "source": [
    "IMF.sum()"
   ]
  },
  {
   "cell_type": "code",
   "execution_count": 29,
   "metadata": {},
   "outputs": [
    {
     "data": {
      "image/png": "[encoded data removed]",
      "text/plain": [
       "<matplotlib.figure.Figure at 0x11423a400>"
      ]
     },
     "metadata": {},
     "output_type": "display_data"
    }
   ],
   "source": [
    "IMFcdf = np.cumsum(IMF)\n",
    "plt.plot(starmasses, IMFcdf)\n",
    "#plt.xscale('log')\n",
    "plt.show()"
   ]
  },
  {
   "cell_type": "code",
   "execution_count": 67,
   "metadata": {},
   "outputs": [],
   "source": [
    "from scipy.interpolate import interp1d\n",
    "f = interp1d(IMFcdf, starmasses)"
   ]
  },
  {
   "cell_type": "code",
   "execution_count": 70,
   "metadata": {},
   "outputs": [
    {
     "data": {
      "text/plain": [
       "0.0034860419870479365"
      ]
     },
     "execution_count": 70,
     "metadata": {},
     "output_type": "execute_result"
    }
   ],
   "source": [
    "IMFcdf.min()"
   ]
  },
  {
   "cell_type": "code",
   "execution_count": 87,
   "metadata": {},
   "outputs": [],
   "source": [
    "def sampler(values, pdffunc):\n",
    "    pdf = pdffunc(values)\n",
    "    pdf/=pdf.sum()\n",
    "    cdf = np.cumsum(pdf)\n",
    "    f = interp1d(cdf, values)\n",
    "    def wrapper(cdfval):\n",
    "        try:\n",
    "            return f(cdfval)\n",
    "        except ValueError:\n",
    "            if cdfval < cdf.min():\n",
    "                return values.min()\n",
    "            elif cdfval > cdf.max():\n",
    "                return values.max()\n",
    "    wrapper = np.vectorize(wrapper)\n",
    "    return wrapper"
   ]
  },
  {
   "cell_type": "code",
   "execution_count": 94,
   "metadata": {},
   "outputs": [
    {
     "name": "stdout",
     "output_type": "stream",
     "text": [
      "1.0\n"
     ]
    },
    {
     "data": {
      "text/plain": [
       "(array([ 17.,  18.,  27.,  19.,  29.,  21.,  20.,  24.,  18.,  17.,  24.,\n",
       "         26.,  19.,  24.,  20.,  28.,  27.,  20.,  18.,  24.,  17.,  26.,\n",
       "         22.,  19.,  21.,  19.,  20.,  13.,  25.,  17.,  18.,  14.,  25.,\n",
       "         13.,  24.,  11.,  20.,  11.,   9.,  13.,  14.,   8.,  14.,   7.,\n",
       "         14.,  11.,   3.,  15.,  10.,  10.,   6.,   7.,   9.,   3.,   3.,\n",
       "          5.,   5.,   3.,  10.,   4.,   6.,   2.,   3.,   3.,   3.,   3.,\n",
       "          3.,   1.,   2.,   3.,   1.,   1.,   2.,   2.,   0.,   1.,   1.,\n",
       "          0.,   1.,   0.,   1.,   1.,   0.,   0.,   0.,   0.,   0.,   0.,\n",
       "          0.,   0.,   0.,   0.,   0.,   0.,   0.,   0.,   0.,   1.,   0.,\n",
       "          1.]), array([ -1.00000000e+00,  -9.76198196e-01,  -9.52396392e-01,\n",
       "         -9.28594589e-01,  -9.04792785e-01,  -8.80990981e-01,\n",
       "         -8.57189177e-01,  -8.33387373e-01,  -8.09585569e-01,\n",
       "         -7.85783766e-01,  -7.61981962e-01,  -7.38180158e-01,\n",
       "         -7.14378354e-01,  -6.90576550e-01,  -6.66774747e-01,\n",
       "         -6.42972943e-01,  -6.19171139e-01,  -5.95369335e-01,\n",
       "         -5.71567531e-01,  -5.47765727e-01,  -5.23963924e-01,\n",
       "         -5.00162120e-01,  -4.76360316e-01,  -4.52558512e-01,\n",
       "         -4.28756708e-01,  -4.04954905e-01,  -3.81153101e-01,\n",
       "         -3.57351297e-01,  -3.33549493e-01,  -3.09747689e-01,\n",
       "         -2.85945886e-01,  -2.62144082e-01,  -2.38342278e-01,\n",
       "         -2.14540474e-01,  -1.90738670e-01,  -1.66936866e-01,\n",
       "         -1.43135063e-01,  -1.19333259e-01,  -9.55314550e-02,\n",
       "         -7.17296512e-02,  -4.79278474e-02,  -2.41260436e-02,\n",
       "         -3.24239736e-04,   2.34775641e-02,   4.72793679e-02,\n",
       "          7.10811717e-02,   9.48829755e-02,   1.18684779e-01,\n",
       "          1.42486583e-01,   1.66288387e-01,   1.90090191e-01,\n",
       "          2.13891995e-01,   2.37693798e-01,   2.61495602e-01,\n",
       "          2.85297406e-01,   3.09099210e-01,   3.32901014e-01,\n",
       "          3.56702818e-01,   3.80504621e-01,   4.04306425e-01,\n",
       "          4.28108229e-01,   4.51910033e-01,   4.75711837e-01,\n",
       "          4.99513640e-01,   5.23315444e-01,   5.47117248e-01,\n",
       "          5.70919052e-01,   5.94720856e-01,   6.18522659e-01,\n",
       "          6.42324463e-01,   6.66126267e-01,   6.89928071e-01,\n",
       "          7.13729875e-01,   7.37531679e-01,   7.61333482e-01,\n",
       "          7.85135286e-01,   8.08937090e-01,   8.32738894e-01,\n",
       "          8.56540698e-01,   8.80342501e-01,   9.04144305e-01,\n",
       "          9.27946109e-01,   9.51747913e-01,   9.75549717e-01,\n",
       "          9.99351521e-01,   1.02315332e+00,   1.04695513e+00,\n",
       "          1.07075693e+00,   1.09455874e+00,   1.11836054e+00,\n",
       "          1.14216234e+00,   1.16596415e+00,   1.18976595e+00,\n",
       "          1.21356775e+00,   1.23736956e+00,   1.26117136e+00,\n",
       "          1.28497317e+00,   1.30877497e+00,   1.33257677e+00,\n",
       "          1.35637858e+00,   1.38018038e+00]), <a list of 100 Patch objects>)"
      ]
     },
     "execution_count": 94,
     "metadata": {},
     "output_type": "execute_result"
    },
    {
     "data": {
      "image/png": "[encoded data removed]",
      "text/plain": [
       "<matplotlib.figure.Figure at 0x115c52b70>"
      ]
     },
     "metadata": {},
     "output_type": "display_data"
    }
   ],
   "source": [
    "f = sampler(starmasses, IMFChab)\n",
    "plt.hist(np.log10(f(np.random.random([1000]))), bins=100)"
   ]
  },
  {
   "cell_type": "code",
   "execution_count": 88,
   "metadata": {},
   "outputs": [
    {
     "name": "stdout",
     "output_type": "stream",
     "text": [
      "1.0\n"
     ]
    }
   ],
   "source": [
    "f = sampler(starmasses, IMFChab)"
   ]
  },
  {
   "cell_type": "code",
   "execution_count": null,
   "metadata": {},
   "outputs": [],
   "source": []
  },
  {
   "cell_type": "code",
   "execution_count": 41,
   "metadata": {
    "scrolled": true
   },
   "outputs": [
    {
     "data": {
      "image/png": "[encoded data removed]",
      "text/plain": [
       "<matplotlib.figure.Figure at 0x115608710>"
      ]
     },
     "metadata": {},
     "output_type": "display_data"
    }
   ],
   "source": [
    "plt.plot(starmasses, IMFcdf)\n",
    "plt.plot(np.linspace(0.01,0.99,1000), f(np.linspace(0.01,0.99,1000)))\n",
    "plt.xscale('log')\n",
    "plt.show()"
   ]
  },
  {
   "cell_type": "code",
   "execution_count": 33,
   "metadata": {},
   "outputs": [
    {
     "data": {
      "text/plain": [
       "array([ 0.00348604,  0.00695324,  0.01040169, ...,  1.        ,\n",
       "        1.        ,  1.        ])"
      ]
     },
     "execution_count": 33,
     "metadata": {},
     "output_type": "execute_result"
    }
   ],
   "source": [
    "IMFcdf"
   ]
  },
  {
   "cell_type": "code",
   "execution_count": 209,
   "metadata": {},
   "outputs": [
    {
     "name": "stdout",
     "output_type": "stream",
     "text": [
      "0.9560342718892494 0.2404\n"
     ]
    },
    {
     "data": {
      "text/plain": [
       "2.5016200162001621"
      ]
     },
     "execution_count": 209,
     "metadata": {},
     "output_type": "execute_result"
    }
   ],
   "source": [
    "sample_from_IMF(2)"
   ]
  },
  {
   "cell_type": "code",
   "execution_count": 205,
   "metadata": {},
   "outputs": [
    {
     "data": {
      "text/plain": [
       "1.0760327603276034"
      ]
     },
     "execution_count": 205,
     "metadata": {},
     "output_type": "execute_result"
    }
   ],
   "source": [
    "starmasses[977]"
   ]
  },
  {
   "cell_type": "code",
   "execution_count": 12,
   "metadata": {},
   "outputs": [],
   "source": [
    "def find_nearest(array,value):\n",
    "    return np.abs(array-value).argmin()\n",
    "\n",
    "def sample_from_IMF(randseed=0):\n",
    "    seed(randseed)\n",
    "    val = random()\n",
    "    idx = find_nearest(IMFcdf, val)\n",
    "    #print(val, idx/10000)\n",
    "    return starmasses[idx]"
   ]
  },
  {
   "cell_type": "code",
   "execution_count": 13,
   "metadata": {},
   "outputs": [],
   "source": [
    "b = [np.log10(sample_from_IMF(i)) for i in range(10000)]"
   ]
  },
  {
   "cell_type": "code",
   "execution_count": 14,
   "metadata": {},
   "outputs": [
    {
     "data": {
      "text/plain": [
       "(array([  2.50200000e+03,   2.47000000e+03,   2.18300000e+03,\n",
       "          1.46300000e+03,   8.41000000e+02,   3.58000000e+02,\n",
       "          1.26000000e+02,   4.50000000e+01,   1.10000000e+01,\n",
       "          1.00000000e+00]),\n",
       " array([-1.        , -0.73487539, -0.46975078, -0.20462618,  0.06049843,\n",
       "         0.32562304,  0.59074765,  0.85587226,  1.12099686,  1.38612147,\n",
       "         1.65124608]),\n",
       " <a list of 10 Patch objects>)"
      ]
     },
     "execution_count": 14,
     "metadata": {},
     "output_type": "execute_result"
    },
    {
     "data": {
      "image/png": "[encoded data removed]",
      "text/plain": [
       "<matplotlib.figure.Figure at 0x11d1804a8>"
      ]
     },
     "metadata": {},
     "output_type": "display_data"
    }
   ],
   "source": [
    "plt.hist(b)"
   ]
  },
  {
   "cell_type": "code",
   "execution_count": 227,
   "metadata": {},
   "outputs": [
    {
     "data": {
      "text/plain": [
       "array([ 0.4170149 ,  0.58703222])"
      ]
     },
     "execution_count": 227,
     "metadata": {},
     "output_type": "execute_result"
    }
   ],
   "source": [
    "np.random.random([2])"
   ]
  },
  {
   "cell_type": "code",
   "execution_count": 235,
   "metadata": {},
   "outputs": [
    {
     "data": {
      "text/plain": [
       "0.99370252715694896"
      ]
     },
     "execution_count": 235,
     "metadata": {},
     "output_type": "execute_result"
    }
   ],
   "source": [
    "np.random.random([100]).max()"
   ]
  },
  {
   "cell_type": "code",
   "execution_count": 46,
   "metadata": {},
   "outputs": [
    {
     "ename": "ValueError",
     "evalue": "A value in x_new is below the interpolation range.",
     "output_type": "error",
     "traceback": [
      "\u001b[0;31m---------------------------------------------------------------------------\u001b[0m",
      "\u001b[0;31mValueError\u001b[0m                                Traceback (most recent call last)",
      "\u001b[0;32m<ipython-input-46-33ac1da1591a>\u001b[0m in \u001b[0;36m<module>\u001b[0;34m()\u001b[0m\n\u001b[0;32m----> 1\u001b[0;31m \u001b[0mplt\u001b[0m\u001b[0;34m.\u001b[0m\u001b[0mhist\u001b[0m\u001b[0;34m(\u001b[0m\u001b[0mf\u001b[0m\u001b[0;34m(\u001b[0m\u001b[0mnp\u001b[0m\u001b[0;34m.\u001b[0m\u001b[0mrandom\u001b[0m\u001b[0;34m.\u001b[0m\u001b[0mrandom\u001b[0m\u001b[0;34m(\u001b[0m\u001b[0;34m[\u001b[0m\u001b[0;36m500\u001b[0m\u001b[0;34m]\u001b[0m\u001b[0;34m)\u001b[0m\u001b[0;34m)\u001b[0m\u001b[0;34m)\u001b[0m\u001b[0;34m\u001b[0m\u001b[0m\n\u001b[0m",
      "\u001b[0;32m/anaconda/envs/p3/lib/python3.6/site-packages/scipy/interpolate/polyint.py\u001b[0m in \u001b[0;36m__call__\u001b[0;34m(self, x)\u001b[0m\n\u001b[1;32m     77\u001b[0m         \"\"\"\n\u001b[1;32m     78\u001b[0m         \u001b[0mx\u001b[0m\u001b[0;34m,\u001b[0m \u001b[0mx_shape\u001b[0m \u001b[0;34m=\u001b[0m \u001b[0mself\u001b[0m\u001b[0;34m.\u001b[0m\u001b[0m_prepare_x\u001b[0m\u001b[0;34m(\u001b[0m\u001b[0mx\u001b[0m\u001b[0;34m)\u001b[0m\u001b[0;34m\u001b[0m\u001b[0m\n\u001b[0;32m---> 79\u001b[0;31m         \u001b[0my\u001b[0m \u001b[0;34m=\u001b[0m \u001b[0mself\u001b[0m\u001b[0;34m.\u001b[0m\u001b[0m_evaluate\u001b[0m\u001b[0;34m(\u001b[0m\u001b[0mx\u001b[0m\u001b[0;34m)\u001b[0m\u001b[0;34m\u001b[0m\u001b[0m\n\u001b[0m\u001b[1;32m     80\u001b[0m         \u001b[0;32mreturn\u001b[0m \u001b[0mself\u001b[0m\u001b[0;34m.\u001b[0m\u001b[0m_finish_y\u001b[0m\u001b[0;34m(\u001b[0m\u001b[0my\u001b[0m\u001b[0;34m,\u001b[0m \u001b[0mx_shape\u001b[0m\u001b[0;34m)\u001b[0m\u001b[0;34m\u001b[0m\u001b[0m\n\u001b[1;32m     81\u001b[0m \u001b[0;34m\u001b[0m\u001b[0m\n",
      "\u001b[0;32m/anaconda/envs/p3/lib/python3.6/site-packages/scipy/interpolate/interpolate.py\u001b[0m in \u001b[0;36m_evaluate\u001b[0;34m(self, x_new)\u001b[0m\n\u001b[1;32m    608\u001b[0m         \u001b[0my_new\u001b[0m \u001b[0;34m=\u001b[0m \u001b[0mself\u001b[0m\u001b[0;34m.\u001b[0m\u001b[0m_call\u001b[0m\u001b[0;34m(\u001b[0m\u001b[0mself\u001b[0m\u001b[0;34m,\u001b[0m \u001b[0mx_new\u001b[0m\u001b[0;34m)\u001b[0m\u001b[0;34m\u001b[0m\u001b[0m\n\u001b[1;32m    609\u001b[0m         \u001b[0;32mif\u001b[0m \u001b[0;32mnot\u001b[0m \u001b[0mself\u001b[0m\u001b[0;34m.\u001b[0m\u001b[0m_extrapolate\u001b[0m\u001b[0;34m:\u001b[0m\u001b[0;34m\u001b[0m\u001b[0m\n\u001b[0;32m--> 610\u001b[0;31m             \u001b[0mbelow_bounds\u001b[0m\u001b[0;34m,\u001b[0m \u001b[0mabove_bounds\u001b[0m \u001b[0;34m=\u001b[0m \u001b[0mself\u001b[0m\u001b[0;34m.\u001b[0m\u001b[0m_check_bounds\u001b[0m\u001b[0;34m(\u001b[0m\u001b[0mx_new\u001b[0m\u001b[0;34m)\u001b[0m\u001b[0;34m\u001b[0m\u001b[0m\n\u001b[0m\u001b[1;32m    611\u001b[0m             \u001b[0;32mif\u001b[0m \u001b[0mlen\u001b[0m\u001b[0;34m(\u001b[0m\u001b[0my_new\u001b[0m\u001b[0;34m)\u001b[0m \u001b[0;34m>\u001b[0m \u001b[0;36m0\u001b[0m\u001b[0;34m:\u001b[0m\u001b[0;34m\u001b[0m\u001b[0m\n\u001b[1;32m    612\u001b[0m                 \u001b[0;31m# Note fill_value must be broadcast up to the proper size\u001b[0m\u001b[0;34m\u001b[0m\u001b[0;34m\u001b[0m\u001b[0m\n",
      "\u001b[0;32m/anaconda/envs/p3/lib/python3.6/site-packages/scipy/interpolate/interpolate.py\u001b[0m in \u001b[0;36m_check_bounds\u001b[0;34m(self, x_new)\u001b[0m\n\u001b[1;32m    637\u001b[0m         \u001b[0;31m# !! Could provide more information about which values are out of bounds\u001b[0m\u001b[0;34m\u001b[0m\u001b[0;34m\u001b[0m\u001b[0m\n\u001b[1;32m    638\u001b[0m         \u001b[0;32mif\u001b[0m \u001b[0mself\u001b[0m\u001b[0;34m.\u001b[0m\u001b[0mbounds_error\u001b[0m \u001b[0;32mand\u001b[0m \u001b[0mbelow_bounds\u001b[0m\u001b[0;34m.\u001b[0m\u001b[0many\u001b[0m\u001b[0;34m(\u001b[0m\u001b[0;34m)\u001b[0m\u001b[0;34m:\u001b[0m\u001b[0;34m\u001b[0m\u001b[0m\n\u001b[0;32m--> 639\u001b[0;31m             raise ValueError(\"A value in x_new is below the interpolation \"\n\u001b[0m\u001b[1;32m    640\u001b[0m                              \"range.\")\n\u001b[1;32m    641\u001b[0m         \u001b[0;32mif\u001b[0m \u001b[0mself\u001b[0m\u001b[0;34m.\u001b[0m\u001b[0mbounds_error\u001b[0m \u001b[0;32mand\u001b[0m \u001b[0mabove_bounds\u001b[0m\u001b[0;34m.\u001b[0m\u001b[0many\u001b[0m\u001b[0;34m(\u001b[0m\u001b[0;34m)\u001b[0m\u001b[0;34m:\u001b[0m\u001b[0;34m\u001b[0m\u001b[0m\n",
      "\u001b[0;31mValueError\u001b[0m: A value in x_new is below the interpolation range."
     ]
    }
   ],
   "source": [
    "plt.hist(f(np.random.random([500])))"
   ]
  },
  {
   "cell_type": "code",
   "execution_count": 56,
   "metadata": {},
   "outputs": [
    {
     "data": {
      "text/plain": [
       "0.0"
      ]
     },
     "execution_count": 56,
     "metadata": {},
     "output_type": "execute_result"
    }
   ],
   "source": [
    "cdf.min()"
   ]
  },
  {
   "cell_type": "code",
   "execution_count": 57,
   "metadata": {},
   "outputs": [
    {
     "data": {
      "text/plain": [
       "0.99999999999999878"
      ]
     },
     "execution_count": 57,
     "metadata": {},
     "output_type": "execute_result"
    }
   ],
   "source": [
    "cdf.max()"
   ]
  },
  {
   "cell_type": "code",
   "execution_count": 82,
   "metadata": {},
   "outputs": [],
   "source": [
    "t = np.random.random([1000])"
   ]
  },
  {
   "cell_type": "code",
   "execution_count": 85,
   "metadata": {},
   "outputs": [
    {
     "data": {
      "text/plain": [
       "(array([ 22.,  25.,  18.,  23.,  27.,  19.,  23.,  15.,  19.,  20.,  32.,\n",
       "         16.,  14.,  32.,  24.,  19.,  13.,  18.,  18.,  21.,  20.,  24.,\n",
       "         17.,  16.,  16.,  14.,  18.,  14.,  22.,  18.,  19.,  21.,  13.,\n",
       "         16.,  18.,  18.,  20.,  14.,  21.,  16.,  18.,  12.,  13.,   5.,\n",
       "          8.,   7.,  12.,  10.,   9.,   8.,  15.,   7.,   8.,   5.,   2.,\n",
       "          5.,   4.,   4.,   7.,   4.,   3.,   3.,  12.,   2.,   1.,   3.,\n",
       "          3.,   6.,   5.,   2.,   0.,   1.,   2.,   1.,   2.,   2.,   1.,\n",
       "          2.,   2.,   1.,   5.,   2.,   0.,   0.,   0.,   0.,   2.,   0.,\n",
       "          0.,   0.,   0.,   0.,   0.,   0.,   0.,   0.,   0.,   0.,   0.,\n",
       "          1.]),\n",
       " array([-1.        , -0.97738955, -0.95477911, -0.93216866, -0.90955821,\n",
       "        -0.88694777, -0.86433732, -0.84172687, -0.81911643, -0.79650598,\n",
       "        -0.77389553, -0.75128509, -0.72867464, -0.70606419, -0.68345375,\n",
       "        -0.6608433 , -0.63823285, -0.61562241, -0.59301196, -0.57040151,\n",
       "        -0.54779107, -0.52518062, -0.50257017, -0.47995973, -0.45734928,\n",
       "        -0.43473883, -0.41212839, -0.38951794, -0.36690749, -0.34429705,\n",
       "        -0.3216866 , -0.29907615, -0.27646571, -0.25385526, -0.23124481,\n",
       "        -0.20863437, -0.18602392, -0.16341347, -0.14080303, -0.11819258,\n",
       "        -0.09558213, -0.07297169, -0.05036124, -0.02775079, -0.00514035,\n",
       "         0.0174701 ,  0.04008055,  0.06269099,  0.08530144,  0.10791189,\n",
       "         0.13052233,  0.15313278,  0.17574323,  0.19835367,  0.22096412,\n",
       "         0.24357457,  0.26618501,  0.28879546,  0.31140591,  0.33401635,\n",
       "         0.3566268 ,  0.37923725,  0.40184769,  0.42445814,  0.44706859,\n",
       "         0.46967903,  0.49228948,  0.51489993,  0.53751037,  0.56012082,\n",
       "         0.58273127,  0.60534171,  0.62795216,  0.65056261,  0.67317305,\n",
       "         0.6957835 ,  0.71839395,  0.74100439,  0.76361484,  0.78622529,\n",
       "         0.80883573,  0.83144618,  0.85405663,  0.87666707,  0.89927752,\n",
       "         0.92188797,  0.94449841,  0.96710886,  0.98971931,  1.01232975,\n",
       "         1.0349402 ,  1.05755065,  1.08016109,  1.10277154,  1.12538199,\n",
       "         1.14799243,  1.17060288,  1.19321333,  1.21582377,  1.23843422,\n",
       "         1.26104467]),\n",
       " <a list of 100 Patch objects>)"
      ]
     },
     "execution_count": 85,
     "metadata": {},
     "output_type": "execute_result"
    },
    {
     "data": {
      "image/png": "[encoded data removed]",
      "text/plain": [
       "<matplotlib.figure.Figure at 0x115920358>"
      ]
     },
     "metadata": {},
     "output_type": "display_data"
    }
   ],
   "source": [
    "plt.hist(np.log10(f(t)), bins=100)"
   ]
  },
  {
   "cell_type": "code",
   "execution_count": 113,
   "metadata": {},
   "outputs": [
    {
     "data": {
      "text/plain": [
       "118"
      ]
     },
     "execution_count": 113,
     "metadata": {},
     "output_type": "execute_result"
    }
   ],
   "source": [
    "find_nearest(mIMFcdf, 0.5)"
   ]
  },
  {
   "cell_type": "code",
   "execution_count": 114,
   "metadata": {},
   "outputs": [
    {
     "data": {
      "text/plain": [
       "1.2789378937893792"
      ]
     },
     "execution_count": 114,
     "metadata": {},
     "output_type": "execute_result"
    }
   ],
   "source": [
    "starmasses[118]"
   ]
  },
  {
   "cell_type": "code",
   "execution_count": 109,
   "metadata": {},
   "outputs": [
    {
     "data": {
      "text/plain": [
       "0.5025035315571611"
      ]
     },
     "execution_count": 109,
     "metadata": {},
     "output_type": "execute_result"
    }
   ],
   "source": [
    "mIMFcdf[119]"
   ]
  },
  {
   "cell_type": "code",
   "execution_count": null,
   "metadata": {},
   "outputs": [],
   "source": []
  },
  {
   "cell_type": "code",
   "execution_count": 102,
   "metadata": {},
   "outputs": [
    {
     "data": {
      "text/plain": [
       "0.99999999999999978"
      ]
     },
     "execution_count": 102,
     "metadata": {},
     "output_type": "execute_result"
    }
   ],
   "source": [
    "IMFChab(arraytest).sum()"
   ]
  },
  {
   "cell_type": "code",
   "execution_count": 75,
   "metadata": {},
   "outputs": [
    {
     "data": {
      "text/plain": [
       "array([ 2.45637413,  1.11293799,  4.78878971,  0.10682854,  0.63232697,  2.        ])"
      ]
     },
     "execution_count": 75,
     "metadata": {},
     "output_type": "execute_result"
    }
   ],
   "source": [
    "a[np.random.randint(0, 100)]"
   ]
  },
  {
   "cell_type": "code",
   "execution_count": 61,
   "metadata": {},
   "outputs": [
    {
     "data": {
      "text/plain": [
       "array([ 1.78329977,  1.52557641,  1.87137137,  1.61715802,  1.51593435,\n",
       "        1.55447933,  2.0318769 ,  1.49197215,  1.47389207,  1.86556759,\n",
       "        1.78329977,  1.52557641,  1.87137137,  1.61715802,  1.51593435,\n",
       "        1.55447933,  2.0318769 ,  1.49197215,  1.47389207,  1.86556759,\n",
       "        1.5571218 ,  1.73793254,  1.58650227,  1.7635907 ,  2.45637413,\n",
       "        0.86173634,  1.67033211,  1.76815646,  2.15946278,  1.65666711,\n",
       "        1.98389217,  1.80264726,  1.19839629,  1.53667233,  1.71625098,\n",
       "        1.78736884,  1.57184552,  1.37976748,  0.95539387,  1.54733047,\n",
       "        2.0864506 ,  1.02912888,  1.65990233,  1.90729919,  1.90540263,\n",
       "        1.61849337,  1.88943365,  1.33621662,  1.5688969 ,  2.2054188 ,\n",
       "        1.78329977,  1.52557641,  2.88160079,  1.61715802,  1.51593435,\n",
       "        1.55447933,  2.0318769 ,  1.49197215,  1.47389207,  1.86556759,\n",
       "        1.5571218 ,  1.73793254,  1.58650227,  1.7635907 ,  2.45637413,\n",
       "        0.86173634,  1.67033211,  1.76815646,  2.15946278,  1.65666711,\n",
       "        1.98389217,  1.80264726,  1.19839629,  1.53667233,  1.71625098,\n",
       "        1.78736884,  1.57184552,  1.37976748,  0.95539387,  1.54733047,\n",
       "        2.0864506 ,  1.02912888,  1.65990233,  1.90729919,  1.90540263,\n",
       "        1.61849337,  1.88943365,  1.33621662,  1.5688969 ,  2.2054188 ,\n",
       "        1.63403586,  1.71705875,  1.16531918,  1.53777156,  1.69413337,\n",
       "        1.7613448 ,  1.3651613 ,  1.79091455,  1.50912516,  1.5110751 ])"
      ]
     },
     "execution_count": 61,
     "metadata": {},
     "output_type": "execute_result"
    }
   ],
   "source": [
    "a.T[0]"
   ]
  },
  {
   "cell_type": "code",
   "execution_count": null,
   "metadata": {},
   "outputs": [],
   "source": []
  },
  {
   "cell_type": "code",
   "execution_count": 52,
   "metadata": {},
   "outputs": [
    {
     "data": {
      "text/plain": [
       "array([ 1.,  1.,  1.,  1.,  1.,  1.,  1.,  1.,  1.,  1.,  1.,  1.,  1.,\n",
       "        1.,  1.,  1.,  1.,  1.,  1.,  1.,  1.,  1.,  1.,  1.,  1.,  1.,\n",
       "        1.,  1.,  1.,  1.,  1.,  1.,  1.,  1.,  1.,  1.,  1.,  1.,  1.,\n",
       "        1.,  1.,  1.,  1.,  1.,  1.,  1.,  1.,  1.,  1.,  1.,  1.,  1.,\n",
       "        1.,  1.,  1.,  1.,  1.,  1.,  1.,  1.,  1.,  1.,  1.,  1.,  1.,\n",
       "        1.,  1.,  1.,  1.,  1.,  1.,  1.,  1.,  1.,  1.,  1.,  1.,  1.,\n",
       "        1.,  1.,  1.,  1.,  1.,  1.,  1.,  1.,  1.,  1.,  1.,  1.,  1.,\n",
       "        1.,  1.,  1.,  1.,  1.,  1.,  1.,  1.,  1.])"
      ]
     },
     "execution_count": 52,
     "metadata": {},
     "output_type": "execute_result"
    }
   ],
   "source": [
    "get_a_binary(a.T[0])"
   ]
  },
  {
   "cell_type": "code",
   "execution_count": 21,
   "metadata": {},
   "outputs": [
    {
     "name": "stdout",
     "output_type": "stream",
     "text": [
      "CPU times: user 1min 7s, sys: 73.7 ms, total: 1min 7s\n",
      "Wall time: 1min 7s\n"
     ]
    },
    {
     "data": {
      "text/plain": [
       "(2.3188690829069274,\n",
       " 1.6683421439663941,\n",
       " 5.0379786134527178,\n",
       " 0.9560342718892494,\n",
       " 0.9478274870593494,\n",
       " 2)"
      ]
     },
     "execution_count": 21,
     "metadata": {},
     "output_type": "execute_result"
    }
   ],
   "source": [
    "%%time\n",
    "runbinary(randseed=2)"
   ]
  },
  {
   "cell_type": "code",
   "execution_count": 118,
   "metadata": {},
   "outputs": [],
   "source": [
    "sim = rebound.Simulation()\n",
    "sim.G = 4*np.pi**2\n",
    "Rmin = 1./215.\n",
    "sim.add(m=1., r=Rmin)\n",
    "sim.add(m=1., a=1., e=0.1, r=Rmin)\n",
    "sim.move_to_com()\n",
    "ps = sim.particles"
   ]
  },
  {
   "cell_type": "code",
   "execution_count": 119,
   "metadata": {},
   "outputs": [
    {
     "name": "stdout",
     "output_type": "stream",
     "text": [
      "acrit = 2.6733249999999997\n",
      "3.2079899999999997\n"
     ]
    }
   ],
   "source": [
    "print('acrit = {0}'.format(acrit(sim)))\n",
    "sim.add(a=1.2*acrit(sim))\n",
    "print(ps[2].a)\n",
    "sim.exit_max_distance= 100.\n",
    "sim.collision=\"direct\"\n",
    "sim.collision_resolve = stop\n",
    "\n",
    "rebx = reboundx.Extras(sim)\n",
    "rebx.add(\"modify_orbits_forces\")\n",
    "ps[2].params['tau_a'] = -1000*ps[2].P"
   ]
  },
  {
   "cell_type": "code",
   "execution_count": 3,
   "metadata": {},
   "outputs": [
    {
     "ename": "NameError",
     "evalue": "name 'sim' is not defined",
     "output_type": "error",
     "traceback": [
      "\u001b[0;31m---------------------------------------------------------------------------\u001b[0m",
      "\u001b[0;31mNameError\u001b[0m                                 Traceback (most recent call last)",
      "\u001b[0;32m<ipython-input-3-61f9069c9111>\u001b[0m in \u001b[0;36m<module>\u001b[0;34m()\u001b[0m\n\u001b[1;32m     13\u001b[0m         \u001b[0mself\u001b[0m\u001b[0;34m.\u001b[0m\u001b[0mmind\u001b[0m \u001b[0;34m=\u001b[0m \u001b[0mdistance\u001b[0m\u001b[0;34m(\u001b[0m\u001b[0;36m2\u001b[0m\u001b[0;34m,\u001b[0m \u001b[0mself\u001b[0m\u001b[0;34m.\u001b[0m\u001b[0mstarindex\u001b[0m\u001b[0;34m)\u001b[0m\u001b[0;34m\u001b[0m\u001b[0m\n\u001b[1;32m     14\u001b[0m         \u001b[0msuper\u001b[0m\u001b[0;34m(\u001b[0m\u001b[0mmindRecorder\u001b[0m\u001b[0;34m,\u001b[0m \u001b[0mself\u001b[0m\u001b[0;34m)\u001b[0m\u001b[0;34m.\u001b[0m\u001b[0mprocess_event\u001b[0m\u001b[0;34m(\u001b[0m\u001b[0mevent_sim\u001b[0m\u001b[0;34m,\u001b[0m \u001b[0mtarget\u001b[0m\u001b[0;34m)\u001b[0m\u001b[0;34m\u001b[0m\u001b[0m\n\u001b[0;32m---> 15\u001b[0;31m \u001b[0mrecorder1\u001b[0m \u001b[0;34m=\u001b[0m \u001b[0mmindRecorder\u001b[0m\u001b[0;34m(\u001b[0m\u001b[0msim\u001b[0m\u001b[0;34m,\u001b[0m \u001b[0;36m0\u001b[0m\u001b[0;34m)\u001b[0m\u001b[0;34m\u001b[0m\u001b[0m\n\u001b[0m\u001b[1;32m     16\u001b[0m \u001b[0mrecorder2\u001b[0m \u001b[0;34m=\u001b[0m \u001b[0mmindRecorder\u001b[0m\u001b[0;34m(\u001b[0m\u001b[0msim\u001b[0m\u001b[0;34m,\u001b[0m \u001b[0;36m1\u001b[0m\u001b[0;34m)\u001b[0m\u001b[0;34m\u001b[0m\u001b[0m\n",
      "\u001b[0;31mNameError\u001b[0m: name 'sim' is not defined"
     ]
    }
   ],
   "source": [
    "recorder1 = mindRecorder(sim, 0)\n",
    "recorder2 = mindRecorder(sim, 1)"
   ]
  },
  {
   "cell_type": "code",
   "execution_count": 121,
   "metadata": {},
   "outputs": [
    {
     "name": "stdout",
     "output_type": "stream",
     "text": [
      "escape\n",
      "CPU times: user 5.37 s, sys: 24.9 ms, total: 5.39 s\n",
      "Wall time: 5.42 s\n"
     ]
    }
   ],
   "source": [
    "%%time\n",
    "Nout = 1000\n",
    "tmax = 10000\n",
    "times = np.linspace(0, tmax, Nout)\n",
    "d1, d2 = np.zeros(Nout), np.zeros(Nout)\n",
    "P, e = np.zeros(Nout), np.zeros(Nout)\n",
    "\n",
    "try:\n",
    "    for i, time in enumerate(times):\n",
    "        sim.integrate(time)\n",
    "        d1[i] = distance(2, 0)\n",
    "        d2[i] = distance(2, 1)\n",
    "        P[i] = ps[2].P\n",
    "        e[i] = ps[2].e\n",
    "except KeyboardInterrupt:\n",
    "    print(\"collision\")\n",
    "except rebound.Escape:\n",
    "    print(\"escape\")"
   ]
  },
  {
   "cell_type": "code",
   "execution_count": 122,
   "metadata": {},
   "outputs": [
    {
     "data": {
      "text/plain": [
       "1.2265316858253774"
      ]
     },
     "execution_count": 122,
     "metadata": {},
     "output_type": "execute_result"
    }
   ],
   "source": [
    "recorder2.mind"
   ]
  },
  {
   "cell_type": "code",
   "execution_count": 123,
   "metadata": {},
   "outputs": [
    {
     "data": {
      "text/plain": [
       "1.3890708302316288"
      ]
     },
     "execution_count": 123,
     "metadata": {},
     "output_type": "execute_result"
    }
   ],
   "source": [
    "recorder1.mind"
   ]
  },
  {
   "cell_type": "code",
   "execution_count": 19,
   "metadata": {},
   "outputs": [
    {
     "data": {
      "text/plain": [
       "0.2696133632101861"
      ]
     },
     "execution_count": 19,
     "metadata": {},
     "output_type": "execute_result"
    }
   ],
   "source": [
    "sim.t"
   ]
  },
  {
   "cell_type": "code",
   "execution_count": 124,
   "metadata": {},
   "outputs": [
    {
     "data": {
      "text/plain": [
       "(0, 3)"
      ]
     },
     "execution_count": 124,
     "metadata": {},
     "output_type": "execute_result"
    },
    {
     "data": {
      "image/png": "[encoded data removed]",
      "text/plain": [
       "<matplotlib.figure.Figure at 0x10fa05588>"
      ]
     },
     "metadata": {},
     "output_type": "display_data"
    }
   ],
   "source": [
    "%matplotlib inline\n",
    "import matplotlib.pyplot as plt\n",
    "fig, ax= plt.subplots()\n",
    "ax.plot(times, d1, '.')\n",
    "ax.plot([0,10], [recorder1.mind, recorder1.mind], 'blue')\n",
    "ax.plot(times, d2, '.')\n",
    "ax.plot([0,10], [recorder2.mind, recorder2.mind], 'orange')\n",
    "\n",
    "\n",
    "#ax.set_xlim([0,10])\n",
    "ax.set_ylim([0,3])"
   ]
  },
  {
   "cell_type": "code",
   "execution_count": 125,
   "metadata": {},
   "outputs": [
    {
     "data": {
      "text/plain": [
       "[<matplotlib.lines.Line2D at 0x111799f60>]"
      ]
     },
     "execution_count": 125,
     "metadata": {},
     "output_type": "execute_result"
    },
    {
     "data": {
      "image/png": "[encoded data removed]",
      "text/plain": [
       "<matplotlib.figure.Figure at 0x10fa0cd68>"
      ]
     },
     "metadata": {},
     "output_type": "display_data"
    }
   ],
   "source": [
    "%matplotlib inline\n",
    "import matplotlib.pyplot as plt\n",
    "fig, ax= plt.subplots()\n",
    "ax.plot(times, P, '.')"
   ]
  },
  {
   "cell_type": "code",
   "execution_count": 126,
   "metadata": {},
   "outputs": [
    {
     "data": {
      "text/plain": [
       "[<matplotlib.lines.Line2D at 0x111792be0>]"
      ]
     },
     "execution_count": 126,
     "metadata": {},
     "output_type": "execute_result"
    },
    {
     "data": {
      "image/png": "[encoded data removed]",
      "text/plain": [
       "<matplotlib.figure.Figure at 0x111792160>"
      ]
     },
     "metadata": {},
     "output_type": "display_data"
    }
   ],
   "source": [
    "%matplotlib inline\n",
    "import matplotlib.pyplot as plt\n",
    "fig, ax= plt.subplots()\n",
    "ax.plot(times, e, '.')"
   ]
  },
  {
   "cell_type": "code",
   "execution_count": 5,
   "metadata": {},
   "outputs": [
    {
     "name": "stdout",
     "output_type": "stream",
     "text": [
      "3.2079899999999975\n",
      "1053.657472316494 1.47545167801 1.19094200001\n"
     ]
    },
    {
     "data": {
      "text/plain": [
       "(1.4754516780140603, 1.1909420000054411)"
      ]
     },
     "execution_count": 5,
     "metadata": {},
     "output_type": "execute_result"
    }
   ],
   "source": [
    "runbinary(1)"
   ]
  },
  {
   "cell_type": "code",
   "execution_count": null,
   "metadata": {},
   "outputs": [],
   "source": []
  }
 ],
 "metadata": {
  "kernelspec": {
   "display_name": "Python [default]",
   "language": "python",
   "name": "python3"
  },
  "language_info": {
   "codemirror_mode": {
    "name": "ipython",
    "version": 3
   },
   "file_extension": ".py",
   "mimetype": "text/x-python",
   "name": "python",
   "nbconvert_exporter": "python",
   "pygments_lexer": "ipython3",
   "version": "3.6.2"
  }
 },
 "nbformat": 4,
 "nbformat_minor": 2
}
