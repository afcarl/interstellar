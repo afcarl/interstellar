{
 "cells": [
  {
   "cell_type": "code",
   "execution_count": 1,
   "metadata": {},
   "outputs": [],
   "source": [
    "import numpy as np\n",
    "from random import random, uniform, seed\n",
    "from scipy.interpolate import interp1d\n",
    "import matplotlib.pyplot as plt\n",
    "import pandas as pd\n",
    "%matplotlib inline\n",
    "import os"
   ]
  },
  {
   "cell_type": "code",
   "execution_count": 2,
   "metadata": {},
   "outputs": [],
   "source": [
    "data = np.loadtxt('Nbody0.01.txt')"
   ]
  },
  {
   "cell_type": "code",
   "execution_count": 3,
   "metadata": {},
   "outputs": [],
   "source": [
    "for i in range(3,10):\n",
    "    try:\n",
    "        newdata = np.loadtxt('Nbody{0}.txt'.format(10**(-i)))\n",
    "        for row in newdata:\n",
    "            replaceseed = int(row[0])\n",
    "            data[replaceseed] = row\n",
    "    except:\n",
    "        pass"
   ]
  },
  {
   "cell_type": "code",
   "execution_count": 4,
   "metadata": {},
   "outputs": [],
   "source": [
    "seeds, Nbodymind1s, Nbodymind2s, mind0s, mratios, ebinarys, codes = data.T\n",
    "seeds = np.array([int(seed) for seed in seeds])"
   ]
  },
  {
   "cell_type": "markdown",
   "metadata": {},
   "source": [
    "# Check that all the mind values got updated from their initial value. Sum should be 0"
   ]
  },
  {
   "cell_type": "code",
   "execution_count": 5,
   "metadata": {},
   "outputs": [
    {
     "data": {
      "text/plain": [
       "0"
      ]
     },
     "execution_count": 5,
     "metadata": {},
     "output_type": "execute_result"
    }
   ],
   "source": [
    "(Nbodymind1s==mind0s).sum()"
   ]
  },
  {
   "cell_type": "code",
   "execution_count": 6,
   "metadata": {},
   "outputs": [
    {
     "data": {
      "text/plain": [
       "0"
      ]
     },
     "execution_count": 6,
     "metadata": {},
     "output_type": "execute_result"
    }
   ],
   "source": [
    "(Nbodymind2s==mind0s).sum()"
   ]
  },
  {
   "cell_type": "markdown",
   "metadata": {},
   "source": [
    "# Distributions of outcomes. 0 = survived, 1 = collision, 2 = ejection"
   ]
  },
  {
   "cell_type": "code",
   "execution_count": 7,
   "metadata": {},
   "outputs": [
    {
     "data": {
      "image/png": "[encoded data removed]",
      "text/plain": [
       "<matplotlib.figure.Figure at 0x113db1278>"
      ]
     },
     "metadata": {},
     "output_type": "display_data"
    }
   ],
   "source": [
    "bins, vals, patches = plt.hist(codes)"
   ]
  },
  {
   "cell_type": "code",
   "execution_count": 8,
   "metadata": {},
   "outputs": [
    {
     "name": "stdout",
     "output_type": "stream",
     "text": [
      "12/2000 = 0.0060 survived\n",
      "0/2000 = 0.0000 collided\n",
      "1988/2000 = 0.9940 ejected\n"
     ]
    }
   ],
   "source": [
    "print(\"{0}/{1} = {2:.4f} survived\".format((codes==0).sum(), len(codes), (codes==0).sum()/float(len(codes))))\n",
    "print(\"{0}/{1} = {2:.4f} collided\".format((codes==1).sum(), len(codes), (codes==1).sum()/float(len(codes))))\n",
    "print(\"{0}/{1} = {2:.4f} ejected\".format((codes==2).sum(), len(codes), (codes==2).sum()/float(len(codes))))"
   ]
  },
  {
   "cell_type": "markdown",
   "metadata": {},
   "source": [
    "# Distribution of minimum distances (from both stars combined, not necessarily the star that ejected the body)"
   ]
  },
  {
   "cell_type": "code",
   "execution_count": 9,
   "metadata": {},
   "outputs": [
    {
     "data": {
      "image/png": "[encoded data removed]",
      "text/plain": [
       "<matplotlib.figure.Figure at 0x117251d30>"
      ]
     },
     "metadata": {},
     "output_type": "display_data"
    }
   ],
   "source": [
    "bins, vals, patches = plt.hist(np.log10(np.concatenate((Nbodymind1s, Nbodymind2s))), bins=100)"
   ]
  },
  {
   "cell_type": "markdown",
   "metadata": {},
   "source": [
    "# Dimensionalize\n",
    "\n",
    "Iterate following procedure\n",
    "\n",
    "- Draw a primary from the (single star?) IMF\n",
    "- Determine stellar type, draw from single/binary. If single, add mass to single/wide binary mass bin and start over\n",
    "- Draw a random Nbody simulation to get mass ratio, eccentricity and minimum distances\n",
    "- Draw binary separation from Duchene and Kraus and dimensionalize minds\n",
    "- If the separation is larger than our wide binary cut off, add the mass to the 'single/wide binary' bin and start over\n",
    "- From the eccentricity and separation calculate the critical instability distance\n",
    "- Use the mass-luminosity relation fit for both the primary and secondary to calculate the snow line distance"
   ]
  },
  {
   "cell_type": "markdown",
   "metadata": {},
   "source": [
    "# Build a sampler"
   ]
  },
  {
   "cell_type": "markdown",
   "metadata": {},
   "source": [
    "This class let's you sample from an arbitrary pdf"
   ]
  },
  {
   "cell_type": "code",
   "execution_count": 10,
   "metadata": {},
   "outputs": [],
   "source": [
    "class Sampler():\n",
    "    def __init__(self, values, pdf): \n",
    "        # pass np. array of x values, np.array of pdf at those values\n",
    "        self.minvalue = values.min()\n",
    "        self.maxvalue = values.max()\n",
    "        pdf /= pdf.sum()\n",
    "        cdf = np.cumsum(pdf)\n",
    "        self.mincdf = cdf.min()\n",
    "        self.maxcdf = cdf.max()\n",
    "        self.cdffunc = interp1d(values, cdf)\n",
    "        self.invcdffunc = interp1d(cdf, values)\n",
    "        \n",
    "        def _sample(cdfval): # returns value corresponding to when cdf matches passed value\n",
    "            try:\n",
    "                return self.invcdffunc(cdfval)\n",
    "            except ValueError:\n",
    "                if cdfval < self.mincdf:\n",
    "                    return self.minvalue\n",
    "                elif cdfval > self.maxcdf:\n",
    "                    return self.maxvalue\n",
    "        self._sample = np.vectorize(_sample)\n",
    "    \n",
    "    def sample(self, Nvals=1, minval=None, maxval=None):\n",
    "        # returns Nvals samples from the pdf as np.array. Optionally pass range of values to sample from\n",
    "        \n",
    "        # if range of values is passed, calculate corresponding range of cdf values\n",
    "        mincdf = self.cdffunc(minval) if minval is not None else 0.\n",
    "        maxcdf = self.cdffunc(maxval) if maxval is not None else 1.\n",
    "        cdfs = mincdf + (maxcdf-mincdf)*np.random.random([Nvals]) # sample Nvals cdf values in the range\n",
    "        return self._sample(cdfs)"
   ]
  },
  {
   "cell_type": "markdown",
   "metadata": {},
   "source": [
    "PDF for the log mass for the binary system"
   ]
  },
  {
   "cell_type": "code",
   "execution_count": 11,
   "metadata": {},
   "outputs": [
    {
     "data": {
      "image/png": "[encoded data removed]",
      "text/plain": [
       "<matplotlib.figure.Figure at 0x117166b00>"
      ]
     },
     "metadata": {},
     "output_type": "display_data"
    }
   ],
   "source": [
    "def logIMFChab(logM):\n",
    "    IMFChab = 0.086*np.exp(-((logM-np.log10(0.22))**(2.))/(2.*0.57**2.))\n",
    "    return IMFChab\n",
    "\n",
    "starmasses = np.linspace(-1, 2, 100000)\n",
    "logIMF = logIMFChab(starmasses)\n",
    "plt.plot(starmasses, logIMF)\n",
    "plt.show()"
   ]
  },
  {
   "cell_type": "markdown",
   "metadata": {},
   "source": [
    "Example over whole range"
   ]
  },
  {
   "cell_type": "code",
   "execution_count": 12,
   "metadata": {},
   "outputs": [
    {
     "name": "stdout",
     "output_type": "stream",
     "text": [
      "CPU times: user 308 ms, sys: 5.56 ms, total: 313 ms\n",
      "Wall time: 315 ms\n"
     ]
    },
    {
     "data": {
      "image/png": "[encoded data removed]",
      "text/plain": [
       "<matplotlib.figure.Figure at 0x1171d1080>"
      ]
     },
     "metadata": {},
     "output_type": "display_data"
    }
   ],
   "source": [
    "%%time\n",
    "logIMFsampler = Sampler(starmasses, logIMF)\n",
    "bins, vals, patches = plt.hist(logIMFsampler.sample(10000), bins=100)"
   ]
  },
  {
   "cell_type": "markdown",
   "metadata": {},
   "source": [
    "Example over specified range"
   ]
  },
  {
   "cell_type": "code",
   "execution_count": 13,
   "metadata": {},
   "outputs": [
    {
     "data": {
      "image/png": "[encoded data removed]",
      "text/plain": [
       "<matplotlib.figure.Figure at 0x113dd55c0>"
      ]
     },
     "metadata": {},
     "output_type": "display_data"
    }
   ],
   "source": [
    "bins, vals, patches = plt.hist(logIMFsampler.sample(10000, 0, 2), bins=100)"
   ]
  },
  {
   "cell_type": "markdown",
   "metadata": {},
   "source": [
    "# Define stellar types, mass ranges, and multiple fraction"
   ]
  },
  {
   "cell_type": "code",
   "execution_count": 14,
   "metadata": {},
   "outputs": [],
   "source": [
    "# triplets of [Mmin, Mmax, fraction of systems that are multiples (MF in Duchene & Kraus)]\n",
    "typemasses = {'VLM':[1.e-3, 0.1, 0.22], 'M':[0.1, 0.6, 0.26], 'FGK':[0.6, 1.4, 0.44], 'A':[1.4, 6.5, 0.5], 'OB':[6.5, 100, 0.7]}\n",
    "\n",
    "def get_type(M):\n",
    "    for key, value in typemasses.items():\n",
    "        if M >= value[0] and M < value[1]:\n",
    "            return key\n",
    "    if M < typemasses['VLM'][0]:\n",
    "        return 'VLM'\n",
    "    elif M > typemasses['OB'][1]:\n",
    "        return 'OB'\n",
    "    print('get_type function didnt catch mass in any bin. M = {0}'.format(M))"
   ]
  },
  {
   "cell_type": "markdown",
   "metadata": {},
   "source": [
    "# Draw a primary from the IMF (Note this is currently using the system IMF)"
   ]
  },
  {
   "cell_type": "code",
   "execution_count": 15,
   "metadata": {},
   "outputs": [],
   "source": [
    "results = {'VLM':{'msingleWB':0., 'mCB':0.}, 'M':{'msingleWB':0., 'mCB':0.}, 'FGK':{'msingleWB':0., 'mCB':0.}, 'A':{'msingleWB':0., 'mCB':0.}, 'OB':{'msingleWB':0., 'mCB':0.}}"
   ]
  },
  {
   "cell_type": "code",
   "execution_count": 16,
   "metadata": {},
   "outputs": [
    {
     "name": "stdout",
     "output_type": "stream",
     "text": [
      "0.447340696277\n"
     ]
    }
   ],
   "source": [
    "Mprimary = 10**logIMFsampler.sample()[0] # returns array\n",
    "print(Mprimary)"
   ]
  },
  {
   "cell_type": "markdown",
   "metadata": {},
   "source": [
    "# Determine stellar type, draw from single/binary and add mass to single/wide binary mass bin if single"
   ]
  },
  {
   "cell_type": "code",
   "execution_count": 17,
   "metadata": {},
   "outputs": [
    {
     "name": "stdout",
     "output_type": "stream",
     "text": [
      "M 0.26\n"
     ]
    }
   ],
   "source": [
    "startype = get_type(Mprimary)\n",
    "mf = typemasses[startype][2]\n",
    "print(startype, mf)"
   ]
  },
  {
   "cell_type": "code",
   "execution_count": 18,
   "metadata": {},
   "outputs": [
    {
     "name": "stdout",
     "output_type": "stream",
     "text": [
      "0.09241710264173564\n"
     ]
    },
    {
     "data": {
      "text/plain": [
       "{'mCB': 0.0, 'msingleWB': 0.0}"
      ]
     },
     "execution_count": 18,
     "metadata": {},
     "output_type": "execute_result"
    }
   ],
   "source": [
    "randfloat = np.random.random()\n",
    "print(randfloat)\n",
    "if randfloat > mf:\n",
    "    results[startype]['msingleWB'] += Mprimary\n",
    "results[startype]"
   ]
  },
  {
   "cell_type": "markdown",
   "metadata": {},
   "source": [
    "# Draw a random Nbody simulation to get mass ratio, eccentricity and minimum distances"
   ]
  },
  {
   "cell_type": "code",
   "execution_count": 19,
   "metadata": {},
   "outputs": [
    {
     "name": "stdout",
     "output_type": "stream",
     "text": [
      "1.86952289542 1.58772152211 0.780139722834 0.139859310434\n"
     ]
    }
   ],
   "source": [
    "randseed = np.random.randint(len(seeds))\n",
    "mind1 = Nbodymind1s[randseed]\n",
    "mind2 = Nbodymind2s[randseed]\n",
    "mratio = mratios[randseed] # secondary has mass mratio\n",
    "ebin = ebinarys[randseed]\n",
    "print(mind1, mind2, mratio, ebin)"
   ]
  },
  {
   "cell_type": "code",
   "execution_count": 20,
   "metadata": {},
   "outputs": [
    {
     "name": "stdout",
     "output_type": "stream",
     "text": [
      "0.447340696277 0.348988246806\n"
     ]
    }
   ],
   "source": [
    "M1 = Mprimary\n",
    "M2 = M1*mratio\n",
    "print(M1, M2)"
   ]
  },
  {
   "cell_type": "markdown",
   "metadata": {},
   "source": [
    "# Draw binary separation from Duchene and Kraus and dimensionalize minds"
   ]
  },
  {
   "cell_type": "markdown",
   "metadata": {},
   "source": [
    "Define Duchene & Kraus binary separation distributions"
   ]
  },
  {
   "cell_type": "code",
   "execution_count": 21,
   "metadata": {},
   "outputs": [],
   "source": [
    "logabinaries = np.linspace(-2.5, 6, 10000)\n",
    "def gaussianpdf(vals, mu, sigma):\n",
    "    pdf = np.exp(-(vals-mu)**2/(2.*sigma**2))\n",
    "    return pdf/pdf.sum()"
   ]
  },
  {
   "cell_type": "code",
   "execution_count": 22,
   "metadata": {},
   "outputs": [],
   "source": [
    "logabinPDF = {}\n",
    "logabinPDF['VLM'] = 0.6*gaussianpdf(logabinaries, np.log10(4.5), 0.333)\n",
    "logabinPDF['M'] = 0.9*gaussianpdf(logabinaries, np.log10(5.3), 0.867)\n",
    "logabinPDF['FGK'] = 1.8*gaussianpdf(logabinaries, np.log10(45), 1.533)\n",
    "\n",
    "tempA = 2.1*gaussianpdf(logabinaries, 2.5, 1.65) + 0.8*gaussianpdf(logabinaries, -0.85, .5)\n",
    "logabinPDF['A'] = tempA\n",
    "\n",
    "def OBpdf(logabin):\n",
    "    mu = -0.75\n",
    "    sigma = 0.36\n",
    "    sw = -0.3 # switch\n",
    "    if logabin < -0.3: \n",
    "        return np.exp(-(logabin-mu)**2/(2.*sigma**2))\n",
    "    else:\n",
    "        return np.exp(-(sw-mu)**2/(2.*sigma**2))-0.05*(logabin-sw)\n",
    "logabinPDF['OB'] = np.array([OBpdf(logabin) for logabin in logabinaries])\n",
    "logabinPDF['OB'] = 3*logabinPDF['OB']/logabinPDF['OB'].sum()"
   ]
  },
  {
   "cell_type": "code",
   "execution_count": 23,
   "metadata": {},
   "outputs": [
    {
     "data": {
      "text/plain": [
       "<matplotlib.text.Text at 0x108b6a780>"
      ]
     },
     "execution_count": 23,
     "metadata": {},
     "output_type": "execute_result"
    },
    {
     "data": {
      "image/png": "[encoded data removed]",
      "text/plain": [
       "<matplotlib.figure.Figure at 0x1183b39b0>"
      ]
     },
     "metadata": {},
     "output_type": "display_data"
    }
   ],
   "source": [
    "fig, ax = plt.subplots(figsize=(10,8))\n",
    "for key, val in logabinPDF.items():\n",
    "    ax.plot(logabinaries, val, label=key)\n",
    "plt.legend(fontsize=16)\n",
    "ax.set_xlabel('log a (AU)', fontsize=16)\n",
    "ax.set_ylabel('Semimajor axis frequency', fontsize=16)"
   ]
  },
  {
   "cell_type": "markdown",
   "metadata": {},
   "source": [
    "Duchene and Kraus give binary separation distributions based on primary mass, so get primary stellar type from M1 (should be same as stellartype chosen for system above in most cases)"
   ]
  },
  {
   "cell_type": "markdown",
   "metadata": {},
   "source": [
    "Create sampler for particular stellartype"
   ]
  },
  {
   "cell_type": "code",
   "execution_count": 24,
   "metadata": {},
   "outputs": [
    {
     "name": "stdout",
     "output_type": "stream",
     "text": [
      "CPU times: user 401 ms, sys: 8.84 ms, total: 410 ms\n",
      "Wall time: 465 ms\n"
     ]
    },
    {
     "data": {
      "image/png": "[encoded data removed]",
      "text/plain": [
       "<matplotlib.figure.Figure at 0x117124c18>"
      ]
     },
     "metadata": {},
     "output_type": "display_data"
    }
   ],
   "source": [
    "%%time\n",
    "logabinsampler = Sampler(logabinaries, logabinPDF[startype])\n",
    "bins, vals, patches = plt.hist(logabinsampler.sample(10000), bins=100)"
   ]
  },
  {
   "cell_type": "code",
   "execution_count": 25,
   "metadata": {},
   "outputs": [
    {
     "name": "stdout",
     "output_type": "stream",
     "text": [
      "18.0010260822 33.6533304017 28.5806165308\n"
     ]
    }
   ],
   "source": [
    "abinary = 10**logabinsampler.sample()[0]\n",
    "mind1 *= abinary\n",
    "mind2 *= abinary\n",
    "print(abinary, mind1, mind2)"
   ]
  },
  {
   "cell_type": "markdown",
   "metadata": {},
   "source": [
    "# If the separation is larger than our wide binary cut off, add the mass to the 'single/wide binary' bin and start over"
   ]
  },
  {
   "cell_type": "code",
   "execution_count": 26,
   "metadata": {},
   "outputs": [],
   "source": [
    "def acritprimary(mu, ebin): # Holman & Wiegert 99 for the critical semimajor axis around each star\n",
    "    return 0.464 - 0.38*mu - 0.631*ebin +0.586*ebin*mu + 0.15*ebin**2 -0.198*ebin**2*mu"
   ]
  },
  {
   "cell_type": "code",
   "execution_count": 27,
   "metadata": {},
   "outputs": [
    {
     "data": {
      "text/plain": [
       "2.5767863113810145"
      ]
     },
     "execution_count": 27,
     "metadata": {},
     "output_type": "execute_result"
    }
   ],
   "source": [
    "acp = acritprimary(mratio, ebin)*abinary\n",
    "acp"
   ]
  },
  {
   "cell_type": "code",
   "execution_count": 28,
   "metadata": {},
   "outputs": [],
   "source": [
    "aWBcutoff = 10.\n",
    "if acp > aWBcutoff:\n",
    "    results[startype]['msingleWB'] += M1 + M2\n",
    "else:\n",
    "    results[startype]['mCB'] += M1 + M2"
   ]
  },
  {
   "cell_type": "markdown",
   "metadata": {},
   "source": [
    "# From the eccentricity and separation calculate the critical instability distance"
   ]
  },
  {
   "cell_type": "code",
   "execution_count": 29,
   "metadata": {},
   "outputs": [],
   "source": [
    "def acritcbp(mu, ebin): # Holman & Wiegert 99 for P type circumbinary\n",
    "    return 1.60 + 5.10*ebin -2.22*ebin**2 + 4.12*mu -4.27*ebin*mu -5.09*mu**2 + 4.61*ebin**2*mu**2 "
   ]
  },
  {
   "cell_type": "code",
   "execution_count": 30,
   "metadata": {},
   "outputs": [
    {
     "data": {
      "text/plain": [
       "35.554743763648162"
      ]
     },
     "execution_count": 30,
     "metadata": {},
     "output_type": "execute_result"
    }
   ],
   "source": [
    "acrit = acritcbp(mratio, ebin)*abinary\n",
    "acrit"
   ]
  },
  {
   "cell_type": "markdown",
   "metadata": {},
   "source": [
    "# Use the mass-luminosity relation fit for both the primary and secondary to calculate the snow line distance"
   ]
  },
  {
   "cell_type": "markdown",
   "metadata": {},
   "source": [
    "First get fitting functions to get radius and luminosities at 1 Myr"
   ]
  },
  {
   "cell_type": "code",
   "execution_count": 31,
   "metadata": {},
   "outputs": [
    {
     "data": {
      "image/png": "[encoded data removed]",
      "text/plain": [
       "<matplotlib.figure.Figure at 0x117124d30>"
      ]
     },
     "metadata": {},
     "output_type": "display_data"
    }
   ],
   "source": [
    "# Stellar tracks fits: L(M) and R(M)\n",
    "\n",
    "# Read the stellar tracks file with pandas. This is the only file needed\n",
    "tracksdf = pd.read_table('./startrackextended.txt', header=0,delimiter=r\"\\s+\")\n",
    "\n",
    "\n",
    "# Fit log_L then log_R as a function of log(mass) using polynomials\n",
    "FitLfuncM = np.polyfit(np.log10(tracksdf['star_mass']), tracksdf['log_L'], 16)\n",
    "FitRfuncM = np.polyfit(np.log10(tracksdf['star_mass']), tracksdf['log_R'], 20)\n",
    "\n",
    "\n",
    "# Convenience function to easily call the polynomials as functions \n",
    "# These are the functions you will need to use\n",
    "# example: Luminosity for a 1 solar mass star: PolyLfuncM(np.log10(1.))\n",
    "# It hence takes logs and output logs\n",
    "PolyLfuncM = np.poly1d(FitLfuncM)\n",
    "PolyRfuncM = np.poly1d(FitRfuncM)\n",
    "\n",
    "\n",
    "\n",
    "############################## PLOT ############################\n",
    "# stellar mass array\n",
    "arraytest = np.linspace(0.1,180.,len(tracksdf['log_L']))\n",
    "\n",
    "# Compare fit and data for L func of M\n",
    "plt.plot(np.log10(tracksdf['star_mass']),tracksdf['log_L'], color='black')\n",
    "plt.plot(np.log10(arraytest),PolyLfuncM(np.log10(arraytest).reshape((len(arraytest),1))), color='green')\n",
    "\n",
    "# Compare fit and data for R func of M\n",
    "plt.plot(np.log10(tracksdf['star_mass']),tracksdf['log_R'], color='blue')\n",
    "plt.plot(np.log10(arraytest),PolyRfuncM(np.log10(arraytest).reshape((len(arraytest),1))), color='red')\n",
    "\n",
    "plt.show()\n",
    "############################## END sPLOT ############################"
   ]
  },
  {
   "cell_type": "code",
   "execution_count": 32,
   "metadata": {},
   "outputs": [],
   "source": [
    "# all in SI\n",
    "Lsun = 3.828e26\n",
    "Tice = 150\n",
    "sbconst = 5.67e-8\n",
    "AU = 1.496e11\n",
    "def Lstar(Mstar): # Returns radius of star in AU at time interpolated in cell above\n",
    "    if Mstar < 0.1: # function can't interpolate below 0.1\n",
    "        Mstar = 0.1\n",
    "    return 10**PolyLfuncM(np.log10(Mstar))*Lsun"
   ]
  },
  {
   "cell_type": "code",
   "execution_count": 33,
   "metadata": {},
   "outputs": [
    {
     "data": {
      "text/plain": [
       "6.4395641639892283"
      ]
     },
     "execution_count": 33,
     "metadata": {},
     "output_type": "execute_result"
    }
   ],
   "source": [
    "Ltot = Lstar(M1) + Lstar(M2)\n",
    "aice = np.sqrt(Ltot/(np.pi*sbconst))/(2.*Tice**2)/AU\n",
    "aice"
   ]
  },
  {
   "cell_type": "markdown",
   "metadata": {},
   "source": [
    "# Calculate a_Roche and Rstar from M"
   ]
  },
  {
   "cell_type": "code",
   "execution_count": 34,
   "metadata": {},
   "outputs": [],
   "source": [
    "Rsun = 5e-3 # AU\n",
    "def aRoche(Mstar): # assumes fluid body (coeff of 1.26) and a bulk density for the body of 3 g/cc\n",
    "    rho_sun = 1.4\n",
    "    rho_body = 3\n",
    "    return 1.26*Mstar**(1./3.)*(rho_sun/rho_body)**(1./3.)*Rsun # Return value in AU\n",
    "\n",
    "def Rstar(Mstar): # Returns radius of star in AU at time interpolated in cell above\n",
    "    if Mstar < 0.1: # function can't interpolate below 0.1\n",
    "        Mstar = 0.1\n",
    "    return 10**PolyRfuncM(np.log10(Mstar))*Rsun"
   ]
  },
  {
   "cell_type": "code",
   "execution_count": 35,
   "metadata": {},
   "outputs": [],
   "source": [
    "aRoches = np.array([aRoche(10**M) for M in starmasses])/Rsun\n",
    "Rstars = np.array([Rstar(10**M) for M in starmasses])/Rsun"
   ]
  },
  {
   "cell_type": "markdown",
   "metadata": {},
   "source": [
    "# The Roche Limit is inside the stars for all values of the mass at 1 Myr. Presumably the Roche Limit is outside low-mass stars once they have contracted? Worth checking?"
   ]
  },
  {
   "cell_type": "code",
   "execution_count": 36,
   "metadata": {},
   "outputs": [
    {
     "data": {
      "text/plain": [
       "<matplotlib.text.Text at 0x118718b00>"
      ]
     },
     "execution_count": 36,
     "metadata": {},
     "output_type": "execute_result"
    },
    {
     "data": {
      "image/png": "[encoded data removed]",
      "text/plain": [
       "<matplotlib.figure.Figure at 0x113de1b70>"
      ]
     },
     "metadata": {},
     "output_type": "display_data"
    }
   ],
   "source": [
    "fig, ax = plt.subplots()\n",
    "ax.plot(starmasses, aRoches, label='Roche Limit')\n",
    "ax.plot(starmasses, Rstars, label='Stellar radius at 1 Myr')\n",
    "ax.legend()\n",
    "ax.set_xlabel('log M star (Solar Masses)')\n",
    "ax.set_ylabel('Distance (Solar Radii)')"
   ]
  },
  {
   "cell_type": "code",
   "execution_count": 37,
   "metadata": {},
   "outputs": [
    {
     "name": "stdout",
     "output_type": "stream",
     "text": [
      "0.00827518408627 0.00867691967798 0.0037372797947 0.00344043277907\n"
     ]
    }
   ],
   "source": [
    "R1 = Rstar(M1)\n",
    "R2 = Rstar(M2)\n",
    "aRoche1 = aRoche(M1)\n",
    "aRoche2 = aRoche(M2)\n",
    "print(R1, R2, aRoche1, aRoche2)"
   ]
  },
  {
   "cell_type": "markdown",
   "metadata": {},
   "source": [
    "# Put above steps all together in a function"
   ]
  },
  {
   "cell_type": "code",
   "execution_count": 38,
   "metadata": {},
   "outputs": [],
   "source": [
    "def sample():\n",
    "    Mprimary = 10**logIMFsampler.sample()[0] # returns array\n",
    "    startype = get_type(Mprimary)\n",
    "    mf = typemasses[startype][2]\n",
    "    randfloat = np.random.random()\n",
    "    if randfloat > mf:\n",
    "        r[startype]['msingleWB'] += Mprimary\n",
    "        return 0\n",
    "    \n",
    "    # draw random Nbody simulation and get dimensoinalized masses from Msystem\n",
    "    randseed = np.random.randint(len(seeds))\n",
    "    mind1 = Nbodymind1s[randseed]\n",
    "    mind2 = Nbodymind2s[randseed]\n",
    "    mratio = mratios[randseed] # secondary has mass mratio\n",
    "    ebin = ebinarys[randseed]\n",
    "    M1 = Mprimary\n",
    "    M2 = M1*mratio\n",
    "\n",
    "    # get primary stellar type and create abinary sampler to get abinary and dimensionalize minds\n",
    "    logabinsampler = Sampler(logabinaries, logabinPDF[startype])\n",
    "    abinary = 10**logabinsampler.sample()[0]\n",
    "    mind1 *= abinary\n",
    "    mind2 *= abinary\n",
    "\n",
    "    acp = acritprimary(mratio, ebin)*abinary\n",
    "    if acp > aWBcutoff:\n",
    "        r[startype]['msingleWB'] += M1 + M2\n",
    "        return 1\n",
    "    else:\n",
    "        r[startype]['mCB'] += M1 + M2\n",
    "    \n",
    "    acrit = acritcbp(mratio, ebin)*abinary\n",
    "    Ltot = Lstar(M1) + Lstar(M2)\n",
    "    aice = np.sqrt(Ltot/(np.pi*sbconst))/(2.*Tice**2)/AU\n",
    "    \n",
    "    # calculate radii and roche limits\n",
    "    R1 = Rstar(M1)\n",
    "    R2 = Rstar(M2)\n",
    "    aRoche1 = aRoche(M1)\n",
    "    aRoche2 = aRoche(M2)\n",
    "    \n",
    "    q = r[startype]\n",
    "    q['abinaries'].append(abinary)\n",
    "    q['mind1s'].append(mind1)\n",
    "    q['mind2s'].append(mind2)\n",
    "    q['R1s'].append(R1)\n",
    "    q['R2s'].append(R2)\n",
    "    q['aRoche1s'].append(aRoche1)\n",
    "    q['aRoche2s'].append(aRoche2)\n",
    "    q['acrits'].append(acrit)\n",
    "    q['aices'].append(aice)\n",
    "    q['M1s'].append(M1)\n",
    "    q['M2s'].append(M2)\n",
    "\n",
    "    return 2"
   ]
  },
  {
   "cell_type": "markdown",
   "metadata": {},
   "source": [
    "# Sample"
   ]
  },
  {
   "cell_type": "code",
   "execution_count": 39,
   "metadata": {},
   "outputs": [
    {
     "name": "stdout",
     "output_type": "stream",
     "text": [
      "CPU times: user 5min 7s, sys: 7.5 s, total: 5min 14s\n",
      "Wall time: 5min 16s\n"
     ]
    }
   ],
   "source": [
    "%%time\n",
    "startypes = ['VLM', 'M', 'FGK', 'A', 'OB']\n",
    "fields = ['abinaries', 'mind1s', 'mind2s', 'R1s', 'R2s', 'aRoche1s', 'aRoche2s', 'acrits', 'aices', 'M1s', 'M2s']\n",
    "r = {}\n",
    "for startype in startypes:\n",
    "    r[startype] = {'msingleWB':0., 'mCB':0.}\n",
    "    for field in fields:\n",
    "        r[startype][field] = []\n",
    "\n",
    "Nsamples = 1000000\n",
    "samples = np.array([sample() for i in range(Nsamples)])"
   ]
  },
  {
   "cell_type": "markdown",
   "metadata": {},
   "source": [
    "# Distribution of binarity type"
   ]
  },
  {
   "cell_type": "code",
   "execution_count": 40,
   "metadata": {},
   "outputs": [
    {
     "data": {
      "text/plain": [
       "(array([ 677289.,       0.,       0.,       0.,       0.,   76939.,\n",
       "              0.,       0.,       0.,  245772.]),\n",
       " array([ 0. ,  0.2,  0.4,  0.6,  0.8,  1. ,  1.2,  1.4,  1.6,  1.8,  2. ]),\n",
       " <a list of 10 Patch objects>)"
      ]
     },
     "execution_count": 40,
     "metadata": {},
     "output_type": "execute_result"
    },
    {
     "data": {
      "image/png": "[encoded data removed]",
      "text/plain": [
       "<matplotlib.figure.Figure at 0x11787bda0>"
      ]
     },
     "metadata": {},
     "output_type": "display_data"
    }
   ],
   "source": [
    "plt.hist(samples)"
   ]
  },
  {
   "cell_type": "code",
   "execution_count": 41,
   "metadata": {},
   "outputs": [
    {
     "name": "stdout",
     "output_type": "stream",
     "text": [
      "677289/1000000 = 0.6773 singles\n",
      "76939/1000000 = 0.0769 wide binaries\n",
      "245772/1000000 = 0.2458 tight binaries\n"
     ]
    }
   ],
   "source": [
    "print(\"{0}/{1} = {2:.4f} singles\".format((samples==0).sum(), len(samples), (samples==0).sum()/float(len(samples))))\n",
    "print(\"{0}/{1} = {2:.4f} wide binaries\".format((samples==1).sum(), len(samples), (samples==1).sum()/float(len(samples))))\n",
    "print(\"{0}/{1} = {2:.4f} tight binaries\".format((samples==2).sum(), len(samples), (samples==2).sum()/float(len(samples))))"
   ]
  },
  {
   "cell_type": "markdown",
   "metadata": {},
   "source": [
    "# Total Mass breakdown"
   ]
  },
  {
   "cell_type": "code",
   "execution_count": 42,
   "metadata": {},
   "outputs": [
    {
     "name": "stdout",
     "output_type": "stream",
     "text": [
      "Mass in circumbinaries vs singles/wide binaries = 0.5260666259254204\n",
      "Mass in circumbinaries per stellar type\n",
      "0.0 in VLM\n",
      "0.22936707883562502 in M\n",
      "0.2327142907807487 in FGK\n",
      "0.36699734942671286 in A\n",
      "0.17092128095691334 in OB\n"
     ]
    }
   ],
   "source": [
    "msingleWB = np.array([r[startype]['msingleWB'] for startype in startypes]).sum()\n",
    "mCB = np.array([r[startype]['mCB'] for startype in startypes]).sum()\n",
    "print(\"Mass in circumbinaries vs singles/wide binaries = {0}\".format(mCB/msingleWB))\n",
    "\n",
    "print(\"Mass in circumbinaries per stellar type\")\n",
    "for startype in startypes:\n",
    "    print(\"{0} in {1}\".format(r[startype]['mCB']/mCB, startype))"
   ]
  },
  {
   "cell_type": "markdown",
   "metadata": {},
   "source": [
    "# Distribution of Stellar Radii\n",
    "\n",
    "Peak at low values for M stars is because most secondaries have M < 0.1, which is outside interpolation range for stellar radii, so they're assigned R(M=0.1)"
   ]
  },
  {
   "cell_type": "code",
   "execution_count": 61,
   "metadata": {},
   "outputs": [
    {
     "data": {
      "text/plain": [
       "<matplotlib.legend.Legend at 0x1214c1978>"
      ]
     },
     "execution_count": 61,
     "metadata": {},
     "output_type": "execute_result"
    },
    {
     "data": {
      "image/png": "[encoded data removed]",
      "text/plain": [
       "<matplotlib.figure.Figure at 0x1214fb898>"
      ]
     },
     "metadata": {},
     "output_type": "display_data"
    }
   ],
   "source": [
    "fig, ax = plt.subplots()\n",
    "for startype in startypes:\n",
    "    R1s = np.array(r[startype]['R1s'])\n",
    "    R2s = np.array(r[startype]['R2s'])\n",
    "    bins, vals, patches = ax.hist(np.concatenate((R1s/Rsun, R2s/Rsun)), bins=30, label=startype)\n",
    "ax.set_xlabel('Stellar radius (Solar Radii)', fontsize=16)\n",
    "ax.set_ylim([0,30000])\n",
    "ax.legend()"
   ]
  },
  {
   "cell_type": "markdown",
   "metadata": {},
   "source": [
    "# Distribution of Roche Limits"
   ]
  },
  {
   "cell_type": "code",
   "execution_count": 62,
   "metadata": {},
   "outputs": [
    {
     "data": {
      "text/plain": [
       "<matplotlib.legend.Legend at 0x1214c7b38>"
      ]
     },
     "execution_count": 62,
     "metadata": {},
     "output_type": "execute_result"
    },
    {
     "data": {
      "image/png": "[encoded data removed]",
      "text/plain": [
       "<matplotlib.figure.Figure at 0x1214fb7b8>"
      ]
     },
     "metadata": {},
     "output_type": "display_data"
    }
   ],
   "source": [
    "fig, ax = plt.subplots()\n",
    "for startype in startypes:\n",
    "    aRoche1s = np.array(r[startype]['aRoche1s'])\n",
    "    aRoche2s = np.array(r[startype]['aRoche2s'])\n",
    "    bins, vals, patches = ax.hist(np.concatenate((aRoche1s/Rsun, aRoche2s/Rsun)), bins=100, label=startype)\n",
    "ax.set_xlabel('Roche radius (Solar Radii)', fontsize=16)\n",
    "ax.legend()"
   ]
  },
  {
   "cell_type": "markdown",
   "metadata": {},
   "source": [
    "# Distribution of binary separations\n",
    "\n",
    "For OB, part of the tail toward large separations is due to drawing an OB system mass, but then ending up with a primary that is an A star due to random draw of mass ratio"
   ]
  },
  {
   "cell_type": "code",
   "execution_count": 63,
   "metadata": {},
   "outputs": [
    {
     "data": {
      "text/plain": [
       "<matplotlib.legend.Legend at 0x11fc06320>"
      ]
     },
     "execution_count": 63,
     "metadata": {},
     "output_type": "execute_result"
    },
    {
     "data": {
      "image/png": "[encoded data removed]",
      "text/plain": [
       "<matplotlib.figure.Figure at 0x11fc06be0>"
      ]
     },
     "metadata": {},
     "output_type": "display_data"
    }
   ],
   "source": [
    "fig, ax = plt.subplots()\n",
    "for startype in startypes:\n",
    "    logabin = np.log10(r[startype]['abinaries'])\n",
    "    bins, vals, patches = ax.hist(logabin, bins=100, label=startype)\n",
    "ax.set_xlabel('Log binary separation (AU)', fontsize=16)\n",
    "ax.legend()"
   ]
  },
  {
   "cell_type": "markdown",
   "metadata": {},
   "source": [
    "# Distribution of log min distances in units of stellar radii"
   ]
  },
  {
   "cell_type": "code",
   "execution_count": 64,
   "metadata": {},
   "outputs": [
    {
     "data": {
      "text/plain": [
       "<matplotlib.legend.Legend at 0x122a62a90>"
      ]
     },
     "execution_count": 64,
     "metadata": {},
     "output_type": "execute_result"
    },
    {
     "data": {
      "image/png": "[encoded data removed]",
      "text/plain": [
       "<matplotlib.figure.Figure at 0x121ee1be0>"
      ]
     },
     "metadata": {},
     "output_type": "display_data"
    }
   ],
   "source": [
    "fig, ax = plt.subplots()\n",
    "for startype in startypes:\n",
    "    logd1Rs = np.log10(np.array(r[startype]['mind1s'])/np.array(r[startype]['R1s']))\n",
    "    logd2Rs = np.log10(np.array(r[startype]['mind2s'])/np.array(r[startype]['R2s']))\n",
    "    ds = np.concatenate([logd1Rs, logd2Rs])\n",
    "    bins, vals, patches = ax.hist(ds, bins=100, label=startype)\n",
    "ax.set_xlabel('Log min distance (Stellar Radii)', fontsize=16)\n",
    "ax.legend()"
   ]
  },
  {
   "cell_type": "code",
   "execution_count": 65,
   "metadata": {},
   "outputs": [
    {
     "name": "stdout",
     "output_type": "stream",
     "text": [
      "Number of collisions:\n",
      "VLM: 0/0 = nan\n",
      "M: 6685/328188 = 0.02036942240423172\n",
      "FGK: 2556/100506 = 0.025431317533281594\n",
      "A: 2293/56752 = 0.040403862418945585\n",
      "OB: 189/6098 = 0.030993768448671695\n"
     ]
    },
    {
     "name": "stderr",
     "output_type": "stream",
     "text": [
      "/anaconda/envs/p3/lib/python3.6/site-packages/ipykernel/__main__.py:6: RuntimeWarning: invalid value encountered in true_divide\n"
     ]
    }
   ],
   "source": [
    "print(\"Number of collisions:\")\n",
    "for startype in startypes:\n",
    "    logd1Rs = np.log10(np.array(r[startype]['mind1s'])/np.array(r[startype]['R1s']))\n",
    "    logd2Rs = np.log10(np.array(r[startype]['mind2s'])/np.array(r[startype]['R2s']))\n",
    "    ds = np.concatenate([logd1Rs, logd2Rs])\n",
    "    print(\"{0}: {1}/{2} = {3}\".format(startype, (ds < 0).sum(), len(ds), (ds < 0).sum()/float(len(ds))))"
   ]
  },
  {
   "cell_type": "markdown",
   "metadata": {},
   "source": [
    "# Distribution of log min distances in units of Roche radii"
   ]
  },
  {
   "cell_type": "code",
   "execution_count": 66,
   "metadata": {},
   "outputs": [
    {
     "data": {
      "text/plain": [
       "<matplotlib.legend.Legend at 0x120905f28>"
      ]
     },
     "execution_count": 66,
     "metadata": {},
     "output_type": "execute_result"
    },
    {
     "data": {
      "image/png": "[encoded data removed]",
      "text/plain": [
       "<matplotlib.figure.Figure at 0x120905908>"
      ]
     },
     "metadata": {},
     "output_type": "display_data"
    }
   ],
   "source": [
    "fig, ax = plt.subplots()\n",
    "for startype in startypes:\n",
    "    logd1Roches = np.log10(np.array(r[startype]['mind1s'])/np.array(r[startype]['aRoche1s']))\n",
    "    logd2Roches = np.log10(np.array(r[startype]['mind2s'])/np.array(r[startype]['aRoche2s']))\n",
    "    ds = np.concatenate([logd1Roches, logd2Roches])\n",
    "    bins, vals, patches = ax.hist(ds, bins=100, label=startype)\n",
    "ax.set_xlabel('Log min distance (Roche Radii)', fontsize=16)\n",
    "ax.legend()"
   ]
  },
  {
   "cell_type": "markdown",
   "metadata": {},
   "source": [
    "# Can tidal disruptions even occur?\n",
    "\n",
    "Check how many samples had Roche radius outside stellar radius"
   ]
  },
  {
   "cell_type": "code",
   "execution_count": 67,
   "metadata": {},
   "outputs": [
    {
     "name": "stdout",
     "output_type": "stream",
     "text": [
      "Number of disruptions:\n",
      "VLM: 0/0 = nan\n",
      "M: 0/328188 = 0.0\n"
     ]
    },
    {
     "name": "stderr",
     "output_type": "stream",
     "text": [
      "/anaconda/envs/p3/lib/python3.6/site-packages/ipykernel/__main__.py:9: RuntimeWarning: invalid value encountered in true_divide\n"
     ]
    },
    {
     "name": "stdout",
     "output_type": "stream",
     "text": [
      "FGK: 0/100506 = 0.0\n",
      "A: 0/56752 = 0.0\n",
      "OB: 0/6098 = 0.0\n"
     ]
    }
   ],
   "source": [
    "print(\"Number of disruptions:\")\n",
    "for startype in startypes:\n",
    "    logd1Roches = np.log10(np.array(r[startype]['mind1s'])/np.array(r[startype]['aRoche1s']))\n",
    "    logd2Roches = np.log10(np.array(r[startype]['mind2s'])/np.array(r[startype]['aRoche2s']))\n",
    "    ds = np.concatenate([logd1Roches, logd2Roches])\n",
    "    fracs = np.concatenate((np.array(r[startype]['aRoche1s'])/np.array(r[startype]['R1s']), np.array(r[startype]['aRoche2s'])/np.array(r[startype]['R2s'])))\n",
    "    mask = ds < 0\n",
    "    disruptioncandidates = ds[mask]\n",
    "    print(\"{0}: {1}/{2} = {3}\".format(startype, (disruptioncandidates > 1).sum(), len(ds), (disruptioncandidates > 1).sum()/float(len(ds))))"
   ]
  },
  {
   "cell_type": "markdown",
   "metadata": {},
   "source": [
    "# Ice Lines"
   ]
  },
  {
   "cell_type": "code",
   "execution_count": 69,
   "metadata": {},
   "outputs": [
    {
     "data": {
      "text/plain": [
       "<matplotlib.legend.Legend at 0x1243e4f28>"
      ]
     },
     "execution_count": 69,
     "metadata": {},
     "output_type": "execute_result"
    },
    {
     "data": {
      "image/png": "[encoded data removed]",
      "text/plain": [
       "<matplotlib.figure.Figure at 0x123d5ca58>"
      ]
     },
     "metadata": {},
     "output_type": "display_data"
    }
   ],
   "source": [
    "fig, ax = plt.subplots()\n",
    "for startype in startypes:\n",
    "    logaice = np.log10(np.array(r[startype]['aices'])/np.array(r[startype]['acrits']))\n",
    "    bins, vals, patches = ax.hist(logaice, bins=100, label=startype)\n",
    "ax.set_xlabel('Log aice/acrit', fontsize=16)\n",
    "ax.legend()"
   ]
  },
  {
   "cell_type": "markdown",
   "metadata": {},
   "source": [
    "# Mass weighted ice lines"
   ]
  },
  {
   "cell_type": "code",
   "execution_count": 70,
   "metadata": {},
   "outputs": [],
   "source": [
    "Nbins = 99\n",
    "bins = np.linspace(-4, 5, Nbins, endpoint=False)\n",
    "spacing = bins[1]-bins[0]"
   ]
  },
  {
   "cell_type": "code",
   "execution_count": 71,
   "metadata": {},
   "outputs": [],
   "source": [
    "vals = {}\n",
    "for startype in startypes:\n",
    "    vals[startype] = np.zeros(Nbins)\n",
    "totvals = np.zeros(Nbins)\n",
    "    \n",
    "for startype in startypes:\n",
    "    logaices = np.log10(np.array(r[startype]['aices'])/np.array(r[startype]['acrits']))\n",
    "    Mtots = np.array(r[startype]['M1s']) + np.array(r[startype]['M2s'])\n",
    "    for logaice, Mtot in zip(logaices, Mtots):\n",
    "        for i, b in enumerate(bins):\n",
    "            if logaice >= b and logaice < b+spacing:\n",
    "                vals[startype][i] += Mtot\n",
    "                totvals[i] += Mtot"
   ]
  },
  {
   "cell_type": "markdown",
   "metadata": {},
   "source": [
    "# Total mass weighted ice line distribution "
   ]
  },
  {
   "cell_type": "code",
   "execution_count": 72,
   "metadata": {},
   "outputs": [
    {
     "data": {
      "text/plain": [
       "<matplotlib.text.Text at 0x123d2ffd0>"
      ]
     },
     "execution_count": 72,
     "metadata": {},
     "output_type": "execute_result"
    },
    {
     "data": {
      "image/png": "[encoded data removed]",
      "text/plain": [
       "<matplotlib.figure.Figure at 0x1232c6278>"
      ]
     },
     "metadata": {},
     "output_type": "display_data"
    }
   ],
   "source": [
    "fig, ax = plt.subplots()\n",
    "ax.bar(bins, totvals)\n",
    "ax.set_xlabel('Log aice/acrit', fontsize=16)"
   ]
  },
  {
   "cell_type": "code",
   "execution_count": 73,
   "metadata": {},
   "outputs": [
    {
     "name": "stdout",
     "output_type": "stream",
     "text": [
      "Fraction of mass with ice line > acrit = 0.5951029664138955\n"
     ]
    }
   ],
   "source": [
    "t = np.array(totvals)\n",
    "tot = t.sum()\n",
    "\n",
    "print('Fraction of mass with ice line > acrit = {0}'.format(t[(bins > 0)].sum()/tot))"
   ]
  },
  {
   "cell_type": "markdown",
   "metadata": {},
   "source": [
    "# Mass weighted ice line distribution broken down by stellar type"
   ]
  },
  {
   "cell_type": "code",
   "execution_count": 74,
   "metadata": {},
   "outputs": [
    {
     "name": "stderr",
     "output_type": "stream",
     "text": [
      "/anaconda/envs/p3/lib/python3.6/site-packages/ipykernel/__main__.py:6: RuntimeWarning: invalid value encountered in double_scalars\n"
     ]
    },
    {
     "name": "stdout",
     "output_type": "stream",
     "text": [
      "VLM: Fraction of mass with ice line > acrit = nan\n",
      "M: Fraction of mass with ice line > acrit = 0.28048538593492023\n",
      "FGK: Fraction of mass with ice line > acrit = 0.37393512922214417\n",
      "A: Fraction of mass with ice line > acrit = 0.7506682790735534\n",
      "OB: Fraction of mass with ice line > acrit = 0.9853004139519941\n"
     ]
    },
    {
     "data": {
      "text/plain": [
       "<matplotlib.legend.Legend at 0x124d43ba8>"
      ]
     },
     "execution_count": 74,
     "metadata": {},
     "output_type": "execute_result"
    },
    {
     "data": {
      "image/png": "[encoded data removed]",
      "text/plain": [
       "<matplotlib.figure.Figure at 0x1255651d0>"
      ]
     },
     "metadata": {},
     "output_type": "display_data"
    }
   ],
   "source": [
    "fig, ax = plt.subplots()\n",
    "for startype in startypes:\n",
    "    ax.bar(bins, vals[startype], label=startype)\n",
    "    t = np.array(vals[startype])\n",
    "    tot = t.sum()\n",
    "    print('{0}: Fraction of mass with ice line > acrit = {1}'.format(startype, t[(bins > 0)].sum()/tot))\n",
    "ax.set_xlabel('Log aice/acrit', fontsize=16)\n",
    "ax.legend()"
   ]
  },
  {
   "cell_type": "code",
   "execution_count": null,
   "metadata": {},
   "outputs": [],
   "source": []
  }
 ],
 "metadata": {
  "kernelspec": {
   "display_name": "Python [default]",
   "language": "python",
   "name": "python3"
  },
  "language_info": {
   "codemirror_mode": {
    "name": "ipython",
    "version": 3
   },
   "file_extension": ".py",
   "mimetype": "text/x-python",
   "name": "python",
   "nbconvert_exporter": "python",
   "pygments_lexer": "ipython3",
   "version": "3.6.2"
  }
 },
 "nbformat": 4,
 "nbformat_minor": 2
}
